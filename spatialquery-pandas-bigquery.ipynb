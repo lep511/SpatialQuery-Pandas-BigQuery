{
 "cells": [
  {
   "cell_type": "markdown",
   "id": "ff7acb1d",
   "metadata": {
    "papermill": {
     "duration": 0.010046,
     "end_time": "2022-05-25T16:34:48.972292",
     "exception": false,
     "start_time": "2022-05-25T16:34:48.962246",
     "status": "completed"
    },
    "tags": []
   },
   "source": [
    "**[Machine Learning Course Home Page](https://www.kaggle.com/learn/machine-learning)**\n",
    "\n",
    "---\n"
   ]
  },
  {
   "cell_type": "code",
   "execution_count": 1,
   "id": "a1707131",
   "metadata": {
    "execution": {
     "iopub.execute_input": "2022-05-25T16:34:48.992599Z",
     "iopub.status.busy": "2022-05-25T16:34:48.991643Z",
     "iopub.status.idle": "2022-05-25T16:34:50.085376Z",
     "shell.execute_reply": "2022-05-25T16:34:50.084347Z"
    },
    "papermill": {
     "duration": 1.107087,
     "end_time": "2022-05-25T16:34:50.088284",
     "exception": false,
     "start_time": "2022-05-25T16:34:48.981197",
     "status": "completed"
    },
    "tags": []
   },
   "outputs": [
    {
     "name": "stderr",
     "output_type": "stream",
     "text": [
      "/opt/conda/lib/python3.7/site-packages/geopandas/_compat.py:115: UserWarning: The Shapely GEOS version (3.9.1-CAPI-1.14.2) is incompatible with the GEOS version PyGEOS was compiled with (3.10.1-CAPI-1.16.0). Conversions between both will be slow.\n",
      "  shapely_geos_version, geos_capi_version_string\n"
     ]
    }
   ],
   "source": [
    "import pandas as pd\n",
    "import geopandas\n",
    "import folium\n",
    "import branca\n",
    "from folium.plugins import MarkerCluster\n",
    "import matplotlib.pyplot as plt"
   ]
  },
  {
   "cell_type": "code",
   "execution_count": 2,
   "id": "604e27e8",
   "metadata": {
    "execution": {
     "iopub.execute_input": "2022-05-25T16:34:50.109127Z",
     "iopub.status.busy": "2022-05-25T16:34:50.108178Z",
     "iopub.status.idle": "2022-05-25T16:34:50.114267Z",
     "shell.execute_reply": "2022-05-25T16:34:50.113398Z"
    },
    "papermill": {
     "duration": 0.018784,
     "end_time": "2022-05-25T16:34:50.116601",
     "exception": false,
     "start_time": "2022-05-25T16:34:50.097817",
     "status": "completed"
    },
    "tags": []
   },
   "outputs": [],
   "source": [
    "# BigQuery\n",
    "from google.cloud import bigquery\n",
    "bigquery_client = bigquery.Client(project='flights-328723')"
   ]
  },
  {
   "cell_type": "code",
   "execution_count": 3,
   "id": "b3be9938",
   "metadata": {
    "execution": {
     "iopub.execute_input": "2022-05-25T16:34:50.136149Z",
     "iopub.status.busy": "2022-05-25T16:34:50.135764Z",
     "iopub.status.idle": "2022-05-25T16:34:50.727499Z",
     "shell.execute_reply": "2022-05-25T16:34:50.726265Z"
    },
    "papermill": {
     "duration": 0.605232,
     "end_time": "2022-05-25T16:34:50.730653",
     "exception": false,
     "start_time": "2022-05-25T16:34:50.125421",
     "status": "completed"
    },
    "tags": []
   },
   "outputs": [
    {
     "name": "stdout",
     "output_type": "stream",
     "text": [
      "counties\n",
      "h_loc\n",
      "hospitals_all\n",
      "locations_all\n"
     ]
    }
   ],
   "source": [
    "for i in bigquery_client.list_tables(\"hospitals\"):\n",
    "    print(i.table_id)"
   ]
  },
  {
   "cell_type": "markdown",
   "id": "87e438a6",
   "metadata": {
    "papermill": {
     "duration": 0.009335,
     "end_time": "2022-05-25T16:34:50.749168",
     "exception": false,
     "start_time": "2022-05-25T16:34:50.739833",
     "status": "completed"
    },
    "tags": []
   },
   "source": [
    "## Step 1: Loading Data"
   ]
  },
  {
   "cell_type": "code",
   "execution_count": 4,
   "id": "f5210247",
   "metadata": {
    "execution": {
     "iopub.execute_input": "2022-05-25T16:34:50.768749Z",
     "iopub.status.busy": "2022-05-25T16:34:50.768368Z",
     "iopub.status.idle": "2022-05-25T16:34:52.119867Z",
     "shell.execute_reply": "2022-05-25T16:34:52.118861Z"
    },
    "papermill": {
     "duration": 1.364112,
     "end_time": "2022-05-25T16:34:52.122159",
     "exception": false,
     "start_time": "2022-05-25T16:34:50.758047",
     "status": "completed"
    },
    "tags": []
   },
   "outputs": [
    {
     "data": {
      "text/html": [
       "<div>\n",
       "<style scoped>\n",
       "    .dataframe tbody tr th:only-of-type {\n",
       "        vertical-align: middle;\n",
       "    }\n",
       "\n",
       "    .dataframe tbody tr th {\n",
       "        vertical-align: top;\n",
       "    }\n",
       "\n",
       "    .dataframe thead th {\n",
       "        text-align: right;\n",
       "    }\n",
       "</style>\n",
       "<table border=\"1\" class=\"dataframe\">\n",
       "  <thead>\n",
       "    <tr style=\"text-align: right;\">\n",
       "      <th></th>\n",
       "      <th>id</th>\n",
       "      <th>name</th>\n",
       "      <th>city</th>\n",
       "      <th>state</th>\n",
       "      <th>lon</th>\n",
       "      <th>lat</th>\n",
       "    </tr>\n",
       "  </thead>\n",
       "  <tbody>\n",
       "    <tr>\n",
       "      <th>0</th>\n",
       "      <td>2119</td>\n",
       "      <td>Ponape State Hospital</td>\n",
       "      <td>None</td>\n",
       "      <td>None</td>\n",
       "      <td>158.216385</td>\n",
       "      <td>6.952780</td>\n",
       "    </tr>\n",
       "    <tr>\n",
       "      <th>1</th>\n",
       "      <td>2112</td>\n",
       "      <td>Centro Medico Barrio Espino</td>\n",
       "      <td>ANASCO</td>\n",
       "      <td>None</td>\n",
       "      <td>-67.107956</td>\n",
       "      <td>18.284678</td>\n",
       "    </tr>\n",
       "    <tr>\n",
       "      <th>2</th>\n",
       "      <td>2115</td>\n",
       "      <td>Hospital General Rodriguez</td>\n",
       "      <td>CATANO</td>\n",
       "      <td>None</td>\n",
       "      <td>-66.119614</td>\n",
       "      <td>18.467722</td>\n",
       "    </tr>\n",
       "    <tr>\n",
       "      <th>3</th>\n",
       "      <td>2118</td>\n",
       "      <td>Sanatorio Ruiz Soler</td>\n",
       "      <td>BAYAMON</td>\n",
       "      <td>None</td>\n",
       "      <td>-66.128784</td>\n",
       "      <td>18.400503</td>\n",
       "    </tr>\n",
       "    <tr>\n",
       "      <th>4</th>\n",
       "      <td>160</td>\n",
       "      <td>De Poo Hospital</td>\n",
       "      <td>KEY WEST</td>\n",
       "      <td>None</td>\n",
       "      <td>-81.796486</td>\n",
       "      <td>24.557648</td>\n",
       "    </tr>\n",
       "  </tbody>\n",
       "</table>\n",
       "</div>"
      ],
      "text/plain": [
       "     id                         name      city state         lon        lat\n",
       "0  2119        Ponape State Hospital      None  None  158.216385   6.952780\n",
       "1  2112  Centro Medico Barrio Espino    ANASCO  None  -67.107956  18.284678\n",
       "2  2115   Hospital General Rodriguez    CATANO  None  -66.119614  18.467722\n",
       "3  2118         Sanatorio Ruiz Soler   BAYAMON  None  -66.128784  18.400503\n",
       "4   160              De Poo Hospital  KEY WEST  None  -81.796486  24.557648"
      ]
     },
     "execution_count": 4,
     "metadata": {},
     "output_type": "execute_result"
    }
   ],
   "source": [
    "df = bigquery_client.query('''\n",
    "    SELECT *\n",
    "    FROM `hospitals.hospitals_all`\n",
    "    '''\n",
    "    ).result().to_dataframe(create_bqstorage_client=False)\n",
    "df.head()"
   ]
  },
  {
   "cell_type": "code",
   "execution_count": 5,
   "id": "e666f3c2",
   "metadata": {
    "execution": {
     "iopub.execute_input": "2022-05-25T16:34:52.142120Z",
     "iopub.status.busy": "2022-05-25T16:34:52.141190Z",
     "iopub.status.idle": "2022-05-25T16:34:52.149095Z",
     "shell.execute_reply": "2022-05-25T16:34:52.148354Z"
    },
    "papermill": {
     "duration": 0.019946,
     "end_time": "2022-05-25T16:34:52.150973",
     "exception": false,
     "start_time": "2022-05-25T16:34:52.131027",
     "status": "completed"
    },
    "tags": []
   },
   "outputs": [
    {
     "data": {
      "text/plain": [
       "(6501, 6)"
      ]
     },
     "execution_count": 5,
     "metadata": {},
     "output_type": "execute_result"
    }
   ],
   "source": [
    "df.shape"
   ]
  },
  {
   "cell_type": "code",
   "execution_count": 6,
   "id": "235b3b8a",
   "metadata": {
    "execution": {
     "iopub.execute_input": "2022-05-25T16:34:52.171682Z",
     "iopub.status.busy": "2022-05-25T16:34:52.171156Z",
     "iopub.status.idle": "2022-05-25T16:34:52.181118Z",
     "shell.execute_reply": "2022-05-25T16:34:52.180356Z"
    },
    "papermill": {
     "duration": 0.022526,
     "end_time": "2022-05-25T16:34:52.183201",
     "exception": false,
     "start_time": "2022-05-25T16:34:52.160675",
     "status": "completed"
    },
    "tags": []
   },
   "outputs": [],
   "source": [
    "gdf = geopandas.GeoDataFrame(\n",
    "    df, geometry=geopandas.points_from_xy(df.lon, df.lat))"
   ]
  },
  {
   "cell_type": "code",
   "execution_count": 7,
   "id": "14cfae56",
   "metadata": {
    "execution": {
     "iopub.execute_input": "2022-05-25T16:34:52.203528Z",
     "iopub.status.busy": "2022-05-25T16:34:52.202857Z",
     "iopub.status.idle": "2022-05-25T16:34:53.763398Z",
     "shell.execute_reply": "2022-05-25T16:34:53.762280Z"
    },
    "papermill": {
     "duration": 1.573328,
     "end_time": "2022-05-25T16:34:53.765728",
     "exception": false,
     "start_time": "2022-05-25T16:34:52.192400",
     "status": "completed"
    },
    "tags": []
   },
   "outputs": [
    {
     "data": {
      "image/png": "[encoded data removed]",
      "text/plain": [
       "<Figure size 432x288 with 1 Axes>"
      ]
     },
     "metadata": {
      "needs_background": "light"
     },
     "output_type": "display_data"
    }
   ],
   "source": [
    "world = geopandas.read_file(geopandas.datasets.get_path('naturalearth_lowres'))\n",
    "\n",
    "# We restrict to North America.\n",
    "ax = world[world.continent == 'North America'].plot(\n",
    "    color='white', edgecolor='black')\n",
    "\n",
    "# We can now plot our ``GeoDataFrame``.\n",
    "gdf.plot(ax=ax, color='red')\n",
    "\n",
    "plt.show()"
   ]
  },
  {
   "cell_type": "code",
   "execution_count": 8,
   "id": "1637316f",
   "metadata": {
    "execution": {
     "iopub.execute_input": "2022-05-25T16:34:53.786433Z",
     "iopub.status.busy": "2022-05-25T16:34:53.786014Z",
     "iopub.status.idle": "2022-05-25T16:34:55.645042Z",
     "shell.execute_reply": "2022-05-25T16:34:55.643840Z"
    },
    "papermill": {
     "duration": 1.872583,
     "end_time": "2022-05-25T16:34:55.647717",
     "exception": false,
     "start_time": "2022-05-25T16:34:53.775134",
     "status": "completed"
    },
    "tags": []
   },
   "outputs": [
    {
     "data": {
      "text/html": [
       "<div>\n",
       "<style scoped>\n",
       "    .dataframe tbody tr th:only-of-type {\n",
       "        vertical-align: middle;\n",
       "    }\n",
       "\n",
       "    .dataframe tbody tr th {\n",
       "        vertical-align: top;\n",
       "    }\n",
       "\n",
       "    .dataframe thead th {\n",
       "        text-align: right;\n",
       "    }\n",
       "</style>\n",
       "<table border=\"1\" class=\"dataframe\">\n",
       "  <thead>\n",
       "    <tr style=\"text-align: right;\">\n",
       "      <th></th>\n",
       "      <th>NAME</th>\n",
       "      <th>STATE_NAME</th>\n",
       "      <th>POP2000</th>\n",
       "      <th>shape_WKT</th>\n",
       "    </tr>\n",
       "  </thead>\n",
       "  <tbody>\n",
       "    <tr>\n",
       "      <th>0</th>\n",
       "      <td>Johnson</td>\n",
       "      <td>Iowa</td>\n",
       "      <td>111006</td>\n",
       "      <td>MULTIPOLYGON (((-91.37131301578644 41.42487775...</td>\n",
       "    </tr>\n",
       "    <tr>\n",
       "      <th>1</th>\n",
       "      <td>Johnson</td>\n",
       "      <td>Iowa</td>\n",
       "      <td>111006</td>\n",
       "      <td>MULTIPOLYGON (((-91.37131301578644 41.42487775...</td>\n",
       "    </tr>\n",
       "    <tr>\n",
       "      <th>2</th>\n",
       "      <td>Fremont</td>\n",
       "      <td>Iowa</td>\n",
       "      <td>8010</td>\n",
       "      <td>MULTIPOLYGON (((-95.3948932409456 40.908703148...</td>\n",
       "    </tr>\n",
       "    <tr>\n",
       "      <th>3</th>\n",
       "      <td>Fremont</td>\n",
       "      <td>Iowa</td>\n",
       "      <td>8010</td>\n",
       "      <td>MULTIPOLYGON (((-95.3948932409456 40.908703148...</td>\n",
       "    </tr>\n",
       "    <tr>\n",
       "      <th>4</th>\n",
       "      <td>Muscatine</td>\n",
       "      <td>Iowa</td>\n",
       "      <td>41722</td>\n",
       "      <td>MULTIPOLYGON (((-91.07342897262018 41.33492537...</td>\n",
       "    </tr>\n",
       "  </tbody>\n",
       "</table>\n",
       "</div>"
      ],
      "text/plain": [
       "        NAME STATE_NAME  POP2000  \\\n",
       "0    Johnson       Iowa   111006   \n",
       "1    Johnson       Iowa   111006   \n",
       "2    Fremont       Iowa     8010   \n",
       "3    Fremont       Iowa     8010   \n",
       "4  Muscatine       Iowa    41722   \n",
       "\n",
       "                                           shape_WKT  \n",
       "0  MULTIPOLYGON (((-91.37131301578644 41.42487775...  \n",
       "1  MULTIPOLYGON (((-91.37131301578644 41.42487775...  \n",
       "2  MULTIPOLYGON (((-95.3948932409456 40.908703148...  \n",
       "3  MULTIPOLYGON (((-95.3948932409456 40.908703148...  \n",
       "4  MULTIPOLYGON (((-91.07342897262018 41.33492537...  "
      ]
     },
     "execution_count": 8,
     "metadata": {},
     "output_type": "execute_result"
    }
   ],
   "source": [
    "df_counties = bigquery_client.query('''\n",
    "SELECT\n",
    "  NAME,\n",
    "  STATE_NAME,\n",
    "  POP2000,\n",
    "  shape_WKT\n",
    "FROM `flights-328723.hospitals.locations_all`\n",
    "''').result().to_dataframe(create_bqstorage_client=False)\n",
    "df_counties.head()"
   ]
  },
  {
   "cell_type": "code",
   "execution_count": 9,
   "id": "1aed6c7a",
   "metadata": {
    "execution": {
     "iopub.execute_input": "2022-05-25T16:34:55.669753Z",
     "iopub.status.busy": "2022-05-25T16:34:55.669159Z",
     "iopub.status.idle": "2022-05-25T16:34:55.674110Z",
     "shell.execute_reply": "2022-05-25T16:34:55.673441Z"
    },
    "papermill": {
     "duration": 0.018132,
     "end_time": "2022-05-25T16:34:55.676056",
     "exception": false,
     "start_time": "2022-05-25T16:34:55.657924",
     "status": "completed"
    },
    "tags": []
   },
   "outputs": [
    {
     "data": {
      "text/plain": [
       "(6282, 4)"
      ]
     },
     "execution_count": 9,
     "metadata": {},
     "output_type": "execute_result"
    }
   ],
   "source": [
    "df_counties.shape"
   ]
  },
  {
   "cell_type": "code",
   "execution_count": 10,
   "id": "24531a4f",
   "metadata": {
    "execution": {
     "iopub.execute_input": "2022-05-25T16:34:55.698598Z",
     "iopub.status.busy": "2022-05-25T16:34:55.697914Z",
     "iopub.status.idle": "2022-05-25T16:34:55.703017Z",
     "shell.execute_reply": "2022-05-25T16:34:55.702335Z"
    },
    "papermill": {
     "duration": 0.019167,
     "end_time": "2022-05-25T16:34:55.705041",
     "exception": false,
     "start_time": "2022-05-25T16:34:55.685874",
     "status": "completed"
    },
    "tags": []
   },
   "outputs": [],
   "source": [
    "def search_point(lat, lon):\n",
    "    \n",
    "    sql = bigquery_client.query(f'''\n",
    "    SELECT\n",
    "    NAME,\n",
    "    STATE_NAME,\n",
    "    POP2000,\n",
    "    shape_WKT\n",
    "    FROM `flights-328723.hospitals.locations_all`\n",
    "    WHERE ST_CONTAINS(SAFE.ST_GEOGFROMTEXT(shape_WKT), ST_GEOGPOINT({lat}, {lon}))\n",
    "    ''').result().to_dataframe(create_bqstorage_client=False)\n",
    "    return sql"
   ]
  },
  {
   "cell_type": "code",
   "execution_count": 11,
   "id": "b5dc68e9",
   "metadata": {
    "execution": {
     "iopub.execute_input": "2022-05-25T16:34:55.726744Z",
     "iopub.status.busy": "2022-05-25T16:34:55.725885Z",
     "iopub.status.idle": "2022-05-25T16:34:56.647553Z",
     "shell.execute_reply": "2022-05-25T16:34:56.646769Z"
    },
    "papermill": {
     "duration": 0.934797,
     "end_time": "2022-05-25T16:34:56.649722",
     "exception": false,
     "start_time": "2022-05-25T16:34:55.714925",
     "status": "completed"
    },
    "tags": []
   },
   "outputs": [
    {
     "data": {
      "text/html": [
       "<div>\n",
       "<style scoped>\n",
       "    .dataframe tbody tr th:only-of-type {\n",
       "        vertical-align: middle;\n",
       "    }\n",
       "\n",
       "    .dataframe tbody tr th {\n",
       "        vertical-align: top;\n",
       "    }\n",
       "\n",
       "    .dataframe thead th {\n",
       "        text-align: right;\n",
       "    }\n",
       "</style>\n",
       "<table border=\"1\" class=\"dataframe\">\n",
       "  <thead>\n",
       "    <tr style=\"text-align: right;\">\n",
       "      <th></th>\n",
       "      <th>NAME</th>\n",
       "      <th>STATE_NAME</th>\n",
       "      <th>POP2000</th>\n",
       "      <th>shape_WKT</th>\n",
       "    </tr>\n",
       "  </thead>\n",
       "  <tbody>\n",
       "    <tr>\n",
       "      <th>0</th>\n",
       "      <td>Ulster</td>\n",
       "      <td>New York</td>\n",
       "      <td>177749</td>\n",
       "      <td>MULTIPOLYGON (((-74.37041002098069 41.59433191...</td>\n",
       "    </tr>\n",
       "    <tr>\n",
       "      <th>1</th>\n",
       "      <td>Ulster</td>\n",
       "      <td>New York</td>\n",
       "      <td>177749</td>\n",
       "      <td>MULTIPOLYGON (((-74.37041002098069 41.59433191...</td>\n",
       "    </tr>\n",
       "  </tbody>\n",
       "</table>\n",
       "</div>"
      ],
      "text/plain": [
       "     NAME STATE_NAME  POP2000  \\\n",
       "0  Ulster   New York   177749   \n",
       "1  Ulster   New York   177749   \n",
       "\n",
       "                                           shape_WKT  \n",
       "0  MULTIPOLYGON (((-74.37041002098069 41.59433191...  \n",
       "1  MULTIPOLYGON (((-74.37041002098069 41.59433191...  "
      ]
     },
     "execution_count": 11,
     "metadata": {},
     "output_type": "execute_result"
    }
   ],
   "source": [
    "result = search_point(-74.237, 42.037)\n",
    "result"
   ]
  },
  {
   "cell_type": "code",
   "execution_count": 12,
   "id": "d341d95f",
   "metadata": {
    "execution": {
     "iopub.execute_input": "2022-05-25T16:34:56.671788Z",
     "iopub.status.busy": "2022-05-25T16:34:56.671116Z",
     "iopub.status.idle": "2022-05-25T16:34:56.676257Z",
     "shell.execute_reply": "2022-05-25T16:34:56.675535Z"
    },
    "papermill": {
     "duration": 0.018622,
     "end_time": "2022-05-25T16:34:56.678330",
     "exception": false,
     "start_time": "2022-05-25T16:34:56.659708",
     "status": "completed"
    },
    "tags": []
   },
   "outputs": [],
   "source": [
    "def search_hospitals(lat, lon, distance=50):\n",
    "  \n",
    "    sql = bigquery_client.query(f'''\n",
    "    SELECT\n",
    "    *,\n",
    "    ROUND(ST_DISTANCE(ST_GEOGPOINT(lon, lat), ST_GEOGPOINT({lat}, {lon})) / 1000, 2) as distance\n",
    "    FROM\n",
    "    `flights-328723.hospitals.hospitals_all`\n",
    "    WHERE\n",
    "    (ST_DISTANCE(ST_GEOGPOINT(lon, lat), ST_GEOGPOINT({lat}, {lon})) / 1000) < {distance}\n",
    "    ORDER BY 3\n",
    "    ''').result().to_dataframe(create_bqstorage_client=False)\n",
    "    return sql"
   ]
  },
  {
   "cell_type": "code",
   "execution_count": 13,
   "id": "b6c106ab",
   "metadata": {
    "execution": {
     "iopub.execute_input": "2022-05-25T16:34:56.700487Z",
     "iopub.status.busy": "2022-05-25T16:34:56.699746Z",
     "iopub.status.idle": "2022-05-25T16:34:58.734687Z",
     "shell.execute_reply": "2022-05-25T16:34:58.733762Z"
    },
    "papermill": {
     "duration": 2.048463,
     "end_time": "2022-05-25T16:34:58.736709",
     "exception": false,
     "start_time": "2022-05-25T16:34:56.688246",
     "status": "completed"
    },
    "tags": []
   },
   "outputs": [
    {
     "data": {
      "text/html": [
       "<div>\n",
       "<style scoped>\n",
       "    .dataframe tbody tr th:only-of-type {\n",
       "        vertical-align: middle;\n",
       "    }\n",
       "\n",
       "    .dataframe tbody tr th {\n",
       "        vertical-align: top;\n",
       "    }\n",
       "\n",
       "    .dataframe thead th {\n",
       "        text-align: right;\n",
       "    }\n",
       "</style>\n",
       "<table border=\"1\" class=\"dataframe\">\n",
       "  <thead>\n",
       "    <tr style=\"text-align: right;\">\n",
       "      <th></th>\n",
       "      <th>id</th>\n",
       "      <th>name</th>\n",
       "      <th>city</th>\n",
       "      <th>state</th>\n",
       "      <th>lon</th>\n",
       "      <th>lat</th>\n",
       "      <th>distance</th>\n",
       "    </tr>\n",
       "  </thead>\n",
       "  <tbody>\n",
       "    <tr>\n",
       "      <th>0</th>\n",
       "      <td>862</td>\n",
       "      <td>Park Avenue Hospital</td>\n",
       "      <td>BRIGHTON</td>\n",
       "      <td>NY</td>\n",
       "      <td>-77.574722</td>\n",
       "      <td>43.146732</td>\n",
       "      <td>0.00</td>\n",
       "    </tr>\n",
       "    <tr>\n",
       "      <th>1</th>\n",
       "      <td>5540</td>\n",
       "      <td>County Home and Infirmary</td>\n",
       "      <td>BRIGHTON</td>\n",
       "      <td>NY</td>\n",
       "      <td>-77.618614</td>\n",
       "      <td>43.113392</td>\n",
       "      <td>5.14</td>\n",
       "    </tr>\n",
       "    <tr>\n",
       "      <th>2</th>\n",
       "      <td>5561</td>\n",
       "      <td>Genesee Hospital</td>\n",
       "      <td>BRIGHTON</td>\n",
       "      <td>NY</td>\n",
       "      <td>-77.595009</td>\n",
       "      <td>43.150063</td>\n",
       "      <td>1.69</td>\n",
       "    </tr>\n",
       "    <tr>\n",
       "      <th>3</th>\n",
       "      <td>5573</td>\n",
       "      <td>Highland Hospital</td>\n",
       "      <td>BRIGHTON</td>\n",
       "      <td>NY</td>\n",
       "      <td>-77.605003</td>\n",
       "      <td>43.135620</td>\n",
       "      <td>2.75</td>\n",
       "    </tr>\n",
       "    <tr>\n",
       "      <th>4</th>\n",
       "      <td>5676</td>\n",
       "      <td>Saint Marys Hospital</td>\n",
       "      <td>BRIGHTON</td>\n",
       "      <td>NY</td>\n",
       "      <td>-77.636665</td>\n",
       "      <td>43.149231</td>\n",
       "      <td>5.03</td>\n",
       "    </tr>\n",
       "    <tr>\n",
       "      <th>5</th>\n",
       "      <td>5694</td>\n",
       "      <td>Strong Memorial Hospital</td>\n",
       "      <td>BRIGHTON</td>\n",
       "      <td>NY</td>\n",
       "      <td>-77.626396</td>\n",
       "      <td>43.122562</td>\n",
       "      <td>4.98</td>\n",
       "    </tr>\n",
       "    <tr>\n",
       "      <th>6</th>\n",
       "      <td>5587</td>\n",
       "      <td>Lakeside Memorial Hospital</td>\n",
       "      <td>BROCKPORT</td>\n",
       "      <td>NY</td>\n",
       "      <td>-77.944733</td>\n",
       "      <td>43.220890</td>\n",
       "      <td>31.11</td>\n",
       "    </tr>\n",
       "    <tr>\n",
       "      <th>7</th>\n",
       "      <td>5646</td>\n",
       "      <td>Rochester General Hospital</td>\n",
       "      <td>IRONDEQUOIT</td>\n",
       "      <td>NY</td>\n",
       "      <td>-77.586945</td>\n",
       "      <td>43.192001</td>\n",
       "      <td>5.13</td>\n",
       "    </tr>\n",
       "    <tr>\n",
       "      <th>8</th>\n",
       "      <td>846</td>\n",
       "      <td>Convalescent Hospital for Children</td>\n",
       "      <td>SCOTTSVILLE</td>\n",
       "      <td>NY</td>\n",
       "      <td>-77.702782</td>\n",
       "      <td>43.080063</td>\n",
       "      <td>12.77</td>\n",
       "    </tr>\n",
       "  </tbody>\n",
       "</table>\n",
       "</div>"
      ],
      "text/plain": [
       "     id                                name         city state        lon  \\\n",
       "0   862                Park Avenue Hospital     BRIGHTON    NY -77.574722   \n",
       "1  5540           County Home and Infirmary     BRIGHTON    NY -77.618614   \n",
       "2  5561                    Genesee Hospital     BRIGHTON    NY -77.595009   \n",
       "3  5573                   Highland Hospital     BRIGHTON    NY -77.605003   \n",
       "4  5676                Saint Marys Hospital     BRIGHTON    NY -77.636665   \n",
       "5  5694            Strong Memorial Hospital     BRIGHTON    NY -77.626396   \n",
       "6  5587          Lakeside Memorial Hospital    BROCKPORT    NY -77.944733   \n",
       "7  5646          Rochester General Hospital  IRONDEQUOIT    NY -77.586945   \n",
       "8   846  Convalescent Hospital for Children  SCOTTSVILLE    NY -77.702782   \n",
       "\n",
       "         lat  distance  \n",
       "0  43.146732      0.00  \n",
       "1  43.113392      5.14  \n",
       "2  43.150063      1.69  \n",
       "3  43.135620      2.75  \n",
       "4  43.149231      5.03  \n",
       "5  43.122562      4.98  \n",
       "6  43.220890     31.11  \n",
       "7  43.192001      5.13  \n",
       "8  43.080063     12.77  "
      ]
     },
     "execution_count": 13,
     "metadata": {},
     "output_type": "execute_result"
    }
   ],
   "source": [
    "point = (-77.574722, 43.146732)\n",
    "df = search_hospitals(*point)\n",
    "df"
   ]
  },
  {
   "cell_type": "code",
   "execution_count": 14,
   "id": "1c60f4bb",
   "metadata": {
    "execution": {
     "iopub.execute_input": "2022-05-25T16:34:58.758947Z",
     "iopub.status.busy": "2022-05-25T16:34:58.758553Z",
     "iopub.status.idle": "2022-05-25T16:34:58.767455Z",
     "shell.execute_reply": "2022-05-25T16:34:58.766616Z"
    },
    "papermill": {
     "duration": 0.02256,
     "end_time": "2022-05-25T16:34:58.769411",
     "exception": false,
     "start_time": "2022-05-25T16:34:58.746851",
     "status": "completed"
    },
    "tags": []
   },
   "outputs": [],
   "source": [
    "def popup_html(i):\n",
    "    institution_name = df['name'].iloc[i] \n",
    "    city = df['city'].iloc[i]\n",
    "    state = df['state'].iloc[i] \n",
    "    distance = df['distance'].iloc[i] \n",
    "\n",
    "    left_col_color = \"#404040\"\n",
    "    right_col_color = \"#E6E6E6\"\n",
    "    \n",
    "    html = \"\"\"<!DOCTYPE html>\n",
    "<html>\n",
    "<head>\n",
    "<h4 style=\"text-align: center; margin-bottom:10\"; width=\"200px\">{}</h4>\"\"\".format(institution_name) + \"\"\"\n",
    "</head>\n",
    "    <table style=\"height: 126px; width: 350px\">\n",
    "<tbody>\n",
    "<p class=\"aligncenter\">\n",
    "    <img src=\"https://www.pngmart.com/files/21/Hospital-Vector-PNG-Free-Download.png\" alt=\"Hospital\" style=\"width:120px;height:120px;\">\n",
    "</p>\n",
    "<style>\n",
    ".aligncenter {\n",
    "    text-align: center;\n",
    "}\n",
    "</style>\n",
    "<tr>\n",
    "<td style=\"padding: 6px;background-color: \"\"\"+ left_col_color +\"\"\";\"><span style=\"color: #BFBFBF;\">Institution Name</span></td>\n",
    "<td style=\"padding: 6px;width: 200px;background-color: \"\"\"+ right_col_color +\"\"\";\">{}</td>\"\"\".format(institution_name) + \"\"\"\n",
    "</tr>\n",
    "<tr>\n",
    "<td style=\"padding: 6px;background-color: \"\"\"+ left_col_color +\"\"\";\"><span style=\"color: #BFBFBF;\">City</span></td>\n",
    "<td style=\"padding: 6px;width: 200px;background-color: \"\"\"+ right_col_color +\"\"\";\">{}</td>\"\"\".format(city) + \"\"\"\n",
    "</tr>\n",
    "<tr>\n",
    "<td style=\"padding: 6px;background-color: \"\"\"+ left_col_color +\"\"\";\"><span style=\"color: #BFBFBF;\">State</span></td>\n",
    "<td style=\"padding: 6px;width: 200px;background-color: \"\"\"+ right_col_color +\"\"\";\">{}</td>\"\"\".format(state) + \"\"\"\n",
    "</tr>\n",
    "<tr>\n",
    "<td style=\"padding: 6px;background-color: \"\"\"+ left_col_color +\"\"\";\"><span style=\"color: #BFBFBF;\">Distance</span></td>\n",
    "<td style=\"padding: 6px;width: 200px;background-color: \"\"\"+ right_col_color +\"\"\";\">{}</td>\"\"\".format(distance) + \"\"\"\n",
    "</tr>\n",
    "</tbody>\n",
    "</table>\n",
    "</html>\n",
    "\"\"\"\n",
    "    return html"
   ]
  },
  {
   "cell_type": "code",
   "execution_count": 15,
   "id": "b6a30125",
   "metadata": {
    "execution": {
     "iopub.execute_input": "2022-05-25T16:34:58.791685Z",
     "iopub.status.busy": "2022-05-25T16:34:58.791201Z",
     "iopub.status.idle": "2022-05-25T16:34:58.796997Z",
     "shell.execute_reply": "2022-05-25T16:34:58.796339Z"
    },
    "papermill": {
     "duration": 0.019147,
     "end_time": "2022-05-25T16:34:58.798724",
     "exception": false,
     "start_time": "2022-05-25T16:34:58.779577",
     "status": "completed"
    },
    "tags": []
   },
   "outputs": [],
   "source": [
    "gdf = geopandas.GeoDataFrame(\n",
    "    df, geometry=geopandas.points_from_xy(df.lon, df.lat))"
   ]
  },
  {
   "cell_type": "code",
   "execution_count": 16,
   "id": "ece806bf",
   "metadata": {
    "execution": {
     "iopub.execute_input": "2022-05-25T16:34:58.821157Z",
     "iopub.status.busy": "2022-05-25T16:34:58.820572Z",
     "iopub.status.idle": "2022-05-25T16:34:58.891163Z",
     "shell.execute_reply": "2022-05-25T16:34:58.890165Z"
    },
    "papermill": {
     "duration": 0.084283,
     "end_time": "2022-05-25T16:34:58.893527",
     "exception": false,
     "start_time": "2022-05-25T16:34:58.809244",
     "status": "completed"
    },
    "tags": []
   },
   "outputs": [
    {
     "data": {
      "text/html": [
       "<div style=\"width:100%;\"><div style=\"position:relative;width:100%;height:0;padding-bottom:60%;\"><span style=\"color:#565656\">Make this Notebook Trusted to load map: File -> Trust Notebook</span><iframe srcdoc=\"&lt;!DOCTYPE html&gt;\n",
       "&lt;head&gt;    \n",
       "    &lt;meta http-equiv=&quot;content-type&quot; content=&quot;text/html; charset=UTF-8&quot; /&gt;\n",
       "    \n",
       "        &lt;script&gt;\n",
       "            L_NO_TOUCH = false;\n",
       "            L_DISABLE_3D = false;\n",
       "        &lt;/script&gt;\n",
       "    \n",
       "    &lt;style&gt;html, body {width: 100%;height: 100%;margin: 0;padding: 0;}&lt;/style&gt;\n",
       "    &lt;style&gt;#map {position:absolute;top:0;bottom:0;right:0;left:0;}&lt;/style&gt;\n",
       "    &lt;script src=&quot;https://cdn.jsdelivr.net/npm/leaflet@1.6.0/dist/leaflet.js&quot;&gt;&lt;/script&gt;\n",
       "    &lt;script src=&quot;https://code.jquery.com/jquery-1.12.4.min.js&quot;&gt;&lt;/script&gt;\n",
       "    &lt;script src=&quot;https://maxcdn.bootstrapcdn.com/bootstrap/3.2.0/js/bootstrap.min.js&quot;&gt;&lt;/script&gt;\n",
       "    &lt;script src=&quot;https://cdnjs.cloudflare.com/ajax/libs/Leaflet.awesome-markers/2.0.2/leaflet.awesome-markers.js&quot;&gt;&lt;/script&gt;\n",
       "    &lt;link rel=&quot;stylesheet&quot; href=&quot;https://cdn.jsdelivr.net/npm/leaflet@1.6.0/dist/leaflet.css&quot;/&gt;\n",
       "    &lt;link rel=&quot;stylesheet&quot; href=&quot;https://maxcdn.bootstrapcdn.com/bootstrap/3.2.0/css/bootstrap.min.css&quot;/&gt;\n",
       "    &lt;link rel=&quot;stylesheet&quot; href=&quot;https://maxcdn.bootstrapcdn.com/bootstrap/3.2.0/css/bootstrap-theme.min.css&quot;/&gt;\n",
       "    &lt;link rel=&quot;stylesheet&quot; href=&quot;https://maxcdn.bootstrapcdn.com/font-awesome/4.6.3/css/font-awesome.min.css&quot;/&gt;\n",
       "    &lt;link rel=&quot;stylesheet&quot; href=&quot;https://cdnjs.cloudflare.com/ajax/libs/Leaflet.awesome-markers/2.0.2/leaflet.awesome-markers.css&quot;/&gt;\n",
       "    &lt;link rel=&quot;stylesheet&quot; href=&quot;https://cdn.jsdelivr.net/gh/python-visualization/folium/folium/templates/leaflet.awesome.rotate.min.css&quot;/&gt;\n",
       "    \n",
       "            &lt;meta name=&quot;viewport&quot; content=&quot;width=device-width,\n",
       "                initial-scale=1.0, maximum-scale=1.0, user-scalable=no&quot; /&gt;\n",
       "            &lt;style&gt;\n",
       "                #map_fa87c0a95378834d25ca864fca3ddc03 {\n",
       "                    position: relative;\n",
       "                    width: 100.0%;\n",
       "                    height: 100.0%;\n",
       "                    left: 0.0%;\n",
       "                    top: 0.0%;\n",
       "                }\n",
       "            &lt;/style&gt;\n",
       "        \n",
       "&lt;/head&gt;\n",
       "&lt;body&gt;    \n",
       "    \n",
       "            &lt;div class=&quot;folium-map&quot; id=&quot;map_fa87c0a95378834d25ca864fca3ddc03&quot; &gt;&lt;/div&gt;\n",
       "        \n",
       "&lt;/body&gt;\n",
       "&lt;script&gt;    \n",
       "    \n",
       "            var map_fa87c0a95378834d25ca864fca3ddc03 = L.map(\n",
       "                &quot;map_fa87c0a95378834d25ca864fca3ddc03&quot;,\n",
       "                {\n",
       "                    center: [43.146732, -77.574722],\n",
       "                    crs: L.CRS.EPSG3857,\n",
       "                    zoom: 8,\n",
       "                    zoomControl: true,\n",
       "                    preferCanvas: false,\n",
       "                }\n",
       "            );\n",
       "\n",
       "            \n",
       "\n",
       "        \n",
       "    \n",
       "            var tile_layer_0eaf51f0b61b825b52880769e1db657b = L.tileLayer(\n",
       "                &quot;https://cartodb-basemaps-{s}.global.ssl.fastly.net/light_all/{z}/{x}/{y}.png&quot;,\n",
       "                {&quot;attribution&quot;: &quot;\\u0026copy; \\u003ca href=\\&quot;http://www.openstreetmap.org/copyright\\&quot;\\u003eOpenStreetMap\\u003c/a\\u003e contributors \\u0026copy; \\u003ca href=\\&quot;http://cartodb.com/attributions\\&quot;\\u003eCartoDB\\u003c/a\\u003e, CartoDB \\u003ca href =\\&quot;http://cartodb.com/attributions\\&quot;\\u003eattributions\\u003c/a\\u003e&quot;, &quot;detectRetina&quot;: false, &quot;maxNativeZoom&quot;: 16, &quot;maxZoom&quot;: 16, &quot;minZoom&quot;: 5, &quot;noWrap&quot;: false, &quot;opacity&quot;: 1, &quot;subdomains&quot;: &quot;abc&quot;, &quot;tms&quot;: false}\n",
       "            ).addTo(map_fa87c0a95378834d25ca864fca3ddc03);\n",
       "        \n",
       "    \n",
       "            var marker_81ce08e247f97a494f222bc5066e5533 = L.marker(\n",
       "                [43.146732, -77.574722],\n",
       "                {}\n",
       "            ).addTo(map_fa87c0a95378834d25ca864fca3ddc03);\n",
       "        \n",
       "    \n",
       "            var icon_76ad5ddae7cf540e4a6804046317a7af = L.AwesomeMarkers.icon(\n",
       "                {&quot;extraClasses&quot;: &quot;fa-rotate-0&quot;, &quot;icon&quot;: &quot;info&quot;, &quot;iconColor&quot;: &quot;white&quot;, &quot;markerColor&quot;: &quot;blue&quot;, &quot;prefix&quot;: &quot;fa&quot;}\n",
       "            );\n",
       "            marker_81ce08e247f97a494f222bc5066e5533.setIcon(icon_76ad5ddae7cf540e4a6804046317a7af);\n",
       "        \n",
       "    \n",
       "        var popup_9e63714cf48ef08d49723013dbc477e2 = L.popup({&quot;maxWidth&quot;: 500});\n",
       "\n",
       "        \n",
       "            var html_3809556238168c2448ac3b8ed1e69832 = $(`&lt;div id=&quot;html_3809556238168c2448ac3b8ed1e69832&quot; style=&quot;width: 100.0%; height: 100.0%;&quot;&gt;&lt;!DOCTYPE html&gt; &lt;html&gt; &lt;head&gt; &lt;h4 style=&quot;text-align: center; margin-bottom:10&quot;; width=&quot;200px&quot;&gt;Park Avenue Hospital&lt;/h4&gt; &lt;/head&gt;     &lt;table style=&quot;height: 126px; width: 350px&quot;&gt; &lt;tbody&gt; &lt;p class=&quot;aligncenter&quot;&gt;     &lt;img src=&quot;https://www.pngmart.com/files/21/Hospital-Vector-PNG-Free-Download.png&quot; alt=&quot;Hospital&quot; style=&quot;width:120px;height:120px;&quot;&gt; &lt;/p&gt; &lt;style&gt; .aligncenter {     text-align: center; } &lt;/style&gt; &lt;tr&gt; &lt;td style=&quot;padding: 6px;background-color: #404040;&quot;&gt;&lt;span style=&quot;color: #BFBFBF;&quot;&gt;Institution Name&lt;/span&gt;&lt;/td&gt; &lt;td style=&quot;padding: 6px;width: 200px;background-color: #E6E6E6;&quot;&gt;Park Avenue Hospital&lt;/td&gt; &lt;/tr&gt; &lt;tr&gt; &lt;td style=&quot;padding: 6px;background-color: #404040;&quot;&gt;&lt;span style=&quot;color: #BFBFBF;&quot;&gt;City&lt;/span&gt;&lt;/td&gt; &lt;td style=&quot;padding: 6px;width: 200px;background-color: #E6E6E6;&quot;&gt;BRIGHTON&lt;/td&gt; &lt;/tr&gt; &lt;tr&gt; &lt;td style=&quot;padding: 6px;background-color: #404040;&quot;&gt;&lt;span style=&quot;color: #BFBFBF;&quot;&gt;State&lt;/span&gt;&lt;/td&gt; &lt;td style=&quot;padding: 6px;width: 200px;background-color: #E6E6E6;&quot;&gt;NY&lt;/td&gt; &lt;/tr&gt; &lt;tr&gt; &lt;td style=&quot;padding: 6px;background-color: #404040;&quot;&gt;&lt;span style=&quot;color: #BFBFBF;&quot;&gt;Distance&lt;/span&gt;&lt;/td&gt; &lt;td style=&quot;padding: 6px;width: 200px;background-color: #E6E6E6;&quot;&gt;0.0&lt;/td&gt; &lt;/tr&gt; &lt;/tbody&gt; &lt;/table&gt; &lt;/html&gt; &lt;/div&gt;`)[0];\n",
       "            popup_9e63714cf48ef08d49723013dbc477e2.setContent(html_3809556238168c2448ac3b8ed1e69832);\n",
       "        \n",
       "\n",
       "        marker_81ce08e247f97a494f222bc5066e5533.bindPopup(popup_9e63714cf48ef08d49723013dbc477e2)\n",
       "        ;\n",
       "\n",
       "        \n",
       "    \n",
       "    \n",
       "            var marker_9933765428ec4d28eff4f71cf60ec4e3 = L.marker(\n",
       "                [43.113392, -77.618614],\n",
       "                {}\n",
       "            ).addTo(map_fa87c0a95378834d25ca864fca3ddc03);\n",
       "        \n",
       "    \n",
       "            var icon_19d056315eec9cd50c34f42b510545e4 = L.AwesomeMarkers.icon(\n",
       "                {&quot;extraClasses&quot;: &quot;fa-rotate-0&quot;, &quot;icon&quot;: &quot;info&quot;, &quot;iconColor&quot;: &quot;white&quot;, &quot;markerColor&quot;: &quot;blue&quot;, &quot;prefix&quot;: &quot;fa&quot;}\n",
       "            );\n",
       "            marker_9933765428ec4d28eff4f71cf60ec4e3.setIcon(icon_19d056315eec9cd50c34f42b510545e4);\n",
       "        \n",
       "    \n",
       "        var popup_6f0a0023803eaec74c0c2c669392391b = L.popup({&quot;maxWidth&quot;: 500});\n",
       "\n",
       "        \n",
       "            var html_a6c16d5ff3b7755209f58ed78acb2f53 = $(`&lt;div id=&quot;html_a6c16d5ff3b7755209f58ed78acb2f53&quot; style=&quot;width: 100.0%; height: 100.0%;&quot;&gt;&lt;!DOCTYPE html&gt; &lt;html&gt; &lt;head&gt; &lt;h4 style=&quot;text-align: center; margin-bottom:10&quot;; width=&quot;200px&quot;&gt;County Home and Infirmary&lt;/h4&gt; &lt;/head&gt;     &lt;table style=&quot;height: 126px; width: 350px&quot;&gt; &lt;tbody&gt; &lt;p class=&quot;aligncenter&quot;&gt;     &lt;img src=&quot;https://www.pngmart.com/files/21/Hospital-Vector-PNG-Free-Download.png&quot; alt=&quot;Hospital&quot; style=&quot;width:120px;height:120px;&quot;&gt; &lt;/p&gt; &lt;style&gt; .aligncenter {     text-align: center; } &lt;/style&gt; &lt;tr&gt; &lt;td style=&quot;padding: 6px;background-color: #404040;&quot;&gt;&lt;span style=&quot;color: #BFBFBF;&quot;&gt;Institution Name&lt;/span&gt;&lt;/td&gt; &lt;td style=&quot;padding: 6px;width: 200px;background-color: #E6E6E6;&quot;&gt;County Home and Infirmary&lt;/td&gt; &lt;/tr&gt; &lt;tr&gt; &lt;td style=&quot;padding: 6px;background-color: #404040;&quot;&gt;&lt;span style=&quot;color: #BFBFBF;&quot;&gt;City&lt;/span&gt;&lt;/td&gt; &lt;td style=&quot;padding: 6px;width: 200px;background-color: #E6E6E6;&quot;&gt;BRIGHTON&lt;/td&gt; &lt;/tr&gt; &lt;tr&gt; &lt;td style=&quot;padding: 6px;background-color: #404040;&quot;&gt;&lt;span style=&quot;color: #BFBFBF;&quot;&gt;State&lt;/span&gt;&lt;/td&gt; &lt;td style=&quot;padding: 6px;width: 200px;background-color: #E6E6E6;&quot;&gt;NY&lt;/td&gt; &lt;/tr&gt; &lt;tr&gt; &lt;td style=&quot;padding: 6px;background-color: #404040;&quot;&gt;&lt;span style=&quot;color: #BFBFBF;&quot;&gt;Distance&lt;/span&gt;&lt;/td&gt; &lt;td style=&quot;padding: 6px;width: 200px;background-color: #E6E6E6;&quot;&gt;5.14&lt;/td&gt; &lt;/tr&gt; &lt;/tbody&gt; &lt;/table&gt; &lt;/html&gt; &lt;/div&gt;`)[0];\n",
       "            popup_6f0a0023803eaec74c0c2c669392391b.setContent(html_a6c16d5ff3b7755209f58ed78acb2f53);\n",
       "        \n",
       "\n",
       "        marker_9933765428ec4d28eff4f71cf60ec4e3.bindPopup(popup_6f0a0023803eaec74c0c2c669392391b)\n",
       "        ;\n",
       "\n",
       "        \n",
       "    \n",
       "    \n",
       "            var marker_6f93cd1d07eb0f173d5a01f844391d92 = L.marker(\n",
       "                [43.150063, -77.595009],\n",
       "                {}\n",
       "            ).addTo(map_fa87c0a95378834d25ca864fca3ddc03);\n",
       "        \n",
       "    \n",
       "            var icon_3dea87894783be29873f0299b42cb657 = L.AwesomeMarkers.icon(\n",
       "                {&quot;extraClasses&quot;: &quot;fa-rotate-0&quot;, &quot;icon&quot;: &quot;info&quot;, &quot;iconColor&quot;: &quot;white&quot;, &quot;markerColor&quot;: &quot;blue&quot;, &quot;prefix&quot;: &quot;fa&quot;}\n",
       "            );\n",
       "            marker_6f93cd1d07eb0f173d5a01f844391d92.setIcon(icon_3dea87894783be29873f0299b42cb657);\n",
       "        \n",
       "    \n",
       "        var popup_513b3538368c5badcd68632193a8ad46 = L.popup({&quot;maxWidth&quot;: 500});\n",
       "\n",
       "        \n",
       "            var html_0774e8b5cf108e924fce4ed6bb66c2d9 = $(`&lt;div id=&quot;html_0774e8b5cf108e924fce4ed6bb66c2d9&quot; style=&quot;width: 100.0%; height: 100.0%;&quot;&gt;&lt;!DOCTYPE html&gt; &lt;html&gt; &lt;head&gt; &lt;h4 style=&quot;text-align: center; margin-bottom:10&quot;; width=&quot;200px&quot;&gt;Genesee Hospital&lt;/h4&gt; &lt;/head&gt;     &lt;table style=&quot;height: 126px; width: 350px&quot;&gt; &lt;tbody&gt; &lt;p class=&quot;aligncenter&quot;&gt;     &lt;img src=&quot;https://www.pngmart.com/files/21/Hospital-Vector-PNG-Free-Download.png&quot; alt=&quot;Hospital&quot; style=&quot;width:120px;height:120px;&quot;&gt; &lt;/p&gt; &lt;style&gt; .aligncenter {     text-align: center; } &lt;/style&gt; &lt;tr&gt; &lt;td style=&quot;padding: 6px;background-color: #404040;&quot;&gt;&lt;span style=&quot;color: #BFBFBF;&quot;&gt;Institution Name&lt;/span&gt;&lt;/td&gt; &lt;td style=&quot;padding: 6px;width: 200px;background-color: #E6E6E6;&quot;&gt;Genesee Hospital&lt;/td&gt; &lt;/tr&gt; &lt;tr&gt; &lt;td style=&quot;padding: 6px;background-color: #404040;&quot;&gt;&lt;span style=&quot;color: #BFBFBF;&quot;&gt;City&lt;/span&gt;&lt;/td&gt; &lt;td style=&quot;padding: 6px;width: 200px;background-color: #E6E6E6;&quot;&gt;BRIGHTON&lt;/td&gt; &lt;/tr&gt; &lt;tr&gt; &lt;td style=&quot;padding: 6px;background-color: #404040;&quot;&gt;&lt;span style=&quot;color: #BFBFBF;&quot;&gt;State&lt;/span&gt;&lt;/td&gt; &lt;td style=&quot;padding: 6px;width: 200px;background-color: #E6E6E6;&quot;&gt;NY&lt;/td&gt; &lt;/tr&gt; &lt;tr&gt; &lt;td style=&quot;padding: 6px;background-color: #404040;&quot;&gt;&lt;span style=&quot;color: #BFBFBF;&quot;&gt;Distance&lt;/span&gt;&lt;/td&gt; &lt;td style=&quot;padding: 6px;width: 200px;background-color: #E6E6E6;&quot;&gt;1.69&lt;/td&gt; &lt;/tr&gt; &lt;/tbody&gt; &lt;/table&gt; &lt;/html&gt; &lt;/div&gt;`)[0];\n",
       "            popup_513b3538368c5badcd68632193a8ad46.setContent(html_0774e8b5cf108e924fce4ed6bb66c2d9);\n",
       "        \n",
       "\n",
       "        marker_6f93cd1d07eb0f173d5a01f844391d92.bindPopup(popup_513b3538368c5badcd68632193a8ad46)\n",
       "        ;\n",
       "\n",
       "        \n",
       "    \n",
       "    \n",
       "            var marker_e4bb9907f8d6038f26d10b2e3ed28481 = L.marker(\n",
       "                [43.13562, -77.605003],\n",
       "                {}\n",
       "            ).addTo(map_fa87c0a95378834d25ca864fca3ddc03);\n",
       "        \n",
       "    \n",
       "            var icon_80ef88b8093a6c308f989a69c69dd464 = L.AwesomeMarkers.icon(\n",
       "                {&quot;extraClasses&quot;: &quot;fa-rotate-0&quot;, &quot;icon&quot;: &quot;info&quot;, &quot;iconColor&quot;: &quot;white&quot;, &quot;markerColor&quot;: &quot;blue&quot;, &quot;prefix&quot;: &quot;fa&quot;}\n",
       "            );\n",
       "            marker_e4bb9907f8d6038f26d10b2e3ed28481.setIcon(icon_80ef88b8093a6c308f989a69c69dd464);\n",
       "        \n",
       "    \n",
       "        var popup_a45a4b0cf48ba999b004aa715457f592 = L.popup({&quot;maxWidth&quot;: 500});\n",
       "\n",
       "        \n",
       "            var html_d04de3e9d5e0d72e8d8cee1fe5fcb183 = $(`&lt;div id=&quot;html_d04de3e9d5e0d72e8d8cee1fe5fcb183&quot; style=&quot;width: 100.0%; height: 100.0%;&quot;&gt;&lt;!DOCTYPE html&gt; &lt;html&gt; &lt;head&gt; &lt;h4 style=&quot;text-align: center; margin-bottom:10&quot;; width=&quot;200px&quot;&gt;Highland Hospital&lt;/h4&gt; &lt;/head&gt;     &lt;table style=&quot;height: 126px; width: 350px&quot;&gt; &lt;tbody&gt; &lt;p class=&quot;aligncenter&quot;&gt;     &lt;img src=&quot;https://www.pngmart.com/files/21/Hospital-Vector-PNG-Free-Download.png&quot; alt=&quot;Hospital&quot; style=&quot;width:120px;height:120px;&quot;&gt; &lt;/p&gt; &lt;style&gt; .aligncenter {     text-align: center; } &lt;/style&gt; &lt;tr&gt; &lt;td style=&quot;padding: 6px;background-color: #404040;&quot;&gt;&lt;span style=&quot;color: #BFBFBF;&quot;&gt;Institution Name&lt;/span&gt;&lt;/td&gt; &lt;td style=&quot;padding: 6px;width: 200px;background-color: #E6E6E6;&quot;&gt;Highland Hospital&lt;/td&gt; &lt;/tr&gt; &lt;tr&gt; &lt;td style=&quot;padding: 6px;background-color: #404040;&quot;&gt;&lt;span style=&quot;color: #BFBFBF;&quot;&gt;City&lt;/span&gt;&lt;/td&gt; &lt;td style=&quot;padding: 6px;width: 200px;background-color: #E6E6E6;&quot;&gt;BRIGHTON&lt;/td&gt; &lt;/tr&gt; &lt;tr&gt; &lt;td style=&quot;padding: 6px;background-color: #404040;&quot;&gt;&lt;span style=&quot;color: #BFBFBF;&quot;&gt;State&lt;/span&gt;&lt;/td&gt; &lt;td style=&quot;padding: 6px;width: 200px;background-color: #E6E6E6;&quot;&gt;NY&lt;/td&gt; &lt;/tr&gt; &lt;tr&gt; &lt;td style=&quot;padding: 6px;background-color: #404040;&quot;&gt;&lt;span style=&quot;color: #BFBFBF;&quot;&gt;Distance&lt;/span&gt;&lt;/td&gt; &lt;td style=&quot;padding: 6px;width: 200px;background-color: #E6E6E6;&quot;&gt;2.75&lt;/td&gt; &lt;/tr&gt; &lt;/tbody&gt; &lt;/table&gt; &lt;/html&gt; &lt;/div&gt;`)[0];\n",
       "            popup_a45a4b0cf48ba999b004aa715457f592.setContent(html_d04de3e9d5e0d72e8d8cee1fe5fcb183);\n",
       "        \n",
       "\n",
       "        marker_e4bb9907f8d6038f26d10b2e3ed28481.bindPopup(popup_a45a4b0cf48ba999b004aa715457f592)\n",
       "        ;\n",
       "\n",
       "        \n",
       "    \n",
       "    \n",
       "            var marker_09071dc4375d0124c02a15bf11e17f3f = L.marker(\n",
       "                [43.149231, -77.636665],\n",
       "                {}\n",
       "            ).addTo(map_fa87c0a95378834d25ca864fca3ddc03);\n",
       "        \n",
       "    \n",
       "            var icon_0484f13df7ef568cb69a49a35651d697 = L.AwesomeMarkers.icon(\n",
       "                {&quot;extraClasses&quot;: &quot;fa-rotate-0&quot;, &quot;icon&quot;: &quot;info&quot;, &quot;iconColor&quot;: &quot;white&quot;, &quot;markerColor&quot;: &quot;blue&quot;, &quot;prefix&quot;: &quot;fa&quot;}\n",
       "            );\n",
       "            marker_09071dc4375d0124c02a15bf11e17f3f.setIcon(icon_0484f13df7ef568cb69a49a35651d697);\n",
       "        \n",
       "    \n",
       "        var popup_cca909191ec47f8cb2f98067f5d93849 = L.popup({&quot;maxWidth&quot;: 500});\n",
       "\n",
       "        \n",
       "            var html_7c78cf0132b0ba36491ab0033d20fef3 = $(`&lt;div id=&quot;html_7c78cf0132b0ba36491ab0033d20fef3&quot; style=&quot;width: 100.0%; height: 100.0%;&quot;&gt;&lt;!DOCTYPE html&gt; &lt;html&gt; &lt;head&gt; &lt;h4 style=&quot;text-align: center; margin-bottom:10&quot;; width=&quot;200px&quot;&gt;Saint Marys Hospital&lt;/h4&gt; &lt;/head&gt;     &lt;table style=&quot;height: 126px; width: 350px&quot;&gt; &lt;tbody&gt; &lt;p class=&quot;aligncenter&quot;&gt;     &lt;img src=&quot;https://www.pngmart.com/files/21/Hospital-Vector-PNG-Free-Download.png&quot; alt=&quot;Hospital&quot; style=&quot;width:120px;height:120px;&quot;&gt; &lt;/p&gt; &lt;style&gt; .aligncenter {     text-align: center; } &lt;/style&gt; &lt;tr&gt; &lt;td style=&quot;padding: 6px;background-color: #404040;&quot;&gt;&lt;span style=&quot;color: #BFBFBF;&quot;&gt;Institution Name&lt;/span&gt;&lt;/td&gt; &lt;td style=&quot;padding: 6px;width: 200px;background-color: #E6E6E6;&quot;&gt;Saint Marys Hospital&lt;/td&gt; &lt;/tr&gt; &lt;tr&gt; &lt;td style=&quot;padding: 6px;background-color: #404040;&quot;&gt;&lt;span style=&quot;color: #BFBFBF;&quot;&gt;City&lt;/span&gt;&lt;/td&gt; &lt;td style=&quot;padding: 6px;width: 200px;background-color: #E6E6E6;&quot;&gt;BRIGHTON&lt;/td&gt; &lt;/tr&gt; &lt;tr&gt; &lt;td style=&quot;padding: 6px;background-color: #404040;&quot;&gt;&lt;span style=&quot;color: #BFBFBF;&quot;&gt;State&lt;/span&gt;&lt;/td&gt; &lt;td style=&quot;padding: 6px;width: 200px;background-color: #E6E6E6;&quot;&gt;NY&lt;/td&gt; &lt;/tr&gt; &lt;tr&gt; &lt;td style=&quot;padding: 6px;background-color: #404040;&quot;&gt;&lt;span style=&quot;color: #BFBFBF;&quot;&gt;Distance&lt;/span&gt;&lt;/td&gt; &lt;td style=&quot;padding: 6px;width: 200px;background-color: #E6E6E6;&quot;&gt;5.03&lt;/td&gt; &lt;/tr&gt; &lt;/tbody&gt; &lt;/table&gt; &lt;/html&gt; &lt;/div&gt;`)[0];\n",
       "            popup_cca909191ec47f8cb2f98067f5d93849.setContent(html_7c78cf0132b0ba36491ab0033d20fef3);\n",
       "        \n",
       "\n",
       "        marker_09071dc4375d0124c02a15bf11e17f3f.bindPopup(popup_cca909191ec47f8cb2f98067f5d93849)\n",
       "        ;\n",
       "\n",
       "        \n",
       "    \n",
       "    \n",
       "            var marker_8e3f8527f3c0c46df709abfaeaaa9e77 = L.marker(\n",
       "                [43.122562, -77.626396],\n",
       "                {}\n",
       "            ).addTo(map_fa87c0a95378834d25ca864fca3ddc03);\n",
       "        \n",
       "    \n",
       "            var icon_0cd9edb1536f9071e94c9b4dbb341a2e = L.AwesomeMarkers.icon(\n",
       "                {&quot;extraClasses&quot;: &quot;fa-rotate-0&quot;, &quot;icon&quot;: &quot;info&quot;, &quot;iconColor&quot;: &quot;white&quot;, &quot;markerColor&quot;: &quot;blue&quot;, &quot;prefix&quot;: &quot;fa&quot;}\n",
       "            );\n",
       "            marker_8e3f8527f3c0c46df709abfaeaaa9e77.setIcon(icon_0cd9edb1536f9071e94c9b4dbb341a2e);\n",
       "        \n",
       "    \n",
       "        var popup_08f8b21cae304146ee5127494fdf901f = L.popup({&quot;maxWidth&quot;: 500});\n",
       "\n",
       "        \n",
       "            var html_967b8335dc62e5a7da7c6d95a9985b59 = $(`&lt;div id=&quot;html_967b8335dc62e5a7da7c6d95a9985b59&quot; style=&quot;width: 100.0%; height: 100.0%;&quot;&gt;&lt;!DOCTYPE html&gt; &lt;html&gt; &lt;head&gt; &lt;h4 style=&quot;text-align: center; margin-bottom:10&quot;; width=&quot;200px&quot;&gt;Strong Memorial Hospital&lt;/h4&gt; &lt;/head&gt;     &lt;table style=&quot;height: 126px; width: 350px&quot;&gt; &lt;tbody&gt; &lt;p class=&quot;aligncenter&quot;&gt;     &lt;img src=&quot;https://www.pngmart.com/files/21/Hospital-Vector-PNG-Free-Download.png&quot; alt=&quot;Hospital&quot; style=&quot;width:120px;height:120px;&quot;&gt; &lt;/p&gt; &lt;style&gt; .aligncenter {     text-align: center; } &lt;/style&gt; &lt;tr&gt; &lt;td style=&quot;padding: 6px;background-color: #404040;&quot;&gt;&lt;span style=&quot;color: #BFBFBF;&quot;&gt;Institution Name&lt;/span&gt;&lt;/td&gt; &lt;td style=&quot;padding: 6px;width: 200px;background-color: #E6E6E6;&quot;&gt;Strong Memorial Hospital&lt;/td&gt; &lt;/tr&gt; &lt;tr&gt; &lt;td style=&quot;padding: 6px;background-color: #404040;&quot;&gt;&lt;span style=&quot;color: #BFBFBF;&quot;&gt;City&lt;/span&gt;&lt;/td&gt; &lt;td style=&quot;padding: 6px;width: 200px;background-color: #E6E6E6;&quot;&gt;BRIGHTON&lt;/td&gt; &lt;/tr&gt; &lt;tr&gt; &lt;td style=&quot;padding: 6px;background-color: #404040;&quot;&gt;&lt;span style=&quot;color: #BFBFBF;&quot;&gt;State&lt;/span&gt;&lt;/td&gt; &lt;td style=&quot;padding: 6px;width: 200px;background-color: #E6E6E6;&quot;&gt;NY&lt;/td&gt; &lt;/tr&gt; &lt;tr&gt; &lt;td style=&quot;padding: 6px;background-color: #404040;&quot;&gt;&lt;span style=&quot;color: #BFBFBF;&quot;&gt;Distance&lt;/span&gt;&lt;/td&gt; &lt;td style=&quot;padding: 6px;width: 200px;background-color: #E6E6E6;&quot;&gt;4.98&lt;/td&gt; &lt;/tr&gt; &lt;/tbody&gt; &lt;/table&gt; &lt;/html&gt; &lt;/div&gt;`)[0];\n",
       "            popup_08f8b21cae304146ee5127494fdf901f.setContent(html_967b8335dc62e5a7da7c6d95a9985b59);\n",
       "        \n",
       "\n",
       "        marker_8e3f8527f3c0c46df709abfaeaaa9e77.bindPopup(popup_08f8b21cae304146ee5127494fdf901f)\n",
       "        ;\n",
       "\n",
       "        \n",
       "    \n",
       "    \n",
       "            var marker_18073c283176f41722c88b5aee19bd93 = L.marker(\n",
       "                [43.22089, -77.944733],\n",
       "                {}\n",
       "            ).addTo(map_fa87c0a95378834d25ca864fca3ddc03);\n",
       "        \n",
       "    \n",
       "            var icon_b3cf8f471ca50fccc7d18bfcada310f1 = L.AwesomeMarkers.icon(\n",
       "                {&quot;extraClasses&quot;: &quot;fa-rotate-0&quot;, &quot;icon&quot;: &quot;info&quot;, &quot;iconColor&quot;: &quot;white&quot;, &quot;markerColor&quot;: &quot;blue&quot;, &quot;prefix&quot;: &quot;fa&quot;}\n",
       "            );\n",
       "            marker_18073c283176f41722c88b5aee19bd93.setIcon(icon_b3cf8f471ca50fccc7d18bfcada310f1);\n",
       "        \n",
       "    \n",
       "        var popup_eeaa0d3c878c81fd811f0b9cac0723ad = L.popup({&quot;maxWidth&quot;: 500});\n",
       "\n",
       "        \n",
       "            var html_077d938552865b864063c4129b618c2e = $(`&lt;div id=&quot;html_077d938552865b864063c4129b618c2e&quot; style=&quot;width: 100.0%; height: 100.0%;&quot;&gt;&lt;!DOCTYPE html&gt; &lt;html&gt; &lt;head&gt; &lt;h4 style=&quot;text-align: center; margin-bottom:10&quot;; width=&quot;200px&quot;&gt;Lakeside Memorial Hospital&lt;/h4&gt; &lt;/head&gt;     &lt;table style=&quot;height: 126px; width: 350px&quot;&gt; &lt;tbody&gt; &lt;p class=&quot;aligncenter&quot;&gt;     &lt;img src=&quot;https://www.pngmart.com/files/21/Hospital-Vector-PNG-Free-Download.png&quot; alt=&quot;Hospital&quot; style=&quot;width:120px;height:120px;&quot;&gt; &lt;/p&gt; &lt;style&gt; .aligncenter {     text-align: center; } &lt;/style&gt; &lt;tr&gt; &lt;td style=&quot;padding: 6px;background-color: #404040;&quot;&gt;&lt;span style=&quot;color: #BFBFBF;&quot;&gt;Institution Name&lt;/span&gt;&lt;/td&gt; &lt;td style=&quot;padding: 6px;width: 200px;background-color: #E6E6E6;&quot;&gt;Lakeside Memorial Hospital&lt;/td&gt; &lt;/tr&gt; &lt;tr&gt; &lt;td style=&quot;padding: 6px;background-color: #404040;&quot;&gt;&lt;span style=&quot;color: #BFBFBF;&quot;&gt;City&lt;/span&gt;&lt;/td&gt; &lt;td style=&quot;padding: 6px;width: 200px;background-color: #E6E6E6;&quot;&gt;BROCKPORT&lt;/td&gt; &lt;/tr&gt; &lt;tr&gt; &lt;td style=&quot;padding: 6px;background-color: #404040;&quot;&gt;&lt;span style=&quot;color: #BFBFBF;&quot;&gt;State&lt;/span&gt;&lt;/td&gt; &lt;td style=&quot;padding: 6px;width: 200px;background-color: #E6E6E6;&quot;&gt;NY&lt;/td&gt; &lt;/tr&gt; &lt;tr&gt; &lt;td style=&quot;padding: 6px;background-color: #404040;&quot;&gt;&lt;span style=&quot;color: #BFBFBF;&quot;&gt;Distance&lt;/span&gt;&lt;/td&gt; &lt;td style=&quot;padding: 6px;width: 200px;background-color: #E6E6E6;&quot;&gt;31.11&lt;/td&gt; &lt;/tr&gt; &lt;/tbody&gt; &lt;/table&gt; &lt;/html&gt; &lt;/div&gt;`)[0];\n",
       "            popup_eeaa0d3c878c81fd811f0b9cac0723ad.setContent(html_077d938552865b864063c4129b618c2e);\n",
       "        \n",
       "\n",
       "        marker_18073c283176f41722c88b5aee19bd93.bindPopup(popup_eeaa0d3c878c81fd811f0b9cac0723ad)\n",
       "        ;\n",
       "\n",
       "        \n",
       "    \n",
       "    \n",
       "            var marker_8215be7c0f28eb147c78bc79ee1a55b4 = L.marker(\n",
       "                [43.192001, -77.586945],\n",
       "                {}\n",
       "            ).addTo(map_fa87c0a95378834d25ca864fca3ddc03);\n",
       "        \n",
       "    \n",
       "            var icon_b2fdc47918b2b58a5f5389c27af28a0c = L.AwesomeMarkers.icon(\n",
       "                {&quot;extraClasses&quot;: &quot;fa-rotate-0&quot;, &quot;icon&quot;: &quot;info&quot;, &quot;iconColor&quot;: &quot;white&quot;, &quot;markerColor&quot;: &quot;blue&quot;, &quot;prefix&quot;: &quot;fa&quot;}\n",
       "            );\n",
       "            marker_8215be7c0f28eb147c78bc79ee1a55b4.setIcon(icon_b2fdc47918b2b58a5f5389c27af28a0c);\n",
       "        \n",
       "    \n",
       "        var popup_9f30d9ee34a0a595f23edd1e5b9d6431 = L.popup({&quot;maxWidth&quot;: 500});\n",
       "\n",
       "        \n",
       "            var html_19b99ce92244e008fbf5117e98beea43 = $(`&lt;div id=&quot;html_19b99ce92244e008fbf5117e98beea43&quot; style=&quot;width: 100.0%; height: 100.0%;&quot;&gt;&lt;!DOCTYPE html&gt; &lt;html&gt; &lt;head&gt; &lt;h4 style=&quot;text-align: center; margin-bottom:10&quot;; width=&quot;200px&quot;&gt;Rochester General Hospital&lt;/h4&gt; &lt;/head&gt;     &lt;table style=&quot;height: 126px; width: 350px&quot;&gt; &lt;tbody&gt; &lt;p class=&quot;aligncenter&quot;&gt;     &lt;img src=&quot;https://www.pngmart.com/files/21/Hospital-Vector-PNG-Free-Download.png&quot; alt=&quot;Hospital&quot; style=&quot;width:120px;height:120px;&quot;&gt; &lt;/p&gt; &lt;style&gt; .aligncenter {     text-align: center; } &lt;/style&gt; &lt;tr&gt; &lt;td style=&quot;padding: 6px;background-color: #404040;&quot;&gt;&lt;span style=&quot;color: #BFBFBF;&quot;&gt;Institution Name&lt;/span&gt;&lt;/td&gt; &lt;td style=&quot;padding: 6px;width: 200px;background-color: #E6E6E6;&quot;&gt;Rochester General Hospital&lt;/td&gt; &lt;/tr&gt; &lt;tr&gt; &lt;td style=&quot;padding: 6px;background-color: #404040;&quot;&gt;&lt;span style=&quot;color: #BFBFBF;&quot;&gt;City&lt;/span&gt;&lt;/td&gt; &lt;td style=&quot;padding: 6px;width: 200px;background-color: #E6E6E6;&quot;&gt;IRONDEQUOIT&lt;/td&gt; &lt;/tr&gt; &lt;tr&gt; &lt;td style=&quot;padding: 6px;background-color: #404040;&quot;&gt;&lt;span style=&quot;color: #BFBFBF;&quot;&gt;State&lt;/span&gt;&lt;/td&gt; &lt;td style=&quot;padding: 6px;width: 200px;background-color: #E6E6E6;&quot;&gt;NY&lt;/td&gt; &lt;/tr&gt; &lt;tr&gt; &lt;td style=&quot;padding: 6px;background-color: #404040;&quot;&gt;&lt;span style=&quot;color: #BFBFBF;&quot;&gt;Distance&lt;/span&gt;&lt;/td&gt; &lt;td style=&quot;padding: 6px;width: 200px;background-color: #E6E6E6;&quot;&gt;5.13&lt;/td&gt; &lt;/tr&gt; &lt;/tbody&gt; &lt;/table&gt; &lt;/html&gt; &lt;/div&gt;`)[0];\n",
       "            popup_9f30d9ee34a0a595f23edd1e5b9d6431.setContent(html_19b99ce92244e008fbf5117e98beea43);\n",
       "        \n",
       "\n",
       "        marker_8215be7c0f28eb147c78bc79ee1a55b4.bindPopup(popup_9f30d9ee34a0a595f23edd1e5b9d6431)\n",
       "        ;\n",
       "\n",
       "        \n",
       "    \n",
       "    \n",
       "            var marker_7c2f91f71bcb5806df61d45e71ed0a88 = L.marker(\n",
       "                [43.080063, -77.702782],\n",
       "                {}\n",
       "            ).addTo(map_fa87c0a95378834d25ca864fca3ddc03);\n",
       "        \n",
       "    \n",
       "            var icon_3f6453abe2b21a936e3cb99f6e4d251c = L.AwesomeMarkers.icon(\n",
       "                {&quot;extraClasses&quot;: &quot;fa-rotate-0&quot;, &quot;icon&quot;: &quot;info&quot;, &quot;iconColor&quot;: &quot;white&quot;, &quot;markerColor&quot;: &quot;blue&quot;, &quot;prefix&quot;: &quot;fa&quot;}\n",
       "            );\n",
       "            marker_7c2f91f71bcb5806df61d45e71ed0a88.setIcon(icon_3f6453abe2b21a936e3cb99f6e4d251c);\n",
       "        \n",
       "    \n",
       "        var popup_4166123c7379ff0d86bab8dae58ff705 = L.popup({&quot;maxWidth&quot;: 500});\n",
       "\n",
       "        \n",
       "            var html_c078faca7447877361d12256db53405a = $(`&lt;div id=&quot;html_c078faca7447877361d12256db53405a&quot; style=&quot;width: 100.0%; height: 100.0%;&quot;&gt;&lt;!DOCTYPE html&gt; &lt;html&gt; &lt;head&gt; &lt;h4 style=&quot;text-align: center; margin-bottom:10&quot;; width=&quot;200px&quot;&gt;Convalescent Hospital for Children&lt;/h4&gt; &lt;/head&gt;     &lt;table style=&quot;height: 126px; width: 350px&quot;&gt; &lt;tbody&gt; &lt;p class=&quot;aligncenter&quot;&gt;     &lt;img src=&quot;https://www.pngmart.com/files/21/Hospital-Vector-PNG-Free-Download.png&quot; alt=&quot;Hospital&quot; style=&quot;width:120px;height:120px;&quot;&gt; &lt;/p&gt; &lt;style&gt; .aligncenter {     text-align: center; } &lt;/style&gt; &lt;tr&gt; &lt;td style=&quot;padding: 6px;background-color: #404040;&quot;&gt;&lt;span style=&quot;color: #BFBFBF;&quot;&gt;Institution Name&lt;/span&gt;&lt;/td&gt; &lt;td style=&quot;padding: 6px;width: 200px;background-color: #E6E6E6;&quot;&gt;Convalescent Hospital for Children&lt;/td&gt; &lt;/tr&gt; &lt;tr&gt; &lt;td style=&quot;padding: 6px;background-color: #404040;&quot;&gt;&lt;span style=&quot;color: #BFBFBF;&quot;&gt;City&lt;/span&gt;&lt;/td&gt; &lt;td style=&quot;padding: 6px;width: 200px;background-color: #E6E6E6;&quot;&gt;SCOTTSVILLE&lt;/td&gt; &lt;/tr&gt; &lt;tr&gt; &lt;td style=&quot;padding: 6px;background-color: #404040;&quot;&gt;&lt;span style=&quot;color: #BFBFBF;&quot;&gt;State&lt;/span&gt;&lt;/td&gt; &lt;td style=&quot;padding: 6px;width: 200px;background-color: #E6E6E6;&quot;&gt;NY&lt;/td&gt; &lt;/tr&gt; &lt;tr&gt; &lt;td style=&quot;padding: 6px;background-color: #404040;&quot;&gt;&lt;span style=&quot;color: #BFBFBF;&quot;&gt;Distance&lt;/span&gt;&lt;/td&gt; &lt;td style=&quot;padding: 6px;width: 200px;background-color: #E6E6E6;&quot;&gt;12.77&lt;/td&gt; &lt;/tr&gt; &lt;/tbody&gt; &lt;/table&gt; &lt;/html&gt; &lt;/div&gt;`)[0];\n",
       "            popup_4166123c7379ff0d86bab8dae58ff705.setContent(html_c078faca7447877361d12256db53405a);\n",
       "        \n",
       "\n",
       "        marker_7c2f91f71bcb5806df61d45e71ed0a88.bindPopup(popup_4166123c7379ff0d86bab8dae58ff705)\n",
       "        ;\n",
       "\n",
       "        \n",
       "    \n",
       "&lt;/script&gt;\" style=\"position:absolute;width:100%;height:100%;left:0;top:0;border:none !important;\" allowfullscreen webkitallowfullscreen mozallowfullscreen></iframe></div></div>"
      ],
      "text/plain": [
       "<folium.folium.Map at 0x7fdd9c0bf7d0>"
      ]
     },
     "execution_count": 16,
     "metadata": {},
     "output_type": "execute_result"
    }
   ],
   "source": [
    "x_loc = gdf.iloc[0][\"geometry\"].y\n",
    "y_loc = gdf.iloc[0][\"geometry\"].x\n",
    "\n",
    "m = folium.Map(location=[x_loc, y_loc], \n",
    "               zoom_start=8,\n",
    "               min_zoom=5, \n",
    "               max_zoom=16,\n",
    "               tiles='CartoDB positron')\n",
    "\n",
    "for i in range(len(gdf)):\n",
    "    lat = gdf.iloc[i][\"geometry\"].y\n",
    "    lon = gdf.iloc[i][\"geometry\"].x\n",
    "    \n",
    "    html = popup_html(i)\n",
    "    iframe = branca.element.IFrame(html=html,width=510,height=280)\n",
    "    popup = folium.Popup(folium.Html(html, script=True), max_width=500)\n",
    "    \n",
    "    folium.Marker([lat, lon], \n",
    "                popup=popup,\n",
    "                icon=folium.Icon(icon_color='white', \n",
    "                                icon='info', \n",
    "                                angle=0, \n",
    "                                prefix='fa'),\n",
    "                ).add_to(m)\n",
    "\n",
    "m"
   ]
  },
  {
   "cell_type": "code",
   "execution_count": 17,
   "id": "68673a04",
   "metadata": {
    "execution": {
     "iopub.execute_input": "2022-05-25T16:34:58.917555Z",
     "iopub.status.busy": "2022-05-25T16:34:58.916958Z",
     "iopub.status.idle": "2022-05-25T16:34:58.922383Z",
     "shell.execute_reply": "2022-05-25T16:34:58.921388Z"
    },
    "papermill": {
     "duration": 0.019647,
     "end_time": "2022-05-25T16:34:58.924385",
     "exception": false,
     "start_time": "2022-05-25T16:34:58.904738",
     "status": "completed"
    },
    "tags": []
   },
   "outputs": [],
   "source": [
    "state_name = \"New York\""
   ]
  },
  {
   "cell_type": "code",
   "execution_count": 18,
   "id": "3ef5a941",
   "metadata": {
    "execution": {
     "iopub.execute_input": "2022-05-25T16:34:58.948602Z",
     "iopub.status.busy": "2022-05-25T16:34:58.947523Z",
     "iopub.status.idle": "2022-05-25T16:34:58.953662Z",
     "shell.execute_reply": "2022-05-25T16:34:58.952917Z"
    },
    "papermill": {
     "duration": 0.020124,
     "end_time": "2022-05-25T16:34:58.955632",
     "exception": false,
     "start_time": "2022-05-25T16:34:58.935508",
     "status": "completed"
    },
    "tags": []
   },
   "outputs": [],
   "source": [
    "def search_s_stats(state_name):\n",
    "    \n",
    "    sql = bigquery_client.query(f'''\n",
    "    SELECT\n",
    "      FARM_FINGERPRINT(c.shape_WKT) as id,\n",
    "      c.NAME,\n",
    "      COUNT(h.name) AS hospital_count,\n",
    "      c.POP2000 AS Population,\n",
    "      ROUND(c.POP2000/COUNT(h.name),0) AS people_per_hospital\n",
    "    FROM\n",
    "      `hospitals.locations_all` AS c,\n",
    "      `hospitals.hospitals_all` AS h\n",
    "    WHERE\n",
    "      c.STATE_NAME='{state_name}'\n",
    "      AND ST_CONTAINS(SAFE.ST_GEOGFROMTEXT(c.shape_WKT), \n",
    "      ST_GEOGPOINT(h.lon, h.lat))\n",
    "    GROUP BY\n",
    "      id,\n",
    "      c.NAME,\n",
    "      c.POP2000\n",
    "    ORDER BY\n",
    "      Population DESC\n",
    "     ''').result().to_dataframe(create_bqstorage_client=False)\n",
    "    return sql"
   ]
  },
  {
   "cell_type": "code",
   "execution_count": 19,
   "id": "193c63ad",
   "metadata": {
    "execution": {
     "iopub.execute_input": "2022-05-25T16:34:58.979817Z",
     "iopub.status.busy": "2022-05-25T16:34:58.979225Z",
     "iopub.status.idle": "2022-05-25T16:34:59.814268Z",
     "shell.execute_reply": "2022-05-25T16:34:59.813009Z"
    },
    "papermill": {
     "duration": 0.849707,
     "end_time": "2022-05-25T16:34:59.816729",
     "exception": false,
     "start_time": "2022-05-25T16:34:58.967022",
     "status": "completed"
    },
    "tags": []
   },
   "outputs": [],
   "source": [
    "df_stats = search_s_stats(state_name)\n"
   ]
  },
  {
   "cell_type": "code",
   "execution_count": 20,
   "id": "1a023c36",
   "metadata": {
    "execution": {
     "iopub.execute_input": "2022-05-25T16:34:59.840416Z",
     "iopub.status.busy": "2022-05-25T16:34:59.839978Z",
     "iopub.status.idle": "2022-05-25T16:34:59.845251Z",
     "shell.execute_reply": "2022-05-25T16:34:59.844362Z"
    },
    "papermill": {
     "duration": 0.019288,
     "end_time": "2022-05-25T16:34:59.847155",
     "exception": false,
     "start_time": "2022-05-25T16:34:59.827867",
     "status": "completed"
    },
    "tags": []
   },
   "outputs": [],
   "source": [
    "def search_state(state_name):\n",
    "  \n",
    "    sql = bigquery_client.query(f'''\n",
    "    SELECT\n",
    "        FARM_FINGERPRINT(shape_WKT) as id,\n",
    "        NAME,\n",
    "        STATE_NAME,\n",
    "        POP2000,\n",
    "        shape_WKT\n",
    "    FROM\n",
    "      `hospitals.locations_all`\n",
    "    WHERE\n",
    "      STATE_NAME='{state_name}'\n",
    "    ''').result().to_dataframe(create_bqstorage_client=False)\n",
    "    return sql"
   ]
  },
  {
   "cell_type": "code",
   "execution_count": 21,
   "id": "d396e9a2",
   "metadata": {
    "execution": {
     "iopub.execute_input": "2022-05-25T16:34:59.870519Z",
     "iopub.status.busy": "2022-05-25T16:34:59.870131Z",
     "iopub.status.idle": "2022-05-25T16:35:00.737516Z",
     "shell.execute_reply": "2022-05-25T16:35:00.736476Z"
    },
    "papermill": {
     "duration": 0.881895,
     "end_time": "2022-05-25T16:35:00.739994",
     "exception": false,
     "start_time": "2022-05-25T16:34:59.858099",
     "status": "completed"
    },
    "tags": []
   },
   "outputs": [],
   "source": [
    "df = search_state(state_name)"
   ]
  },
  {
   "cell_type": "code",
   "execution_count": 22,
   "id": "505d8d4f",
   "metadata": {
    "execution": {
     "iopub.execute_input": "2022-05-25T16:35:00.767498Z",
     "iopub.status.busy": "2022-05-25T16:35:00.766605Z",
     "iopub.status.idle": "2022-05-25T16:35:00.774407Z",
     "shell.execute_reply": "2022-05-25T16:35:00.773521Z"
    },
    "papermill": {
     "duration": 0.024041,
     "end_time": "2022-05-25T16:35:00.776410",
     "exception": false,
     "start_time": "2022-05-25T16:35:00.752369",
     "status": "completed"
    },
    "tags": []
   },
   "outputs": [
    {
     "data": {
      "text/plain": [
       "124"
      ]
     },
     "execution_count": 22,
     "metadata": {},
     "output_type": "execute_result"
    }
   ],
   "source": [
    "len(df)"
   ]
  },
  {
   "cell_type": "code",
   "execution_count": 23,
   "id": "eb5f4198",
   "metadata": {
    "execution": {
     "iopub.execute_input": "2022-05-25T16:35:00.800477Z",
     "iopub.status.busy": "2022-05-25T16:35:00.799614Z",
     "iopub.status.idle": "2022-05-25T16:35:00.814101Z",
     "shell.execute_reply": "2022-05-25T16:35:00.813373Z"
    },
    "papermill": {
     "duration": 0.028904,
     "end_time": "2022-05-25T16:35:00.816488",
     "exception": false,
     "start_time": "2022-05-25T16:35:00.787584",
     "status": "completed"
    },
    "tags": []
   },
   "outputs": [],
   "source": [
    "df_all = pd.merge(df, df_stats, \n",
    "                  left_on=\"id\", \n",
    "                  right_on=\"id\", \n",
    "                  how=\"left\", \n",
    "                  sort=False\n",
    ")"
   ]
  },
  {
   "cell_type": "code",
   "execution_count": 24,
   "id": "2a75d579",
   "metadata": {
    "execution": {
     "iopub.execute_input": "2022-05-25T16:35:00.841136Z",
     "iopub.status.busy": "2022-05-25T16:35:00.840483Z",
     "iopub.status.idle": "2022-05-25T16:35:00.853262Z",
     "shell.execute_reply": "2022-05-25T16:35:00.852505Z"
    },
    "papermill": {
     "duration": 0.027719,
     "end_time": "2022-05-25T16:35:00.855481",
     "exception": false,
     "start_time": "2022-05-25T16:35:00.827762",
     "status": "completed"
    },
    "tags": []
   },
   "outputs": [],
   "source": [
    "df_all.fillna(0, inplace=True)\n",
    "df_all['geometry'] = geopandas.GeoSeries.from_wkt(df_all['shape_WKT'])\n",
    "df_all.drop([\"shape_WKT\", \"NAME_y\", \"Population\"], axis=1, inplace=True)\n",
    "geo_df = geopandas.GeoDataFrame(df_all)"
   ]
  },
  {
   "cell_type": "code",
   "execution_count": 25,
   "id": "4c10e63d",
   "metadata": {
    "execution": {
     "iopub.execute_input": "2022-05-25T16:35:00.879640Z",
     "iopub.status.busy": "2022-05-25T16:35:00.878984Z",
     "iopub.status.idle": "2022-05-25T16:35:00.903197Z",
     "shell.execute_reply": "2022-05-25T16:35:00.902502Z"
    },
    "papermill": {
     "duration": 0.038659,
     "end_time": "2022-05-25T16:35:00.905207",
     "exception": false,
     "start_time": "2022-05-25T16:35:00.866548",
     "status": "completed"
    },
    "tags": []
   },
   "outputs": [
    {
     "data": {
      "text/html": [
       "<div>\n",
       "<style scoped>\n",
       "    .dataframe tbody tr th:only-of-type {\n",
       "        vertical-align: middle;\n",
       "    }\n",
       "\n",
       "    .dataframe tbody tr th {\n",
       "        vertical-align: top;\n",
       "    }\n",
       "\n",
       "    .dataframe thead th {\n",
       "        text-align: right;\n",
       "    }\n",
       "</style>\n",
       "<table border=\"1\" class=\"dataframe\">\n",
       "  <thead>\n",
       "    <tr style=\"text-align: right;\">\n",
       "      <th></th>\n",
       "      <th>id</th>\n",
       "      <th>NAME_x</th>\n",
       "      <th>STATE_NAME</th>\n",
       "      <th>POP2000</th>\n",
       "      <th>hospital_count</th>\n",
       "      <th>people_per_hospital</th>\n",
       "      <th>geometry</th>\n",
       "    </tr>\n",
       "  </thead>\n",
       "  <tbody>\n",
       "    <tr>\n",
       "      <th>0</th>\n",
       "      <td>-252273539208738728</td>\n",
       "      <td>Delaware</td>\n",
       "      <td>New York</td>\n",
       "      <td>48055</td>\n",
       "      <td>0.0</td>\n",
       "      <td>0.0</td>\n",
       "      <td>MULTIPOLYGON (((-75.14828 41.85579, -74.78901 ...</td>\n",
       "    </tr>\n",
       "    <tr>\n",
       "      <th>1</th>\n",
       "      <td>-252273539208738728</td>\n",
       "      <td>Delaware</td>\n",
       "      <td>New York</td>\n",
       "      <td>48055</td>\n",
       "      <td>0.0</td>\n",
       "      <td>0.0</td>\n",
       "      <td>MULTIPOLYGON (((-75.14828 41.85579, -74.78901 ...</td>\n",
       "    </tr>\n",
       "    <tr>\n",
       "      <th>2</th>\n",
       "      <td>4129834842666095084</td>\n",
       "      <td>Genesee</td>\n",
       "      <td>New York</td>\n",
       "      <td>60370</td>\n",
       "      <td>2.0</td>\n",
       "      <td>30185.0</td>\n",
       "      <td>MULTIPOLYGON (((-78.46165 42.87340, -78.07070 ...</td>\n",
       "    </tr>\n",
       "    <tr>\n",
       "      <th>3</th>\n",
       "      <td>4129834842666095084</td>\n",
       "      <td>Genesee</td>\n",
       "      <td>New York</td>\n",
       "      <td>60370</td>\n",
       "      <td>2.0</td>\n",
       "      <td>30185.0</td>\n",
       "      <td>MULTIPOLYGON (((-78.46165 42.87340, -78.07070 ...</td>\n",
       "    </tr>\n",
       "    <tr>\n",
       "      <th>4</th>\n",
       "      <td>-447440018826634405</td>\n",
       "      <td>Chenango</td>\n",
       "      <td>New York</td>\n",
       "      <td>51401</td>\n",
       "      <td>2.0</td>\n",
       "      <td>25701.0</td>\n",
       "      <td>MULTIPOLYGON (((-75.42138 42.19417, -75.41035 ...</td>\n",
       "    </tr>\n",
       "    <tr>\n",
       "      <th>...</th>\n",
       "      <td>...</td>\n",
       "      <td>...</td>\n",
       "      <td>...</td>\n",
       "      <td>...</td>\n",
       "      <td>...</td>\n",
       "      <td>...</td>\n",
       "      <td>...</td>\n",
       "    </tr>\n",
       "    <tr>\n",
       "      <th>119</th>\n",
       "      <td>7076580640889505586</td>\n",
       "      <td>Monroe</td>\n",
       "      <td>New York</td>\n",
       "      <td>735343</td>\n",
       "      <td>18.0</td>\n",
       "      <td>40852.0</td>\n",
       "      <td>MULTIPOLYGON (((-77.99083 43.13124, -77.90852 ...</td>\n",
       "    </tr>\n",
       "    <tr>\n",
       "      <th>120</th>\n",
       "      <td>-4847885239309532864</td>\n",
       "      <td>Fulton</td>\n",
       "      <td>New York</td>\n",
       "      <td>55073</td>\n",
       "      <td>2.0</td>\n",
       "      <td>27537.0</td>\n",
       "      <td>MULTIPOLYGON (((-74.14292 43.25058, -74.22277 ...</td>\n",
       "    </tr>\n",
       "    <tr>\n",
       "      <th>121</th>\n",
       "      <td>-4847885239309532864</td>\n",
       "      <td>Fulton</td>\n",
       "      <td>New York</td>\n",
       "      <td>55073</td>\n",
       "      <td>2.0</td>\n",
       "      <td>27537.0</td>\n",
       "      <td>MULTIPOLYGON (((-74.14292 43.25058, -74.22277 ...</td>\n",
       "    </tr>\n",
       "    <tr>\n",
       "      <th>122</th>\n",
       "      <td>-6708643694427271059</td>\n",
       "      <td>Warren</td>\n",
       "      <td>New York</td>\n",
       "      <td>63303</td>\n",
       "      <td>2.0</td>\n",
       "      <td>31652.0</td>\n",
       "      <td>MULTIPOLYGON (((-73.60262 43.30334, -73.64421 ...</td>\n",
       "    </tr>\n",
       "    <tr>\n",
       "      <th>123</th>\n",
       "      <td>-6708643694427271059</td>\n",
       "      <td>Warren</td>\n",
       "      <td>New York</td>\n",
       "      <td>63303</td>\n",
       "      <td>2.0</td>\n",
       "      <td>31652.0</td>\n",
       "      <td>MULTIPOLYGON (((-73.60262 43.30334, -73.64421 ...</td>\n",
       "    </tr>\n",
       "  </tbody>\n",
       "</table>\n",
       "<p>124 rows × 7 columns</p>\n",
       "</div>"
      ],
      "text/plain": [
       "                      id    NAME_x STATE_NAME  POP2000  hospital_count  \\\n",
       "0    -252273539208738728  Delaware   New York    48055             0.0   \n",
       "1    -252273539208738728  Delaware   New York    48055             0.0   \n",
       "2    4129834842666095084   Genesee   New York    60370             2.0   \n",
       "3    4129834842666095084   Genesee   New York    60370             2.0   \n",
       "4    -447440018826634405  Chenango   New York    51401             2.0   \n",
       "..                   ...       ...        ...      ...             ...   \n",
       "119  7076580640889505586    Monroe   New York   735343            18.0   \n",
       "120 -4847885239309532864    Fulton   New York    55073             2.0   \n",
       "121 -4847885239309532864    Fulton   New York    55073             2.0   \n",
       "122 -6708643694427271059    Warren   New York    63303             2.0   \n",
       "123 -6708643694427271059    Warren   New York    63303             2.0   \n",
       "\n",
       "     people_per_hospital                                           geometry  \n",
       "0                    0.0  MULTIPOLYGON (((-75.14828 41.85579, -74.78901 ...  \n",
       "1                    0.0  MULTIPOLYGON (((-75.14828 41.85579, -74.78901 ...  \n",
       "2                30185.0  MULTIPOLYGON (((-78.46165 42.87340, -78.07070 ...  \n",
       "3                30185.0  MULTIPOLYGON (((-78.46165 42.87340, -78.07070 ...  \n",
       "4                25701.0  MULTIPOLYGON (((-75.42138 42.19417, -75.41035 ...  \n",
       "..                   ...                                                ...  \n",
       "119              40852.0  MULTIPOLYGON (((-77.99083 43.13124, -77.90852 ...  \n",
       "120              27537.0  MULTIPOLYGON (((-74.14292 43.25058, -74.22277 ...  \n",
       "121              27537.0  MULTIPOLYGON (((-74.14292 43.25058, -74.22277 ...  \n",
       "122              31652.0  MULTIPOLYGON (((-73.60262 43.30334, -73.64421 ...  \n",
       "123              31652.0  MULTIPOLYGON (((-73.60262 43.30334, -73.64421 ...  \n",
       "\n",
       "[124 rows x 7 columns]"
      ]
     },
     "execution_count": 25,
     "metadata": {},
     "output_type": "execute_result"
    }
   ],
   "source": [
    "df_all"
   ]
  },
  {
   "cell_type": "code",
   "execution_count": 26,
   "id": "26465f87",
   "metadata": {
    "execution": {
     "iopub.execute_input": "2022-05-25T16:35:00.930141Z",
     "iopub.status.busy": "2022-05-25T16:35:00.929508Z",
     "iopub.status.idle": "2022-05-25T16:35:00.933809Z",
     "shell.execute_reply": "2022-05-25T16:35:00.933122Z"
    },
    "papermill": {
     "duration": 0.018661,
     "end_time": "2022-05-25T16:35:00.935636",
     "exception": false,
     "start_time": "2022-05-25T16:35:00.916975",
     "status": "completed"
    },
    "tags": []
   },
   "outputs": [],
   "source": [
    "def norm_col(column):\n",
    "    norm = (column - column.min()) / (column.max() - column.min())\n",
    "    return norm"
   ]
  },
  {
   "cell_type": "code",
   "execution_count": 27,
   "id": "659ff5e6",
   "metadata": {
    "execution": {
     "iopub.execute_input": "2022-05-25T16:35:00.960437Z",
     "iopub.status.busy": "2022-05-25T16:35:00.959754Z",
     "iopub.status.idle": "2022-05-25T16:35:00.965277Z",
     "shell.execute_reply": "2022-05-25T16:35:00.964517Z"
    },
    "papermill": {
     "duration": 0.020361,
     "end_time": "2022-05-25T16:35:00.967398",
     "exception": false,
     "start_time": "2022-05-25T16:35:00.947037",
     "status": "completed"
    },
    "tags": []
   },
   "outputs": [],
   "source": [
    "geo_df[\"norm\"] = norm_col(df_all.hospital_count)"
   ]
  },
  {
   "cell_type": "code",
   "execution_count": 28,
   "id": "c546a068",
   "metadata": {
    "execution": {
     "iopub.execute_input": "2022-05-25T16:35:00.991754Z",
     "iopub.status.busy": "2022-05-25T16:35:00.991095Z",
     "iopub.status.idle": "2022-05-25T16:35:01.129973Z",
     "shell.execute_reply": "2022-05-25T16:35:01.129280Z"
    },
    "papermill": {
     "duration": 0.155472,
     "end_time": "2022-05-25T16:35:01.134222",
     "exception": false,
     "start_time": "2022-05-25T16:35:00.978750",
     "status": "completed"
    },
    "tags": []
   },
   "outputs": [
    {
     "data": {
      "text/html": [
       "<div style=\"width:100%;\"><div style=\"position:relative;width:100%;height:0;padding-bottom:60%;\"><span style=\"color:#565656\">Make this Notebook Trusted to load map: File -> Trust Notebook</span><iframe srcdoc=\"&lt;!DOCTYPE html&gt;\n",
       "&lt;head&gt;    \n",
       "    &lt;meta http-equiv=&quot;content-type&quot; content=&quot;text/html; charset=UTF-8&quot; /&gt;\n",
       "    \n",
       "        &lt;script&gt;\n",
       "            L_NO_TOUCH = false;\n",
       "            L_DISABLE_3D = false;\n",
       "        &lt;/script&gt;\n",
       "    \n",
       "    &lt;style&gt;html, body {width: 100%;height: 100%;margin: 0;padding: 0;}&lt;/style&gt;\n",
       "    &lt;style&gt;#map {position:absolute;top:0;bottom:0;right:0;left:0;}&lt;/style&gt;\n",
       "    &lt;script src=&quot;https://cdn.jsdelivr.net/npm/leaflet@1.6.0/dist/leaflet.js&quot;&gt;&lt;/script&gt;\n",
       "    &lt;script src=&quot;https://code.jquery.com/jquery-1.12.4.min.js&quot;&gt;&lt;/script&gt;\n",
       "    &lt;script src=&quot;https://maxcdn.bootstrapcdn.com/bootstrap/3.2.0/js/bootstrap.min.js&quot;&gt;&lt;/script&gt;\n",
       "    &lt;script src=&quot;https://cdnjs.cloudflare.com/ajax/libs/Leaflet.awesome-markers/2.0.2/leaflet.awesome-markers.js&quot;&gt;&lt;/script&gt;\n",
       "    &lt;link rel=&quot;stylesheet&quot; href=&quot;https://cdn.jsdelivr.net/npm/leaflet@1.6.0/dist/leaflet.css&quot;/&gt;\n",
       "    &lt;link rel=&quot;stylesheet&quot; href=&quot;https://maxcdn.bootstrapcdn.com/bootstrap/3.2.0/css/bootstrap.min.css&quot;/&gt;\n",
       "    &lt;link rel=&quot;stylesheet&quot; href=&quot;https://maxcdn.bootstrapcdn.com/bootstrap/3.2.0/css/bootstrap-theme.min.css&quot;/&gt;\n",
       "    &lt;link rel=&quot;stylesheet&quot; href=&quot;https://maxcdn.bootstrapcdn.com/font-awesome/4.6.3/css/font-awesome.min.css&quot;/&gt;\n",
       "    &lt;link rel=&quot;stylesheet&quot; href=&quot;https://cdnjs.cloudflare.com/ajax/libs/Leaflet.awesome-markers/2.0.2/leaflet.awesome-markers.css&quot;/&gt;\n",
       "    &lt;link rel=&quot;stylesheet&quot; href=&quot;https://cdn.jsdelivr.net/gh/python-visualization/folium/folium/templates/leaflet.awesome.rotate.min.css&quot;/&gt;\n",
       "    \n",
       "            &lt;meta name=&quot;viewport&quot; content=&quot;width=device-width,\n",
       "                initial-scale=1.0, maximum-scale=1.0, user-scalable=no&quot; /&gt;\n",
       "            &lt;style&gt;\n",
       "                #map_ec5203f55af1a9827c9b6e6e90aa98c9 {\n",
       "                    position: relative;\n",
       "                    width: 100.0%;\n",
       "                    height: 100.0%;\n",
       "                    left: 0.0%;\n",
       "                    top: 0.0%;\n",
       "                }\n",
       "            &lt;/style&gt;\n",
       "        \n",
       "    \n",
       "                    &lt;style&gt;\n",
       "                        .foliumtooltip {\n",
       "                            \n",
       "                        }\n",
       "                       .foliumtooltip table{\n",
       "                            margin: auto;\n",
       "                        }\n",
       "                        .foliumtooltip tr{\n",
       "                            text-align: left;\n",
       "                        }\n",
       "                        .foliumtooltip th{\n",
       "                            padding: 2px; padding-right: 8px;\n",
       "                        }\n",
       "                    &lt;/style&gt;\n",
       "            \n",
       "&lt;/head&gt;\n",
       "&lt;body&gt;    \n",
       "    \n",
       "            &lt;div class=&quot;folium-map&quot; id=&quot;map_ec5203f55af1a9827c9b6e6e90aa98c9&quot; &gt;&lt;/div&gt;\n",
       "        \n",
       "&lt;/body&gt;\n",
       "&lt;script&gt;    \n",
       "    \n",
       "            var map_ec5203f55af1a9827c9b6e6e90aa98c9 = L.map(\n",
       "                &quot;map_ec5203f55af1a9827c9b6e6e90aa98c9&quot;,\n",
       "                {\n",
       "                    center: [42.200630621387546, -74.96462423498211],\n",
       "                    crs: L.CRS.EPSG3857,\n",
       "                    zoom: 8,\n",
       "                    zoomControl: true,\n",
       "                    preferCanvas: false,\n",
       "                }\n",
       "            );\n",
       "\n",
       "            \n",
       "\n",
       "        \n",
       "    \n",
       "            var tile_layer_925ea5e426dbe978ecde203f36625295 = L.tileLayer(\n",
       "                &quot;https://cartodb-basemaps-{s}.global.ssl.fastly.net/light_all/{z}/{x}/{y}.png&quot;,\n",
       "                {&quot;attribution&quot;: &quot;\\u0026copy; \\u003ca href=\\&quot;http://www.openstreetmap.org/copyright\\&quot;\\u003eOpenStreetMap\\u003c/a\\u003e contributors \\u0026copy; \\u003ca href=\\&quot;http://cartodb.com/attributions\\&quot;\\u003eCartoDB\\u003c/a\\u003e, CartoDB \\u003ca href =\\&quot;http://cartodb.com/attributions\\&quot;\\u003eattributions\\u003c/a\\u003e&quot;, &quot;detectRetina&quot;: false, &quot;maxNativeZoom&quot;: 16, &quot;maxZoom&quot;: 16, &quot;minZoom&quot;: 5, &quot;noWrap&quot;: false, &quot;opacity&quot;: 1, &quot;subdomains&quot;: &quot;abc&quot;, &quot;tms&quot;: false}\n",
       "            ).addTo(map_ec5203f55af1a9827c9b6e6e90aa98c9);\n",
       "        \n",
       "    \n",
       "        function geo_json_18fd03989417ae90e523c0ef0bc63879_styler(feature) {\n",
       "            switch(feature.id) {\n",
       "                case &quot;2&quot;: case &quot;3&quot;: case &quot;4&quot;: case &quot;5&quot;: case &quot;22&quot;: case &quot;23&quot;: case &quot;26&quot;: case &quot;27&quot;: case &quot;30&quot;: case &quot;31&quot;: case &quot;38&quot;: case &quot;39&quot;: case &quot;46&quot;: case &quot;47&quot;: case &quot;68&quot;: case &quot;69&quot;: case &quot;78&quot;: case &quot;79&quot;: case &quot;84&quot;: case &quot;85&quot;: case &quot;86&quot;: case &quot;87&quot;: case &quot;96&quot;: case &quot;97&quot;: case &quot;98&quot;: case &quot;99&quot;: case &quot;100&quot;: case &quot;101&quot;: case &quot;120&quot;: case &quot;121&quot;: case &quot;122&quot;: case &quot;123&quot;: \n",
       "                    return {&quot;fillColor&quot;: &quot;orange&quot;, &quot;fillOpacity&quot;: 0.08846153846153847};\n",
       "                case &quot;6&quot;: case &quot;7&quot;: case &quot;74&quot;: case &quot;75&quot;: case &quot;88&quot;: case &quot;89&quot;: case &quot;114&quot;: case &quot;115&quot;: case &quot;116&quot;: case &quot;117&quot;: \n",
       "                    return {&quot;fillColor&quot;: &quot;orange&quot;, &quot;fillOpacity&quot;: 0.24230769230769234};\n",
       "                case &quot;8&quot;: case &quot;9&quot;: \n",
       "                    return {&quot;fillColor&quot;: &quot;orange&quot;, &quot;fillOpacity&quot;: 0.47307692307692306};\n",
       "                case &quot;12&quot;: case &quot;13&quot;: \n",
       "                    return {&quot;fillColor&quot;: &quot;orange&quot;, &quot;fillOpacity&quot;: 0.55};\n",
       "                case &quot;16&quot;: case &quot;17&quot;: case &quot;32&quot;: case &quot;33&quot;: case &quot;36&quot;: case &quot;37&quot;: case &quot;104&quot;: case &quot;105&quot;: \n",
       "                    return {&quot;fillColor&quot;: &quot;orange&quot;, &quot;fillOpacity&quot;: 0.20384615384615384};\n",
       "                case &quot;18&quot;: case &quot;19&quot;: case &quot;44&quot;: case &quot;45&quot;: case &quot;54&quot;: case &quot;55&quot;: case &quot;82&quot;: case &quot;83&quot;: case &quot;90&quot;: case &quot;91&quot;: case &quot;110&quot;: case &quot;111&quot;: \n",
       "                    return {&quot;fillColor&quot;: &quot;orange&quot;, &quot;fillOpacity&quot;: 0.12692307692307692};\n",
       "                case &quot;28&quot;: case &quot;29&quot;: case &quot;48&quot;: case &quot;49&quot;: case &quot;102&quot;: case &quot;103&quot;: \n",
       "                    return {&quot;fillColor&quot;: &quot;orange&quot;, &quot;fillOpacity&quot;: 0.1653846153846154};\n",
       "                case &quot;42&quot;: case &quot;43&quot;: \n",
       "                    return {&quot;fillColor&quot;: &quot;orange&quot;, &quot;fillOpacity&quot;: 0.6269230769230769};\n",
       "                case &quot;52&quot;: case &quot;53&quot;: \n",
       "                    return {&quot;fillColor&quot;: &quot;orange&quot;, &quot;fillOpacity&quot;: 0.7807692307692308};\n",
       "                case &quot;56&quot;: case &quot;57&quot;: \n",
       "                    return {&quot;fillColor&quot;: &quot;orange&quot;, &quot;fillOpacity&quot;: 0.5884615384615385};\n",
       "                case &quot;60&quot;: case &quot;61&quot;: \n",
       "                    return {&quot;fillColor&quot;: &quot;orange&quot;, &quot;fillOpacity&quot;: 1.05};\n",
       "                case &quot;62&quot;: case &quot;63&quot;: \n",
       "                    return {&quot;fillColor&quot;: &quot;orange&quot;, &quot;fillOpacity&quot;: 0.8961538461538462};\n",
       "                case &quot;92&quot;: case &quot;93&quot;: case &quot;118&quot;: case &quot;119&quot;: \n",
       "                    return {&quot;fillColor&quot;: &quot;orange&quot;, &quot;fillOpacity&quot;: 0.39615384615384613};\n",
       "                case &quot;94&quot;: case &quot;95&quot;: \n",
       "                    return {&quot;fillColor&quot;: &quot;orange&quot;, &quot;fillOpacity&quot;: 0.28076923076923077};\n",
       "                case &quot;112&quot;: case &quot;113&quot;: \n",
       "                    return {&quot;fillColor&quot;: &quot;orange&quot;, &quot;fillOpacity&quot;: 0.3576923076923077};\n",
       "                default:\n",
       "                    return {&quot;fillColor&quot;: &quot;orange&quot;, &quot;fillOpacity&quot;: 0.05};\n",
       "            }\n",
       "        }\n",
       "\n",
       "        function geo_json_18fd03989417ae90e523c0ef0bc63879_onEachFeature(feature, layer) {\n",
       "            layer.on({\n",
       "            });\n",
       "        };\n",
       "        var geo_json_18fd03989417ae90e523c0ef0bc63879 = L.geoJson(null, {\n",
       "                onEachFeature: geo_json_18fd03989417ae90e523c0ef0bc63879_onEachFeature,\n",
       "            \n",
       "                style: geo_json_18fd03989417ae90e523c0ef0bc63879_styler,\n",
       "        });\n",
       "\n",
       "        function geo_json_18fd03989417ae90e523c0ef0bc63879_add (data) {\n",
       "            geo_json_18fd03989417ae90e523c0ef0bc63879\n",
       "                .addData(data)\n",
       "                .addTo(map_ec5203f55af1a9827c9b6e6e90aa98c9);\n",
       "        }\n",
       "            geo_json_18fd03989417ae90e523c0ef0bc63879_add({&quot;bbox&quot;: [-79.76323496540563, 40.5060032905632, -71.86998672142302, 45.0061387945904], &quot;features&quot;: [{&quot;bbox&quot;: [-75.42724883699549, 41.85578933177585, -74.42406091341296, 42.519832994068175], &quot;geometry&quot;: {&quot;coordinates&quot;: [[[[-75.14828056826096, 41.85578933177585], [-74.78900897616663, 42.02151609435665], [-74.5649213039787, 42.11534640403579], [-74.53543296035744, 42.141362297932154], [-74.50699000689386, 42.143742805441086], [-74.44837146997124, 42.16939994435035], [-74.53153387249095, 42.19770036272909], [-74.42406091341296, 42.34664792179187], [-74.43964040934083, 42.35613849131594], [-74.61905653644443, 42.43036951202375], [-74.71814794445956, 42.519832994068175], [-74.77087661120845, 42.50544429653914], [-74.83505668623918, 42.51504614640467], [-74.9339906568174, 42.46983985023585], [-74.93788159172335, 42.48162694719348], [-74.9645547695933, 42.47734330868152], [-74.98097404943606, 42.45131260932546], [-74.98908429947221, 42.45307117390734], [-74.9982704797067, 42.44346224812692], [-75.01200382966663, 42.44789855253954], [-75.02225079021889, 42.426006520190604], [-75.082433785358, 42.42052075482452], [-75.1377647443384, 42.38460216025505], [-75.19018859528316, 42.363686388930034], [-75.19170666267932, 42.38002811647828], [-75.21879223286521, 42.36660437436273], [-75.25346159390578, 42.361275139739185], [-75.3061145740021, 42.322132948248196], [-75.34256926083438, 42.31403796074493], [-75.41035122199824, 42.321952476634706], [-75.4213835368138, 42.19416631062453], [-75.42724883699549, 42.057372554471556], [-75.40600739801462, 42.01536202157557], [-75.38281319593384, 41.99835660838767], [-75.34565706693648, 41.99284494899743], [-75.32406580040943, 41.961274992153434], [-75.28369002629621, 41.94760385458523], [-75.2545154627287, 41.86887336163593], [-75.17128379165328, 41.86783985365262], [-75.14828056826096, 41.85578933177585]]]], &quot;type&quot;: &quot;MultiPolygon&quot;}, &quot;id&quot;: &quot;0&quot;, &quot;properties&quot;: {&quot;NAME_x&quot;: &quot;Delaware&quot;, &quot;POP2000&quot;: 48055, &quot;STATE_NAME&quot;: &quot;New York&quot;, &quot;hospital_count&quot;: 0.0, &quot;id&quot;: -252273539208738728, &quot;norm&quot;: 0.0, &quot;people_per_hospital&quot;: 0.0}, &quot;type&quot;: &quot;Feature&quot;}, {&quot;bbox&quot;: [-75.42724883699549, 41.85578933177585, -74.42406091341296, 42.519832994068175], &quot;geometry&quot;: {&quot;coordinates&quot;: [[[[-75.14828056826096, 41.85578933177585], [-74.78900897616663, 42.02151609435665], [-74.5649213039787, 42.11534640403579], [-74.53543296035744, 42.141362297932154], [-74.50699000689386, 42.143742805441086], [-74.44837146997124, 42.16939994435035], [-74.53153387249095, 42.19770036272909], [-74.42406091341296, 42.34664792179187], [-74.43964040934083, 42.35613849131594], [-74.61905653644443, 42.43036951202375], [-74.71814794445956, 42.519832994068175], [-74.77087661120845, 42.50544429653914], [-74.83505668623918, 42.51504614640467], [-74.9339906568174, 42.46983985023585], [-74.93788159172335, 42.48162694719348], [-74.9645547695933, 42.47734330868152], [-74.98097404943606, 42.45131260932546], [-74.98908429947221, 42.45307117390734], [-74.9982704797067, 42.44346224812692], [-75.01200382966663, 42.44789855253954], [-75.02225079021889, 42.426006520190604], [-75.082433785358, 42.42052075482452], [-75.1377647443384, 42.38460216025505], [-75.19018859528316, 42.363686388930034], [-75.19170666267932, 42.38002811647828], [-75.21879223286521, 42.36660437436273], [-75.25346159390578, 42.361275139739185], [-75.3061145740021, 42.322132948248196], [-75.34256926083438, 42.31403796074493], [-75.41035122199824, 42.321952476634706], [-75.4213835368138, 42.19416631062453], [-75.42724883699549, 42.057372554471556], [-75.40600739801462, 42.01536202157557], [-75.38281319593384, 41.99835660838767], [-75.34565706693648, 41.99284494899743], [-75.32406580040943, 41.961274992153434], [-75.28369002629621, 41.94760385458523], [-75.2545154627287, 41.86887336163593], [-75.17128379165328, 41.86783985365262], [-75.14828056826096, 41.85578933177585]]]], &quot;type&quot;: &quot;MultiPolygon&quot;}, &quot;id&quot;: &quot;1&quot;, &quot;properties&quot;: {&quot;NAME_x&quot;: &quot;Delaware&quot;, &quot;POP2000&quot;: 48055, &quot;STATE_NAME&quot;: &quot;New York&quot;, &quot;hospital_count&quot;: 0.0, &quot;id&quot;: -252273539208738728, &quot;norm&quot;: 0.0, &quot;people_per_hospital&quot;: 0.0}, &quot;type&quot;: &quot;Feature&quot;}, {&quot;bbox&quot;: [-78.4669244592915, 42.86920977574887, -77.8991760807396, 43.1357522581205], &quot;geometry&quot;: {&quot;coordinates&quot;: [[[[-78.4616502839771, 42.87340420104401], [-78.0707020543181, 42.87798292840721], [-78.06916077282317, 42.87302384145772], [-77.95628831349505, 42.86920977574887], [-77.95178009757758, 42.9107593825601], [-77.93112675724582, 42.91092355420889], [-77.92975430576973, 42.95283552978029], [-77.90408067668776, 42.953152317798754], [-77.90676705136163, 42.989479560620204], [-77.90911744898744, 43.0199016267363], [-77.8991760807396, 43.0215648888946], [-77.89968752141125, 43.04157668601354], [-77.95552870501628, 43.041721296120436], [-77.90852378053833, 43.13098505448433], [-77.99083225215233, 43.131236334509445], [-78.12401454970856, 43.13120897652374], [-78.12428928701328, 43.1357522581205], [-78.46636030638014, 43.130002377357734], [-78.4669244592915, 43.0903678871763], [-78.4616502839771, 42.87340420104401]]]], &quot;type&quot;: &quot;MultiPolygon&quot;}, &quot;id&quot;: &quot;2&quot;, &quot;properties&quot;: {&quot;NAME_x&quot;: &quot;Genesee&quot;, &quot;POP2000&quot;: 60370, &quot;STATE_NAME&quot;: &quot;New York&quot;, &quot;hospital_count&quot;: 2.0, &quot;id&quot;: 4129834842666095084, &quot;norm&quot;: 0.038461538461538464, &quot;people_per_hospital&quot;: 30185.0}, &quot;type&quot;: &quot;Feature&quot;}, {&quot;bbox&quot;: [-78.4669244592915, 42.86920977574887, -77.8991760807396, 43.1357522581205], &quot;geometry&quot;: {&quot;coordinates&quot;: [[[[-78.4616502839771, 42.87340420104401], [-78.0707020543181, 42.87798292840721], [-78.06916077282317, 42.87302384145772], [-77.95628831349505, 42.86920977574887], [-77.95178009757758, 42.9107593825601], [-77.93112675724582, 42.91092355420889], [-77.92975430576973, 42.95283552978029], [-77.90408067668776, 42.953152317798754], [-77.90676705136163, 42.989479560620204], [-77.90911744898744, 43.0199016267363], [-77.8991760807396, 43.0215648888946], [-77.89968752141125, 43.04157668601354], [-77.95552870501628, 43.041721296120436], [-77.90852378053833, 43.13098505448433], [-77.99083225215233, 43.131236334509445], [-78.12401454970856, 43.13120897652374], [-78.12428928701328, 43.1357522581205], [-78.46636030638014, 43.130002377357734], [-78.4669244592915, 43.0903678871763], [-78.4616502839771, 42.87340420104401]]]], &quot;type&quot;: &quot;MultiPolygon&quot;}, &quot;id&quot;: &quot;3&quot;, &quot;properties&quot;: {&quot;NAME_x&quot;: &quot;Genesee&quot;, &quot;POP2000&quot;: 60370, &quot;STATE_NAME&quot;: &quot;New York&quot;, &quot;hospital_count&quot;: 2.0, &quot;id&quot;: 4129834842666095084, &quot;norm&quot;: 0.038461538461538464, &quot;people_per_hospital&quot;: 30185.0}, &quot;type&quot;: &quot;Feature&quot;}, {&quot;bbox&quot;: [-75.88794555041642, 42.19416631062453, -75.28607164010619, 42.750417675797074], &quot;geometry&quot;: {&quot;coordinates&quot;: [[[[-75.4213835368138, 42.19416631062453], [-75.41035122199824, 42.321952476634706], [-75.3912614183847, 42.360323703503894], [-75.40305664990593, 42.391092086289035], [-75.37329285991567, 42.42503852166106], [-75.39537281026183, 42.47251470233885], [-75.39293858657508, 42.50617477382958], [-75.37883867164717, 42.51677580459975], [-75.37005639697729, 42.54459218757821], [-75.33385276186155, 42.57132933932951], [-75.32105677433009, 42.61918778957632], [-75.3213153334381, 42.66554694174763], [-75.28607164010619, 42.74863363703551], [-75.42095167276722, 42.750417675797074], [-75.88794555041642, 42.72766765042703], [-75.86637086421469, 42.41388675665544], [-75.84403777912534, 42.25107894757901], [-75.63502258575822, 42.24570293606652], [-75.63136712874017, 42.19577659861544], [-75.4213835368138, 42.19416631062453]]]], &quot;type&quot;: &quot;MultiPolygon&quot;}, &quot;id&quot;: &quot;4&quot;, &quot;properties&quot;: {&quot;NAME_x&quot;: &quot;Chenango&quot;, &quot;POP2000&quot;: 51401, &quot;STATE_NAME&quot;: &quot;New York&quot;, &quot;hospital_count&quot;: 2.0, &quot;id&quot;: -447440018826634405, &quot;norm&quot;: 0.038461538461538464, &quot;people_per_hospital&quot;: 25701.0}, &quot;type&quot;: &quot;Feature&quot;}, {&quot;bbox&quot;: [-75.88794555041642, 42.19416631062453, -75.28607164010619, 42.750417675797074], &quot;geometry&quot;: {&quot;coordinates&quot;: [[[[-75.4213835368138, 42.19416631062453], [-75.41035122199824, 42.321952476634706], [-75.3912614183847, 42.360323703503894], [-75.40305664990593, 42.391092086289035], [-75.37329285991567, 42.42503852166106], [-75.39537281026183, 42.47251470233885], [-75.39293858657508, 42.50617477382958], [-75.37883867164717, 42.51677580459975], [-75.37005639697729, 42.54459218757821], [-75.33385276186155, 42.57132933932951], [-75.32105677433009, 42.61918778957632], [-75.3213153334381, 42.66554694174763], [-75.28607164010619, 42.74863363703551], [-75.42095167276722, 42.750417675797074], [-75.88794555041642, 42.72766765042703], [-75.86637086421469, 42.41388675665544], [-75.84403777912534, 42.25107894757901], [-75.63502258575822, 42.24570293606652], [-75.63136712874017, 42.19577659861544], [-75.4213835368138, 42.19416631062453]]]], &quot;type&quot;: &quot;MultiPolygon&quot;}, &quot;id&quot;: &quot;5&quot;, &quot;properties&quot;: {&quot;NAME_x&quot;: &quot;Chenango&quot;, &quot;POP2000&quot;: 51401, &quot;STATE_NAME&quot;: &quot;New York&quot;, &quot;hospital_count&quot;: 2.0, &quot;id&quot;: -447440018826634405, &quot;norm&quot;: 0.038461538461538464, &quot;people_per_hospital&quot;: 25701.0}, &quot;type&quot;: &quot;Feature&quot;}, {&quot;bbox&quot;: [-79.06223899261258, 43.022357632195366, -78.46465371730203, 43.37199355887229], &quot;geometry&quot;: {&quot;coordinates&quot;: [[[[-78.8827932399727, 43.022357632195366], [-78.84339355842948, 43.02279654169401], [-78.82702059331527, 43.04890427835847], [-78.74152269088947, 43.074341032789974], [-78.73146691678647, 43.083358984543224], [-78.67844076778671, 43.07933860421925], [-78.63147274033516, 43.09057689809335], [-78.58810556791481, 43.07115661618035], [-78.5407485589537, 43.09557080322082], [-78.52510767674897, 43.087006940221], [-78.50607175315044, 43.093583545536056], [-78.48605165976305, 43.08516462264386], [-78.4669244592915, 43.0903678871763], [-78.46636030638014, 43.130002377357734], [-78.46465371730203, 43.37199355887229], [-79.06223899261258, 43.26821616302624], [-79.03932531993486, 43.144739158493834], [-79.06111475555184, 43.09060502246157], [-78.92559636396992, 43.06662669531684], [-78.8827932399727, 43.022357632195366]]]], &quot;type&quot;: &quot;MultiPolygon&quot;}, &quot;id&quot;: &quot;6&quot;, &quot;properties&quot;: {&quot;NAME_x&quot;: &quot;Niagara&quot;, &quot;POP2000&quot;: 219846, &quot;STATE_NAME&quot;: &quot;New York&quot;, &quot;hospital_count&quot;: 10.0, &quot;id&quot;: 4176883296713055941, &quot;norm&quot;: 0.19230769230769232, &quot;people_per_hospital&quot;: 21985.0}, &quot;type&quot;: &quot;Feature&quot;}, {&quot;bbox&quot;: [-79.06223899261258, 43.022357632195366, -78.46465371730203, 43.37199355887229], &quot;geometry&quot;: {&quot;coordinates&quot;: [[[[-78.8827932399727, 43.022357632195366], [-78.84339355842948, 43.02279654169401], [-78.82702059331527, 43.04890427835847], [-78.74152269088947, 43.074341032789974], [-78.73146691678647, 43.083358984543224], [-78.67844076778671, 43.07933860421925], [-78.63147274033516, 43.09057689809335], [-78.58810556791481, 43.07115661618035], [-78.5407485589537, 43.09557080322082], [-78.52510767674897, 43.087006940221], [-78.50607175315044, 43.093583545536056], [-78.48605165976305, 43.08516462264386], [-78.4669244592915, 43.0903678871763], [-78.46636030638014, 43.130002377357734], [-78.46465371730203, 43.37199355887229], [-79.06223899261258, 43.26821616302624], [-79.03932531993486, 43.144739158493834], [-79.06111475555184, 43.09060502246157], [-78.92559636396992, 43.06662669531684], [-78.8827932399727, 43.022357632195366]]]], &quot;type&quot;: &quot;MultiPolygon&quot;}, &quot;id&quot;: &quot;7&quot;, &quot;properties&quot;: {&quot;NAME_x&quot;: &quot;Niagara&quot;, &quot;POP2000&quot;: 219846, &quot;STATE_NAME&quot;: &quot;New York&quot;, &quot;hospital_count&quot;: 10.0, &quot;id&quot;: 4176883296713055941, &quot;norm&quot;: 0.19230769230769232, &quot;people_per_hospital&quot;: 21985.0}, &quot;type&quot;: &quot;Feature&quot;}, {&quot;bbox&quot;: [-73.7649351380376, 40.59458721687274, -73.4225260722185, 40.90314439135559], &quot;geometry&quot;: {&quot;coordinates&quot;: [[[[-73.47808965154871, 40.879744720266025], [-73.59827192986981, 40.90314439135559], [-73.74947717191834, 40.84499875548687], [-73.75391779045549, 40.78885121813784], [-73.74590672378653, 40.777395861670314], [-73.70472970513585, 40.756441696968785], [-73.70114383628491, 40.7432773589686], [-73.70482133983519, 40.733309758676086], [-73.72606983333648, 40.72836620406732], [-73.72816046147103, 40.65670451443297], [-73.73846804208105, 40.65446160800254], [-73.74032967350188, 40.64357466026752], [-73.7649351380376, 40.63693346560976], [-73.76139500977862, 40.6182379482267], [-73.74830261069823, 40.615926267409264], [-73.74229814823335, 40.600042075129494], [-73.75220897730559, 40.59458721687274], [-73.4225260722185, 40.66132514749972], [-73.45519344397273, 40.858134589906], [-73.47808965154871, 40.879744720266025]]]], &quot;type&quot;: &quot;MultiPolygon&quot;}, &quot;id&quot;: &quot;8&quot;, &quot;properties&quot;: {&quot;NAME_x&quot;: &quot;Nassau&quot;, &quot;POP2000&quot;: 1334544, &quot;STATE_NAME&quot;: &quot;New York&quot;, &quot;hospital_count&quot;: 22.0, &quot;id&quot;: -6099597953343306375, &quot;norm&quot;: 0.4230769230769231, &quot;people_per_hospital&quot;: 60661.0}, &quot;type&quot;: &quot;Feature&quot;}, {&quot;bbox&quot;: [-73.7649351380376, 40.59458721687274, -73.4225260722185, 40.90314439135559], &quot;geometry&quot;: {&quot;coordinates&quot;: [[[[-73.47808965154871, 40.879744720266025], [-73.59827192986981, 40.90314439135559], [-73.74947717191834, 40.84499875548687], [-73.75391779045549, 40.78885121813784], [-73.74590672378653, 40.777395861670314], [-73.70472970513585, 40.756441696968785], [-73.70114383628491, 40.7432773589686], [-73.70482133983519, 40.733309758676086], [-73.72606983333648, 40.72836620406732], [-73.72816046147103, 40.65670451443297], [-73.73846804208105, 40.65446160800254], [-73.74032967350188, 40.64357466026752], [-73.7649351380376, 40.63693346560976], [-73.76139500977862, 40.6182379482267], [-73.74830261069823, 40.615926267409264], [-73.74229814823335, 40.600042075129494], [-73.75220897730559, 40.59458721687274], [-73.4225260722185, 40.66132514749972], [-73.45519344397273, 40.858134589906], [-73.47808965154871, 40.879744720266025]]]], &quot;type&quot;: &quot;MultiPolygon&quot;}, &quot;id&quot;: &quot;9&quot;, &quot;properties&quot;: {&quot;NAME_x&quot;: &quot;Nassau&quot;, &quot;POP2000&quot;: 1334544, &quot;STATE_NAME&quot;: &quot;New York&quot;, &quot;hospital_count&quot;: 22.0, &quot;id&quot;: -6099597953343306375, &quot;norm&quot;: 0.4230769230769231, &quot;people_per_hospital&quot;: 60661.0}, &quot;type&quot;: &quot;Feature&quot;}, {&quot;bbox&quot;: [-77.36649733024205, 42.45731684060306, -76.88468365478494, 42.76796719277168], &quot;geometry&quot;: {&quot;coordinates&quot;: [[[[-77.36600031223776, 42.582824316199115], [-77.13836670867926, 42.57805361323353], [-77.139655826934, 42.51027493699512], [-77.1285773642513, 42.499174355458536], [-77.09594486479442, 42.49313590169247], [-77.10346016430381, 42.480227112562865], [-76.98599989792332, 42.48298172196434], [-76.98267328439813, 42.4635079644722], [-76.9596846727392, 42.4640306085601], [-76.95504574635656, 42.45731684060306], [-76.88468365478494, 42.47026767713545], [-76.89940154600235, 42.50994764916633], [-76.89679977608984, 42.551832691257395], [-76.88945985646481, 42.65975344940199], [-76.93830619247832, 42.723240699485885], [-76.94642452311875, 42.767170080282206], [-76.97144285372428, 42.76796719277168], [-77.31626380297794, 42.76738839974106], [-77.36649733024205, 42.682863245844416], [-77.36600031223776, 42.582824316199115]]]], &quot;type&quot;: &quot;MultiPolygon&quot;}, &quot;id&quot;: &quot;10&quot;, &quot;properties&quot;: {&quot;NAME_x&quot;: &quot;Yates&quot;, &quot;POP2000&quot;: 24621, &quot;STATE_NAME&quot;: &quot;New York&quot;, &quot;hospital_count&quot;: 0.0, &quot;id&quot;: 2113864166229707390, &quot;norm&quot;: 0.0, &quot;people_per_hospital&quot;: 0.0}, &quot;type&quot;: &quot;Feature&quot;}, {&quot;bbox&quot;: [-77.36649733024205, 42.45731684060306, -76.88468365478494, 42.76796719277168], &quot;geometry&quot;: {&quot;coordinates&quot;: [[[[-77.36600031223776, 42.582824316199115], [-77.13836670867926, 42.57805361323353], [-77.139655826934, 42.51027493699512], [-77.1285773642513, 42.499174355458536], [-77.09594486479442, 42.49313590169247], [-77.10346016430381, 42.480227112562865], [-76.98599989792332, 42.48298172196434], [-76.98267328439813, 42.4635079644722], [-76.9596846727392, 42.4640306085601], [-76.95504574635656, 42.45731684060306], [-76.88468365478494, 42.47026767713545], [-76.89940154600235, 42.50994764916633], [-76.89679977608984, 42.551832691257395], [-76.88945985646481, 42.65975344940199], [-76.93830619247832, 42.723240699485885], [-76.94642452311875, 42.767170080282206], [-76.97144285372428, 42.76796719277168], [-77.31626380297794, 42.76738839974106], [-77.36649733024205, 42.682863245844416], [-77.36600031223776, 42.582824316199115]]]], &quot;type&quot;: &quot;MultiPolygon&quot;}, &quot;id&quot;: &quot;11&quot;, &quot;properties&quot;: {&quot;NAME_x&quot;: &quot;Yates&quot;, &quot;POP2000&quot;: 24621, &quot;STATE_NAME&quot;: &quot;New York&quot;, &quot;hospital_count&quot;: 0.0, &quot;id&quot;: 2113864166229707390, &quot;norm&quot;: 0.0, &quot;people_per_hospital&quot;: 0.0}, &quot;type&quot;: &quot;Feature&quot;}, {&quot;bbox&quot;: [-73.9800149179395, 40.88668879186917, -73.47812075689541, 41.36529847679947], &quot;geometry&quot;: {&quot;coordinates&quot;: [[[[-73.8966975351822, 40.99852980109221], [-73.89614835452137, 40.960871755154415], [-73.90896623047742, 40.927314420075774], [-73.83785835467948, 40.90818795998495], [-73.82452185478121, 40.89274635485063], [-73.78004125283817, 40.88668879186917], [-73.65315146089947, 40.998392445524715], [-73.65372377552563, 41.01261728252531], [-73.72523765669673, 41.100354224994554], [-73.47812075689541, 41.210754888938936], [-73.55025967319166, 41.293620704395394], [-73.54429325367421, 41.36529847679947], [-73.9800149179395, 41.324808530694995], [-73.95495932353981, 41.292131864623386], [-73.97147763690646, 41.26036689303535], [-73.96782300568778, 41.241758931195335], [-73.9269429817924, 41.19410265239193], [-73.90015491856808, 41.14281100342859], [-73.89112078870431, 41.0620397801317], [-73.8966975351822, 40.99852980109221]]]], &quot;type&quot;: &quot;MultiPolygon&quot;}, &quot;id&quot;: &quot;12&quot;, &quot;properties&quot;: {&quot;NAME_x&quot;: &quot;Westchester&quot;, &quot;POP2000&quot;: 923459, &quot;STATE_NAME&quot;: &quot;New York&quot;, &quot;hospital_count&quot;: 26.0, &quot;id&quot;: -5314630078148065570, &quot;norm&quot;: 0.5, &quot;people_per_hospital&quot;: 35518.0}, &quot;type&quot;: &quot;Feature&quot;}, {&quot;bbox&quot;: [-73.9800149179395, 40.88668879186917, -73.47812075689541, 41.36529847679947], &quot;geometry&quot;: {&quot;coordinates&quot;: [[[[-73.8966975351822, 40.99852980109221], [-73.89614835452137, 40.960871755154415], [-73.90896623047742, 40.927314420075774], [-73.83785835467948, 40.90818795998495], [-73.82452185478121, 40.89274635485063], [-73.78004125283817, 40.88668879186917], [-73.65315146089947, 40.998392445524715], [-73.65372377552563, 41.01261728252531], [-73.72523765669673, 41.100354224994554], [-73.47812075689541, 41.210754888938936], [-73.55025967319166, 41.293620704395394], [-73.54429325367421, 41.36529847679947], [-73.9800149179395, 41.324808530694995], [-73.95495932353981, 41.292131864623386], [-73.97147763690646, 41.26036689303535], [-73.96782300568778, 41.241758931195335], [-73.9269429817924, 41.19410265239193], [-73.90015491856808, 41.14281100342859], [-73.89112078870431, 41.0620397801317], [-73.8966975351822, 40.99852980109221]]]], &quot;type&quot;: &quot;MultiPolygon&quot;}, &quot;id&quot;: &quot;13&quot;, &quot;properties&quot;: {&quot;NAME_x&quot;: &quot;Westchester&quot;, &quot;POP2000&quot;: 923459, &quot;STATE_NAME&quot;: &quot;New York&quot;, &quot;hospital_count&quot;: 26.0, &quot;id&quot;: -5314630078148065570, &quot;norm&quot;: 0.5, &quot;people_per_hospital&quot;: 35518.0}, &quot;type&quot;: &quot;Feature&quot;}, {&quot;bbox&quot;: [-75.8509503682061, 43.422329950388516, -75.11520799319902, 44.214890888535145], &quot;geometry&quot;: {&quot;coordinates&quot;: [[[[-75.77467492810126, 43.69019804199436], [-75.75887081508326, 43.469605911126045], [-75.53574870374095, 43.422329950388516], [-75.11520799319902, 43.6113622758763], [-75.16386884565581, 44.09280734255202], [-75.44721548962082, 44.214890888535145], [-75.54862585330773, 44.103916434637654], [-75.48873774453536, 44.07316036810749], [-75.50226284158153, 44.052050551758256], [-75.48934532827761, 44.043082454968136], [-75.50432081265048, 44.030154876912114], [-75.50448666228515, 44.00873605487899], [-75.54961620582951, 44.008216605117745], [-75.54923303848675, 43.963577402524585], [-75.6095990302408, 43.96330964453266], [-75.75166869875642, 43.87905402320921], [-75.84066028928385, 43.88422486750586], [-75.8509503682061, 43.79571829594375], [-75.79056180820713, 43.78926085979652], [-75.77467492810126, 43.69019804199436]]]], &quot;type&quot;: &quot;MultiPolygon&quot;}, &quot;id&quot;: &quot;14&quot;, &quot;properties&quot;: {&quot;NAME_x&quot;: &quot;Lewis&quot;, &quot;POP2000&quot;: 26944, &quot;STATE_NAME&quot;: &quot;New York&quot;, &quot;hospital_count&quot;: 0.0, &quot;id&quot;: 7257458786294127109, &quot;norm&quot;: 0.0, &quot;people_per_hospital&quot;: 0.0}, &quot;type&quot;: &quot;Feature&quot;}, {&quot;bbox&quot;: [-75.8509503682061, 43.422329950388516, -75.11520799319902, 44.214890888535145], &quot;geometry&quot;: {&quot;coordinates&quot;: [[[[-75.77467492810126, 43.69019804199436], [-75.75887081508326, 43.469605911126045], [-75.53574870374095, 43.422329950388516], [-75.11520799319902, 43.6113622758763], [-75.16386884565581, 44.09280734255202], [-75.44721548962082, 44.214890888535145], [-75.54862585330773, 44.103916434637654], [-75.48873774453536, 44.07316036810749], [-75.50226284158153, 44.052050551758256], [-75.48934532827761, 44.043082454968136], [-75.50432081265048, 44.030154876912114], [-75.50448666228515, 44.00873605487899], [-75.54961620582951, 44.008216605117745], [-75.54923303848675, 43.963577402524585], [-75.6095990302408, 43.96330964453266], [-75.75166869875642, 43.87905402320921], [-75.84066028928385, 43.88422486750586], [-75.8509503682061, 43.79571829594375], [-75.79056180820713, 43.78926085979652], [-75.77467492810126, 43.69019804199436]]]], &quot;type&quot;: &quot;MultiPolygon&quot;}, &quot;id&quot;: &quot;15&quot;, &quot;properties&quot;: {&quot;NAME_x&quot;: &quot;Lewis&quot;, &quot;POP2000&quot;: 26944, &quot;STATE_NAME&quot;: &quot;New York&quot;, &quot;hospital_count&quot;: 0.0, &quot;id&quot;: 7257458786294127109, &quot;norm&quot;: 0.0, &quot;people_per_hospital&quot;: 0.0}, &quot;type&quot;: &quot;Feature&quot;}, {&quot;bbox&quot;: [-74.7593278695947, 41.13762659831936, -73.95489781829053, 41.63591971841924], &quot;geometry&quot;: {&quot;coordinates&quot;: [[[[-74.70006243972898, 41.3505731173044], [-74.37198081595096, 41.19584995525541], [-74.24235951786599, 41.13762659831936], [-73.9800149179395, 41.324808530694995], [-73.95489781829053, 41.396959651377216], [-73.98120463131701, 41.43963467258381], [-73.9989739937326, 41.4559730443166], [-73.99467830141889, 41.529501250690586], [-73.95538553894968, 41.58759513466645], [-74.0511532735368, 41.5830518746216], [-74.08187038744919, 41.60891166213893], [-74.13040284253323, 41.616586831615145], [-74.12911350078728, 41.58663007121555], [-74.19237127829018, 41.59472104415563], [-74.2532027636907, 41.60823269217343], [-74.25636895040654, 41.63591971841924], [-74.34464456373992, 41.59803217753914], [-74.37041002098069, 41.594331916079845], [-74.40652140382593, 41.57470148622246], [-74.47604339186971, 41.507738282861006], [-74.7463647827435, 41.49873374664261], [-74.7593278695947, 41.450089312644096], [-74.75482662119566, 41.43014640968574], [-74.7400406430903, 41.422059463071776], [-74.74043756950093, 41.40163586126954], [-74.70527323983946, 41.375059336394834], [-74.70006243972898, 41.3505731173044]]]], &quot;type&quot;: &quot;MultiPolygon&quot;}, &quot;id&quot;: &quot;16&quot;, &quot;properties&quot;: {&quot;NAME_x&quot;: &quot;Orange&quot;, &quot;POP2000&quot;: 341367, &quot;STATE_NAME&quot;: &quot;New York&quot;, &quot;hospital_count&quot;: 8.0, &quot;id&quot;: 1278215616369210910, &quot;norm&quot;: 0.15384615384615385, &quot;people_per_hospital&quot;: 42671.0}, &quot;type&quot;: &quot;Feature&quot;}, {&quot;bbox&quot;: [-74.7593278695947, 41.13762659831936, -73.95489781829053, 41.63591971841924], &quot;geometry&quot;: {&quot;coordinates&quot;: [[[[-74.70006243972898, 41.3505731173044], [-74.37198081595096, 41.19584995525541], [-74.24235951786599, 41.13762659831936], [-73.9800149179395, 41.324808530694995], [-73.95489781829053, 41.396959651377216], [-73.98120463131701, 41.43963467258381], [-73.9989739937326, 41.4559730443166], [-73.99467830141889, 41.529501250690586], [-73.95538553894968, 41.58759513466645], [-74.0511532735368, 41.5830518746216], [-74.08187038744919, 41.60891166213893], [-74.13040284253323, 41.616586831615145], [-74.12911350078728, 41.58663007121555], [-74.19237127829018, 41.59472104415563], [-74.2532027636907, 41.60823269217343], [-74.25636895040654, 41.63591971841924], [-74.34464456373992, 41.59803217753914], [-74.37041002098069, 41.594331916079845], [-74.40652140382593, 41.57470148622246], [-74.47604339186971, 41.507738282861006], [-74.7463647827435, 41.49873374664261], [-74.7593278695947, 41.450089312644096], [-74.75482662119566, 41.43014640968574], [-74.7400406430903, 41.422059463071776], [-74.74043756950093, 41.40163586126954], [-74.70527323983946, 41.375059336394834], [-74.70006243972898, 41.3505731173044]]]], &quot;type&quot;: &quot;MultiPolygon&quot;}, &quot;id&quot;: &quot;17&quot;, &quot;properties&quot;: {&quot;NAME_x&quot;: &quot;Orange&quot;, &quot;POP2000&quot;: 341367, &quot;STATE_NAME&quot;: &quot;New York&quot;, &quot;hospital_count&quot;: 8.0, &quot;id&quot;: 1278215616369210910, &quot;norm&quot;: 0.15384615384615385, &quot;people_per_hospital&quot;: 42671.0}, &quot;type&quot;: &quot;Feature&quot;}, {&quot;bbox&quot;: [-74.15955045497212, 42.764135135619284, -73.57982143758969, 43.398476391873615], &quot;geometry&quot;: {&quot;coordinates&quot;: [[[[-73.82223582453132, 42.77531933530638], [-73.81099746315597, 42.773938493039445], [-73.79222108390628, 42.78800325756122], [-73.76787511231635, 42.784776192520326], [-73.7378145894487, 42.808366154363746], [-73.67866261586785, 42.764135135619284], [-73.6628160074003, 42.81455361389264], [-73.67517588928233, 42.84277069978749], [-73.679295837502, 42.89780108444661], [-73.66605855806044, 42.91959052634249], [-73.63653982114072, 42.93951851462616], [-73.62951301021887, 42.966785840840075], [-73.6106146235158, 42.985825007948684], [-73.57982143758969, 43.106249864036904], [-73.5983077421745, 43.16452988778854], [-73.58545174060825, 43.21315905671173], [-73.59910864992236, 43.24186036582351], [-73.5914484671483, 43.26185672928545], [-73.60518934538061, 43.2778246960964], [-73.60261809236147, 43.303340769012095], [-73.6453057486019, 43.304778676312715], [-73.66171706733093, 43.29435701950126], [-73.66812601042778, 43.269802194129916], [-73.68698639613402, 43.27212902049175], [-73.69886565018021, 43.288077944856774], [-73.73224521695394, 43.27814064761492], [-73.74674912804723, 43.26952712178157], [-73.74365154408794, 43.25677862218253], [-73.75629380243518, 43.238155487040935], [-73.77203367393138, 43.229080419200685], [-73.7989967741538, 43.25232685598612], [-73.83608432307246, 43.25556162096873], [-73.82277819386265, 43.297400487863385], [-73.85291514409711, 43.32564772094623], [-73.85225134220191, 43.34156997132392], [-73.87362189113766, 43.36161192604642], [-73.88426517638372, 43.398476391873615], [-74.15955045497212, 43.36885486250568], [-74.14292476708111, 43.25058276630439], [-74.0991597156679, 42.984545045373125], [-74.09284974324508, 42.949991733385076], [-74.05716626729476, 42.949557033534525], [-73.97829923742181, 42.91410000477299], [-73.95694394299593, 42.89464907785499], [-73.90635977275402, 42.902248097098145], [-73.89518993771225, 42.84495565671703], [-73.82223582453132, 42.77531933530638]]]], &quot;type&quot;: &quot;MultiPolygon&quot;}, &quot;id&quot;: &quot;18&quot;, &quot;properties&quot;: {&quot;NAME_x&quot;: &quot;Saratoga&quot;, &quot;POP2000&quot;: 200635, &quot;STATE_NAME&quot;: &quot;New York&quot;, &quot;hospital_count&quot;: 4.0, &quot;id&quot;: -377863685515488634, &quot;norm&quot;: 0.07692307692307693, &quot;people_per_hospital&quot;: 50159.0}, &quot;type&quot;: &quot;Feature&quot;}, {&quot;bbox&quot;: [-74.15955045497212, 42.764135135619284, -73.57982143758969, 43.398476391873615], &quot;geometry&quot;: {&quot;coordinates&quot;: [[[[-73.82223582453132, 42.77531933530638], [-73.81099746315597, 42.773938493039445], [-73.79222108390628, 42.78800325756122], [-73.76787511231635, 42.784776192520326], [-73.7378145894487, 42.808366154363746], [-73.67866261586785, 42.764135135619284], [-73.6628160074003, 42.81455361389264], [-73.67517588928233, 42.84277069978749], [-73.679295837502, 42.89780108444661], [-73.66605855806044, 42.91959052634249], [-73.63653982114072, 42.93951851462616], [-73.62951301021887, 42.966785840840075], [-73.6106146235158, 42.985825007948684], [-73.57982143758969, 43.106249864036904], [-73.5983077421745, 43.16452988778854], [-73.58545174060825, 43.21315905671173], [-73.59910864992236, 43.24186036582351], [-73.5914484671483, 43.26185672928545], [-73.60518934538061, 43.2778246960964], [-73.60261809236147, 43.303340769012095], [-73.6453057486019, 43.304778676312715], [-73.66171706733093, 43.29435701950126], [-73.66812601042778, 43.269802194129916], [-73.68698639613402, 43.27212902049175], [-73.69886565018021, 43.288077944856774], [-73.73224521695394, 43.27814064761492], [-73.74674912804723, 43.26952712178157], [-73.74365154408794, 43.25677862218253], [-73.75629380243518, 43.238155487040935], [-73.77203367393138, 43.229080419200685], [-73.7989967741538, 43.25232685598612], [-73.83608432307246, 43.25556162096873], [-73.82277819386265, 43.297400487863385], [-73.85291514409711, 43.32564772094623], [-73.85225134220191, 43.34156997132392], [-73.87362189113766, 43.36161192604642], [-73.88426517638372, 43.398476391873615], [-74.15955045497212, 43.36885486250568], [-74.14292476708111, 43.25058276630439], [-74.0991597156679, 42.984545045373125], [-74.09284974324508, 42.949991733385076], [-74.05716626729476, 42.949557033534525], [-73.97829923742181, 42.91410000477299], [-73.95694394299593, 42.89464907785499], [-73.90635977275402, 42.902248097098145], [-73.89518993771225, 42.84495565671703], [-73.82223582453132, 42.77531933530638]]]], &quot;type&quot;: &quot;MultiPolygon&quot;}, &quot;id&quot;: &quot;19&quot;, &quot;properties&quot;: {&quot;NAME_x&quot;: &quot;Saratoga&quot;, &quot;POP2000&quot;: 200635, &quot;STATE_NAME&quot;: &quot;New York&quot;, &quot;hospital_count&quot;: 4.0, &quot;id&quot;: -377863685515488634, &quot;norm&quot;: 0.07692307692307693, &quot;people_per_hospital&quot;: 50159.0}, &quot;type&quot;: &quot;Feature&quot;}, {&quot;bbox&quot;: [-78.46636030638014, 43.130002377357734, -77.99083225215233, 43.37199355887229], &quot;geometry&quot;: {&quot;coordinates&quot;: [[[[-78.46636030638014, 43.130002377357734], [-78.12428928701328, 43.1357522581205], [-78.12401454970856, 43.13120897652374], [-77.99083225215233, 43.131236334509445], [-77.9920093179894, 43.36557162612532], [-78.46465371730203, 43.37199355887229], [-78.46636030638014, 43.130002377357734]]]], &quot;type&quot;: &quot;MultiPolygon&quot;}, &quot;id&quot;: &quot;20&quot;, &quot;properties&quot;: {&quot;NAME_x&quot;: &quot;Orleans&quot;, &quot;POP2000&quot;: 44171, &quot;STATE_NAME&quot;: &quot;New York&quot;, &quot;hospital_count&quot;: 0.0, &quot;id&quot;: -4634786102691008950, &quot;norm&quot;: 0.0, &quot;people_per_hospital&quot;: 0.0}, &quot;type&quot;: &quot;Feature&quot;}, {&quot;bbox&quot;: [-78.46636030638014, 43.130002377357734, -77.99083225215233, 43.37199355887229], &quot;geometry&quot;: {&quot;coordinates&quot;: [[[[-78.46636030638014, 43.130002377357734], [-78.12428928701328, 43.1357522581205], [-78.12401454970856, 43.13120897652374], [-77.99083225215233, 43.131236334509445], [-77.9920093179894, 43.36557162612532], [-78.46465371730203, 43.37199355887229], [-78.46636030638014, 43.130002377357734]]]], &quot;type&quot;: &quot;MultiPolygon&quot;}, &quot;id&quot;: &quot;21&quot;, &quot;properties&quot;: {&quot;NAME_x&quot;: &quot;Orleans&quot;, &quot;POP2000&quot;: 44171, &quot;STATE_NAME&quot;: &quot;New York&quot;, &quot;hospital_count&quot;: 0.0, &quot;id&quot;: -4634786102691008950, &quot;norm&quot;: 0.0, &quot;people_per_hospital&quot;: 0.0}, &quot;type&quot;: &quot;Feature&quot;}, {&quot;bbox&quot;: [-76.36288097716907, 43.671474291794496, -75.44721548962082, 44.390262694288495], &quot;geometry&quot;: {&quot;coordinates&quot;: [[[[-76.20566635913048, 43.682700033073004], [-76.03108450935376, 43.671474291794496], [-76.03336589734181, 43.705592578444275], [-75.77467492810126, 43.69019804199436], [-75.79056180820713, 43.78926085979652], [-75.8509503682061, 43.79571829594375], [-75.84066028928385, 43.88422486750586], [-75.75166869875642, 43.87905402320921], [-75.6095990302408, 43.96330964453266], [-75.54923303848675, 43.963577402524585], [-75.54961620582951, 44.008216605117745], [-75.50448666228515, 44.00873605487899], [-75.50432081265048, 44.030154876912114], [-75.48934532827761, 44.043082454968136], [-75.50226284158153, 44.052050551758256], [-75.48873774453536, 44.07316036810749], [-75.54862585330773, 44.103916434637654], [-75.44721548962082, 44.214890888535145], [-75.84802982496619, 44.390262694288495], [-76.36288097716907, 44.09835479545098], [-76.29688293558105, 44.042017127642104], [-76.2015425385076, 44.06559810846497], [-76.13452232320981, 44.013228927642544], [-76.1290659340576, 43.93220804985273], [-76.19371845729164, 43.91249034829752], [-76.23999177645074, 43.83512726517595], [-76.20566635913048, 43.682700033073004]]]], &quot;type&quot;: &quot;MultiPolygon&quot;}, &quot;id&quot;: &quot;22&quot;, &quot;properties&quot;: {&quot;NAME_x&quot;: &quot;Jefferson&quot;, &quot;POP2000&quot;: 111738, &quot;STATE_NAME&quot;: &quot;New York&quot;, &quot;hospital_count&quot;: 2.0, &quot;id&quot;: 5055875244464856056, &quot;norm&quot;: 0.038461538461538464, &quot;people_per_hospital&quot;: 55869.0}, &quot;type&quot;: &quot;Feature&quot;}, {&quot;bbox&quot;: [-76.36288097716907, 43.671474291794496, -75.44721548962082, 44.390262694288495], &quot;geometry&quot;: {&quot;coordinates&quot;: [[[[-76.20566635913048, 43.682700033073004], [-76.03108450935376, 43.671474291794496], [-76.03336589734181, 43.705592578444275], [-75.77467492810126, 43.69019804199436], [-75.79056180820713, 43.78926085979652], [-75.8509503682061, 43.79571829594375], [-75.84066028928385, 43.88422486750586], [-75.75166869875642, 43.87905402320921], [-75.6095990302408, 43.96330964453266], [-75.54923303848675, 43.963577402524585], [-75.54961620582951, 44.008216605117745], [-75.50448666228515, 44.00873605487899], [-75.50432081265048, 44.030154876912114], [-75.48934532827761, 44.043082454968136], [-75.50226284158153, 44.052050551758256], [-75.48873774453536, 44.07316036810749], [-75.54862585330773, 44.103916434637654], [-75.44721548962082, 44.214890888535145], [-75.84802982496619, 44.390262694288495], [-76.36288097716907, 44.09835479545098], [-76.29688293558105, 44.042017127642104], [-76.2015425385076, 44.06559810846497], [-76.13452232320981, 44.013228927642544], [-76.1290659340576, 43.93220804985273], [-76.19371845729164, 43.91249034829752], [-76.23999177645074, 43.83512726517595], [-76.20566635913048, 43.682700033073004]]]], &quot;type&quot;: &quot;MultiPolygon&quot;}, &quot;id&quot;: &quot;23&quot;, &quot;properties&quot;: {&quot;NAME_x&quot;: &quot;Jefferson&quot;, &quot;POP2000&quot;: 111738, &quot;STATE_NAME&quot;: &quot;New York&quot;, &quot;hospital_count&quot;: 2.0, &quot;id&quot;: 5055875244464856056, &quot;norm&quot;: 0.038461538461538464, &quot;people_per_hospital&quot;: 55869.0}, &quot;type&quot;: &quot;Feature&quot;}, {&quot;bbox&quot;: [-75.98849413282406, 42.72766765042703, -75.24334436290978, 43.18645432254452], &quot;geometry&quot;: {&quot;coordinates&quot;: [[[[-75.28607164010619, 42.74863363703551], [-75.25432373044055, 42.788043189397555], [-75.24334436290978, 42.837252401664855], [-75.25212595481902, 42.87354123945405], [-75.43712578517558, 42.86800133045584], [-75.44297716219845, 42.93841655036507], [-75.53695280128994, 42.941894987747915], [-75.54863340916137, 43.04408679494717], [-75.5975321334165, 43.04395670242051], [-75.60194219981307, 43.071647651565904], [-75.63349863887088, 43.07990246711449], [-75.65129118854514, 43.115615719555535], [-75.70086896399026, 43.14091085498132], [-75.70316553729022, 43.15771088166579], [-75.71574688818399, 43.158462325542075], [-75.72162939262965, 43.16748412318766], [-75.7453348080264, 43.161250758576344], [-75.77207699765593, 43.17545293891014], [-75.80497637615287, 43.16044574067971], [-75.87777925808653, 43.15851536535416], [-75.91617967947856, 43.16159760710596], [-75.94614919694965, 43.17753934132401], [-75.98849413282406, 43.18645432254452], [-75.96773375132553, 43.16356592709919], [-75.97228877171831, 43.14711677172091], [-75.95268038000795, 43.14194783882785], [-75.95963877828797, 43.12183271800034], [-75.97939222189052, 43.11015576458212], [-75.97215165029911, 43.09844072178893], [-75.91294487279436, 43.090674059852596], [-75.89292699417392, 42.79579390224214], [-75.88794555041642, 42.72766765042703], [-75.42095167276722, 42.750417675797074], [-75.28607164010619, 42.74863363703551]]]], &quot;type&quot;: &quot;MultiPolygon&quot;}, &quot;id&quot;: &quot;24&quot;, &quot;properties&quot;: {&quot;NAME_x&quot;: &quot;Madison&quot;, &quot;POP2000&quot;: 69441, &quot;STATE_NAME&quot;: &quot;New York&quot;, &quot;hospital_count&quot;: 0.0, &quot;id&quot;: 6850210118228268697, &quot;norm&quot;: 0.0, &quot;people_per_hospital&quot;: 0.0}, &quot;type&quot;: &quot;Feature&quot;}, {&quot;bbox&quot;: [-75.98849413282406, 42.72766765042703, -75.24334436290978, 43.18645432254452], &quot;geometry&quot;: {&quot;coordinates&quot;: [[[[-75.28607164010619, 42.74863363703551], [-75.25432373044055, 42.788043189397555], [-75.24334436290978, 42.837252401664855], [-75.25212595481902, 42.87354123945405], [-75.43712578517558, 42.86800133045584], [-75.44297716219845, 42.93841655036507], [-75.53695280128994, 42.941894987747915], [-75.54863340916137, 43.04408679494717], [-75.5975321334165, 43.04395670242051], [-75.60194219981307, 43.071647651565904], [-75.63349863887088, 43.07990246711449], [-75.65129118854514, 43.115615719555535], [-75.70086896399026, 43.14091085498132], [-75.70316553729022, 43.15771088166579], [-75.71574688818399, 43.158462325542075], [-75.72162939262965, 43.16748412318766], [-75.7453348080264, 43.161250758576344], [-75.77207699765593, 43.17545293891014], [-75.80497637615287, 43.16044574067971], [-75.87777925808653, 43.15851536535416], [-75.91617967947856, 43.16159760710596], [-75.94614919694965, 43.17753934132401], [-75.98849413282406, 43.18645432254452], [-75.96773375132553, 43.16356592709919], [-75.97228877171831, 43.14711677172091], [-75.95268038000795, 43.14194783882785], [-75.95963877828797, 43.12183271800034], [-75.97939222189052, 43.11015576458212], [-75.97215165029911, 43.09844072178893], [-75.91294487279436, 43.090674059852596], [-75.89292699417392, 42.79579390224214], [-75.88794555041642, 42.72766765042703], [-75.42095167276722, 42.750417675797074], [-75.28607164010619, 42.74863363703551]]]], &quot;type&quot;: &quot;MultiPolygon&quot;}, &quot;id&quot;: &quot;25&quot;, &quot;properties&quot;: {&quot;NAME_x&quot;: &quot;Madison&quot;, &quot;POP2000&quot;: 69441, &quot;STATE_NAME&quot;: &quot;New York&quot;, &quot;hospital_count&quot;: 0.0, &quot;id&quot;: 6850210118228268697, &quot;norm&quot;: 0.0, &quot;people_per_hospital&quot;: 0.0}, &quot;type&quot;: &quot;Feature&quot;}, {&quot;bbox&quot;: [-73.64420709805356, 42.93810807273859, -73.23839135894941, 43.80450797173103], &quot;geometry&quot;: {&quot;coordinates&quot;: [[[[-73.25007144362293, 43.310853990742], [-73.23839135894941, 43.512832849414224], [-73.25998379380718, 43.5593823395157], [-73.29140249690133, 43.575033570537514], [-73.28173626823217, 43.593187249576616], [-73.29410430066469, 43.61965287569368], [-73.30353451691104, 43.62471481284998], [-73.36368556156725, 43.61499886797436], [-73.38811421923006, 43.56914365830076], [-73.4183198417113, 43.582479385998006], [-73.42295985429531, 43.63211472897645], [-73.37098938455745, 43.71428111672773], [-73.35666967659282, 43.75655834059903], [-73.35899716812997, 43.77842756869324], [-73.38473990176543, 43.80450797173103], [-73.44817963081267, 43.79795018837387], [-73.4749056906154, 43.783492607540346], [-73.47129636571647, 43.75934229993062], [-73.49332874841487, 43.69204149537667], [-73.4935719766828, 43.65880890254449], [-73.53293265721129, 43.637558159510576], [-73.59721780178556, 43.56539399727093], [-73.61935122050727, 43.56136201381688], [-73.61436106588151, 43.54951763490301], [-73.62394325415788, 43.53042550795681], [-73.64420709805356, 43.51774189738387], [-73.60261809236147, 43.303340769012095], [-73.60518934538061, 43.2778246960964], [-73.5914484671483, 43.26185672928545], [-73.59910864992236, 43.24186036582351], [-73.58545174060825, 43.21315905671173], [-73.5983077421745, 43.16452988778854], [-73.57982143758969, 43.106249864036904], [-73.6106146235158, 42.985825007948684], [-73.62951301021887, 42.966785840840075], [-73.63653982114072, 42.93951851462616], [-73.46440949948726, 42.94029370096789], [-73.42922965568732, 42.95515198009457], [-73.38117868771374, 42.93810807273859], [-73.27600528901175, 42.94029411928888], [-73.25007144362293, 43.310853990742]]]], &quot;type&quot;: &quot;MultiPolygon&quot;}, &quot;id&quot;: &quot;26&quot;, &quot;properties&quot;: {&quot;NAME_x&quot;: &quot;Washington&quot;, &quot;POP2000&quot;: 61042, &quot;STATE_NAME&quot;: &quot;New York&quot;, &quot;hospital_count&quot;: 2.0, &quot;id&quot;: -7809547711805392791, &quot;norm&quot;: 0.038461538461538464, &quot;people_per_hospital&quot;: 30521.0}, &quot;type&quot;: &quot;Feature&quot;}, {&quot;bbox&quot;: [-73.64420709805356, 42.93810807273859, -73.23839135894941, 43.80450797173103], &quot;geometry&quot;: {&quot;coordinates&quot;: [[[[-73.25007144362293, 43.310853990742], [-73.23839135894941, 43.512832849414224], [-73.25998379380718, 43.5593823395157], [-73.29140249690133, 43.575033570537514], [-73.28173626823217, 43.593187249576616], [-73.29410430066469, 43.61965287569368], [-73.30353451691104, 43.62471481284998], [-73.36368556156725, 43.61499886797436], [-73.38811421923006, 43.56914365830076], [-73.4183198417113, 43.582479385998006], [-73.42295985429531, 43.63211472897645], [-73.37098938455745, 43.71428111672773], [-73.35666967659282, 43.75655834059903], [-73.35899716812997, 43.77842756869324], [-73.38473990176543, 43.80450797173103], [-73.44817963081267, 43.79795018837387], [-73.4749056906154, 43.783492607540346], [-73.47129636571647, 43.75934229993062], [-73.49332874841487, 43.69204149537667], [-73.4935719766828, 43.65880890254449], [-73.53293265721129, 43.637558159510576], [-73.59721780178556, 43.56539399727093], [-73.61935122050727, 43.56136201381688], [-73.61436106588151, 43.54951763490301], [-73.62394325415788, 43.53042550795681], [-73.64420709805356, 43.51774189738387], [-73.60261809236147, 43.303340769012095], [-73.60518934538061, 43.2778246960964], [-73.5914484671483, 43.26185672928545], [-73.59910864992236, 43.24186036582351], [-73.58545174060825, 43.21315905671173], [-73.5983077421745, 43.16452988778854], [-73.57982143758969, 43.106249864036904], [-73.6106146235158, 42.985825007948684], [-73.62951301021887, 42.966785840840075], [-73.63653982114072, 42.93951851462616], [-73.46440949948726, 42.94029370096789], [-73.42922965568732, 42.95515198009457], [-73.38117868771374, 42.93810807273859], [-73.27600528901175, 42.94029411928888], [-73.25007144362293, 43.310853990742]]]], &quot;type&quot;: &quot;MultiPolygon&quot;}, &quot;id&quot;: &quot;27&quot;, &quot;properties&quot;: {&quot;NAME_x&quot;: &quot;Washington&quot;, &quot;POP2000&quot;: 61042, &quot;STATE_NAME&quot;: &quot;New York&quot;, &quot;hospital_count&quot;: 2.0, &quot;id&quot;: -7809547711805392791, &quot;norm&quot;: 0.038461538461538464, &quot;people_per_hospital&quot;: 30521.0}, &quot;type&quot;: &quot;Feature&quot;}, {&quot;bbox&quot;: [-74.33167077893613, 43.73944062889542, -73.2933197444993, 44.54432824630099], &quot;geometry&quot;: {&quot;coordinates&quot;: [[[[-73.44817963081267, 43.79795018837387], [-73.38473990176543, 43.80450797173103], [-73.37512078513136, 43.885976950120536], [-73.40533452873689, 43.91480758690216], [-73.41740613012021, 43.98819694575282], [-73.40825130233573, 44.018221901378446], [-73.43600071127898, 44.04567919043891], [-73.43521527802392, 44.06389780242824], [-73.40875683070895, 44.10661035356064], [-73.40786483046159, 44.13622703926945], [-73.38206233640643, 44.17210761207876], [-73.37733262552908, 44.20124751712961], [-73.30532566647294, 44.26014225762848], [-73.32978809302911, 44.36739046808658], [-73.29999516300052, 44.40553316454072], [-73.2933197444993, 44.4328535783624], [-73.33445249399755, 44.54432824630099], [-73.46972517783645, 44.53626766634104], [-73.47750733390102, 44.52398847110019], [-73.46607052596697, 44.51162920394341], [-73.50405801345579, 44.48441172143147], [-73.53989426592399, 44.486822358264675], [-73.5701604282447, 44.46002029256568], [-73.62780193787094, 44.452440123952094], [-73.67651670091607, 44.435697139599675], [-73.70209118296141, 44.4394009994629], [-73.73154136784866, 44.4330836574324], [-73.74495429382361, 44.43949604102563], [-73.91068477811015, 44.424661277272904], [-74.13515760616237, 44.40046128818358], [-74.09194988959581, 44.13751427580274], [-74.27850436795232, 44.118575404419076], [-74.25629841807668, 43.97056095698315], [-74.33167077893613, 43.92164844207468], [-74.21258209425797, 43.81122913325315], [-74.18789249148186, 43.82401583850068], [-74.14859153439966, 43.828166040595775], [-74.13715400154352, 43.8149710642537], [-74.0559873752203, 43.793170041137536], [-74.05910606522617, 43.73944062889542], [-73.44817963081267, 43.79795018837387]]]], &quot;type&quot;: &quot;MultiPolygon&quot;}, &quot;id&quot;: &quot;28&quot;, &quot;properties&quot;: {&quot;NAME_x&quot;: &quot;Essex&quot;, &quot;POP2000&quot;: 38851, &quot;STATE_NAME&quot;: &quot;New York&quot;, &quot;hospital_count&quot;: 6.0, &quot;id&quot;: -4485938710178891432, &quot;norm&quot;: 0.11538461538461539, &quot;people_per_hospital&quot;: 6475.0}, &quot;type&quot;: &quot;Feature&quot;}, {&quot;bbox&quot;: [-74.33167077893613, 43.73944062889542, -73.2933197444993, 44.54432824630099], &quot;geometry&quot;: {&quot;coordinates&quot;: [[[[-73.44817963081267, 43.79795018837387], [-73.38473990176543, 43.80450797173103], [-73.37512078513136, 43.885976950120536], [-73.40533452873689, 43.91480758690216], [-73.41740613012021, 43.98819694575282], [-73.40825130233573, 44.018221901378446], [-73.43600071127898, 44.04567919043891], [-73.43521527802392, 44.06389780242824], [-73.40875683070895, 44.10661035356064], [-73.40786483046159, 44.13622703926945], [-73.38206233640643, 44.17210761207876], [-73.37733262552908, 44.20124751712961], [-73.30532566647294, 44.26014225762848], [-73.32978809302911, 44.36739046808658], [-73.29999516300052, 44.40553316454072], [-73.2933197444993, 44.4328535783624], [-73.33445249399755, 44.54432824630099], [-73.46972517783645, 44.53626766634104], [-73.47750733390102, 44.52398847110019], [-73.46607052596697, 44.51162920394341], [-73.50405801345579, 44.48441172143147], [-73.53989426592399, 44.486822358264675], [-73.5701604282447, 44.46002029256568], [-73.62780193787094, 44.452440123952094], [-73.67651670091607, 44.435697139599675], [-73.70209118296141, 44.4394009994629], [-73.73154136784866, 44.4330836574324], [-73.74495429382361, 44.43949604102563], [-73.91068477811015, 44.424661277272904], [-74.13515760616237, 44.40046128818358], [-74.09194988959581, 44.13751427580274], [-74.27850436795232, 44.118575404419076], [-74.25629841807668, 43.97056095698315], [-74.33167077893613, 43.92164844207468], [-74.21258209425797, 43.81122913325315], [-74.18789249148186, 43.82401583850068], [-74.14859153439966, 43.828166040595775], [-74.13715400154352, 43.8149710642537], [-74.0559873752203, 43.793170041137536], [-74.05910606522617, 43.73944062889542], [-73.44817963081267, 43.79795018837387]]]], &quot;type&quot;: &quot;MultiPolygon&quot;}, &quot;id&quot;: &quot;29&quot;, &quot;properties&quot;: {&quot;NAME_x&quot;: &quot;Essex&quot;, &quot;POP2000&quot;: 38851, &quot;STATE_NAME&quot;: &quot;New York&quot;, &quot;hospital_count&quot;: 6.0, &quot;id&quot;: -4485938710178891432, &quot;norm&quot;: 0.11538461538461539, &quot;people_per_hospital&quot;: 6475.0}, &quot;type&quot;: &quot;Feature&quot;}, {&quot;bbox&quot;: [-74.73610762852614, 44.09591239306971, -73.91068477811015, 44.992916205936474], &quot;geometry&quot;: {&quot;coordinates&quot;: [[[[-74.02153893378194, 44.990847370002314], [-74.73610762852614, 44.992916205936474], [-74.71515203902412, 44.946953240110695], [-74.64873961015135, 44.94500960394949], [-74.53369585634537, 44.17794360074588], [-74.55327351257948, 44.15599008571866], [-74.53622752083578, 44.09591239306971], [-74.27850436795232, 44.118575404419076], [-74.09194988959581, 44.13751427580274], [-74.13515760616237, 44.40046128818358], [-73.91068477811015, 44.424661277272904], [-73.96426442380128, 44.69968965373481], [-73.99637679304048, 44.70015533318438], [-74.02153893378194, 44.990847370002314]]]], &quot;type&quot;: &quot;MultiPolygon&quot;}, &quot;id&quot;: &quot;30&quot;, &quot;properties&quot;: {&quot;NAME_x&quot;: &quot;Franklin&quot;, &quot;POP2000&quot;: 51134, &quot;STATE_NAME&quot;: &quot;New York&quot;, &quot;hospital_count&quot;: 2.0, &quot;id&quot;: -4909758426746326871, &quot;norm&quot;: 0.038461538461538464, &quot;people_per_hospital&quot;: 25567.0}, &quot;type&quot;: &quot;Feature&quot;}, {&quot;bbox&quot;: [-74.73610762852614, 44.09591239306971, -73.91068477811015, 44.992916205936474], &quot;geometry&quot;: {&quot;coordinates&quot;: [[[[-74.02153893378194, 44.990847370002314], [-74.73610762852614, 44.992916205936474], [-74.71515203902412, 44.946953240110695], [-74.64873961015135, 44.94500960394949], [-74.53369585634537, 44.17794360074588], [-74.55327351257948, 44.15599008571866], [-74.53622752083578, 44.09591239306971], [-74.27850436795232, 44.118575404419076], [-74.09194988959581, 44.13751427580274], [-74.13515760616237, 44.40046128818358], [-73.91068477811015, 44.424661277272904], [-73.96426442380128, 44.69968965373481], [-73.99637679304048, 44.70015533318438], [-74.02153893378194, 44.990847370002314]]]], &quot;type&quot;: &quot;MultiPolygon&quot;}, &quot;id&quot;: &quot;31&quot;, &quot;properties&quot;: {&quot;NAME_x&quot;: &quot;Franklin&quot;, &quot;POP2000&quot;: 51134, &quot;STATE_NAME&quot;: &quot;New York&quot;, &quot;hospital_count&quot;: 2.0, &quot;id&quot;: -4909758426746326871, &quot;norm&quot;: 0.038461538461538464, &quot;people_per_hospital&quot;: 25567.0}, &quot;type&quot;: &quot;Feature&quot;}, {&quot;bbox&quot;: [-73.78817229705476, 42.46029088347381, -73.2580598287651, 42.95515198009457], &quot;geometry&quot;: {&quot;coordinates&quot;: [[[[-73.35082423703108, 42.504755759764635], [-73.2580598287651, 42.746058640061555], [-73.26927531690005, 42.747481432997965], [-73.29616975723152, 42.8035493647588], [-73.27958319993186, 42.83710332747995], [-73.27600528901175, 42.94029411928888], [-73.38117868771374, 42.93810807273859], [-73.42922965568732, 42.95515198009457], [-73.46440949948726, 42.94029370096789], [-73.63653982114072, 42.93951851462616], [-73.66605855806044, 42.91959052634249], [-73.679295837502, 42.89780108444661], [-73.67517588928233, 42.84277069978749], [-73.6628160074003, 42.81455361389264], [-73.67866261586785, 42.764135135619284], [-73.69769855414033, 42.69599402541816], [-73.7641148771775, 42.60522817381909], [-73.76245970962911, 42.544781240012846], [-73.78817229705476, 42.4798444736252], [-73.77952807941199, 42.46029088347381], [-73.35082423703108, 42.504755759764635]]]], &quot;type&quot;: &quot;MultiPolygon&quot;}, &quot;id&quot;: &quot;32&quot;, &quot;properties&quot;: {&quot;NAME_x&quot;: &quot;Rensselaer&quot;, &quot;POP2000&quot;: 152538, &quot;STATE_NAME&quot;: &quot;New York&quot;, &quot;hospital_count&quot;: 8.0, &quot;id&quot;: -3632012373201036899, &quot;norm&quot;: 0.15384615384615385, &quot;people_per_hospital&quot;: 19067.0}, &quot;type&quot;: &quot;Feature&quot;}, {&quot;bbox&quot;: [-73.78817229705476, 42.46029088347381, -73.2580598287651, 42.95515198009457], &quot;geometry&quot;: {&quot;coordinates&quot;: [[[[-73.35082423703108, 42.504755759764635], [-73.2580598287651, 42.746058640061555], [-73.26927531690005, 42.747481432997965], [-73.29616975723152, 42.8035493647588], [-73.27958319993186, 42.83710332747995], [-73.27600528901175, 42.94029411928888], [-73.38117868771374, 42.93810807273859], [-73.42922965568732, 42.95515198009457], [-73.46440949948726, 42.94029370096789], [-73.63653982114072, 42.93951851462616], [-73.66605855806044, 42.91959052634249], [-73.679295837502, 42.89780108444661], [-73.67517588928233, 42.84277069978749], [-73.6628160074003, 42.81455361389264], [-73.67866261586785, 42.764135135619284], [-73.69769855414033, 42.69599402541816], [-73.7641148771775, 42.60522817381909], [-73.76245970962911, 42.544781240012846], [-73.78817229705476, 42.4798444736252], [-73.77952807941199, 42.46029088347381], [-73.35082423703108, 42.504755759764635]]]], &quot;type&quot;: &quot;MultiPolygon&quot;}, &quot;id&quot;: &quot;33&quot;, &quot;properties&quot;: {&quot;NAME_x&quot;: &quot;Rensselaer&quot;, &quot;POP2000&quot;: 152538, &quot;STATE_NAME&quot;: &quot;New York&quot;, &quot;hospital_count&quot;: 8.0, &quot;id&quot;: -3632012373201036899, &quot;norm&quot;: 0.15384615384615385, &quot;people_per_hospital&quot;: 19067.0}, &quot;type&quot;: &quot;Feature&quot;}, {&quot;bbox&quot;: [-77.10346016430381, 42.23692931370855, -76.61757359968263, 42.555605888224996], &quot;geometry&quot;: {&quot;coordinates&quot;: [[[[-77.10346016430381, 42.480227112562865], [-77.09627267962645, 42.27719646706008], [-76.96595626232357, 42.276159324605736], [-76.96195062785345, 42.28397553808117], [-76.72967709194229, 42.29271131867046], [-76.72366497726705, 42.25011311801929], [-76.68272385195179, 42.24960560537367], [-76.68038157456868, 42.23692931370855], [-76.64013474965117, 42.238210912037765], [-76.61757359968263, 42.248209174325766], [-76.61942750319928, 42.280893205224054], [-76.68402080278523, 42.283208894613814], [-76.70017204439357, 42.555605888224996], [-76.89679977608984, 42.551832691257395], [-76.89940154600235, 42.50994764916633], [-76.88468365478494, 42.47026767713545], [-76.95504574635656, 42.45731684060306], [-76.9596846727392, 42.4640306085601], [-76.98267328439813, 42.4635079644722], [-76.98599989792332, 42.48298172196434], [-77.10346016430381, 42.480227112562865]]]], &quot;type&quot;: &quot;MultiPolygon&quot;}, &quot;id&quot;: &quot;34&quot;, &quot;properties&quot;: {&quot;NAME_x&quot;: &quot;Schuyler&quot;, &quot;POP2000&quot;: 19224, &quot;STATE_NAME&quot;: &quot;New York&quot;, &quot;hospital_count&quot;: 0.0, &quot;id&quot;: -3559357998375104614, &quot;norm&quot;: 0.0, &quot;people_per_hospital&quot;: 0.0}, &quot;type&quot;: &quot;Feature&quot;}, {&quot;bbox&quot;: [-77.10346016430381, 42.23692931370855, -76.61757359968263, 42.555605888224996], &quot;geometry&quot;: {&quot;coordinates&quot;: [[[[-77.10346016430381, 42.480227112562865], [-77.09627267962645, 42.27719646706008], [-76.96595626232357, 42.276159324605736], [-76.96195062785345, 42.28397553808117], [-76.72967709194229, 42.29271131867046], [-76.72366497726705, 42.25011311801929], [-76.68272385195179, 42.24960560537367], [-76.68038157456868, 42.23692931370855], [-76.64013474965117, 42.238210912037765], [-76.61757359968263, 42.248209174325766], [-76.61942750319928, 42.280893205224054], [-76.68402080278523, 42.283208894613814], [-76.70017204439357, 42.555605888224996], [-76.89679977608984, 42.551832691257395], [-76.89940154600235, 42.50994764916633], [-76.88468365478494, 42.47026767713545], [-76.95504574635656, 42.45731684060306], [-76.9596846727392, 42.4640306085601], [-76.98267328439813, 42.4635079644722], [-76.98599989792332, 42.48298172196434], [-77.10346016430381, 42.480227112562865]]]], &quot;type&quot;: &quot;MultiPolygon&quot;}, &quot;id&quot;: &quot;35&quot;, &quot;properties&quot;: {&quot;NAME_x&quot;: &quot;Schuyler&quot;, &quot;POP2000&quot;: 19224, &quot;STATE_NAME&quot;: &quot;New York&quot;, &quot;hospital_count&quot;: 0.0, &quot;id&quot;: -3559357998375104614, &quot;norm&quot;: 0.0, &quot;people_per_hospital&quot;: 0.0}, &quot;type&quot;: &quot;Feature&quot;}, {&quot;bbox&quot;: [-74.2369398627783, 40.5060032905632, -74.05919368629294, 40.6495633368533], &quot;geometry&quot;: {&quot;coordinates&quot;: [[[[-74.23693964924445, 40.5060032905632], [-74.19364183384836, 40.51056194205796], [-74.12299972778627, 40.54474122548909], [-74.05919368629294, 40.60170899562276], [-74.07286605953172, 40.6495633368533], [-74.16629801450539, 40.62449713060268], [-74.2369398627783, 40.53790496768374], [-74.23693964924445, 40.5060032905632]]]], &quot;type&quot;: &quot;MultiPolygon&quot;}, &quot;id&quot;: &quot;36&quot;, &quot;properties&quot;: {&quot;NAME_x&quot;: &quot;Richmond&quot;, &quot;POP2000&quot;: 443728, &quot;STATE_NAME&quot;: &quot;New York&quot;, &quot;hospital_count&quot;: 8.0, &quot;id&quot;: -548961624592322656, &quot;norm&quot;: 0.15384615384615385, &quot;people_per_hospital&quot;: 55466.0}, &quot;type&quot;: &quot;Feature&quot;}, {&quot;bbox&quot;: [-74.2369398627783, 40.5060032905632, -74.05919368629294, 40.6495633368533], &quot;geometry&quot;: {&quot;coordinates&quot;: [[[[-74.23693964924445, 40.5060032905632], [-74.19364183384836, 40.51056194205796], [-74.12299972778627, 40.54474122548909], [-74.05919368629294, 40.60170899562276], [-74.07286605953172, 40.6495633368533], [-74.16629801450539, 40.62449713060268], [-74.2369398627783, 40.53790496768374], [-74.23693964924445, 40.5060032905632]]]], &quot;type&quot;: &quot;MultiPolygon&quot;}, &quot;id&quot;: &quot;37&quot;, &quot;properties&quot;: {&quot;NAME_x&quot;: &quot;Richmond&quot;, &quot;POP2000&quot;: 443728, &quot;STATE_NAME&quot;: &quot;New York&quot;, &quot;hospital_count&quot;: 8.0, &quot;id&quot;: -548961624592322656, &quot;norm&quot;: 0.15384615384615385, &quot;people_per_hospital&quot;: 55466.0}, &quot;type&quot;: &quot;Feature&quot;}, {&quot;bbox&quot;: [-73.98120463131701, 41.324808530694995, -73.53039207071754, 41.52657154476691], &quot;geometry&quot;: {&quot;coordinates&quot;: [[[[-73.54429325367421, 41.36529847679947], [-73.53039207071754, 41.522745556300436], [-73.5886366209373, 41.52657154476691], [-73.92847594958317, 41.49090024134495], [-73.98120463131701, 41.43963467258381], [-73.95489781829053, 41.396959651377216], [-73.9800149179395, 41.324808530694995], [-73.54429325367421, 41.36529847679947]]]], &quot;type&quot;: &quot;MultiPolygon&quot;}, &quot;id&quot;: &quot;38&quot;, &quot;properties&quot;: {&quot;NAME_x&quot;: &quot;Putnam&quot;, &quot;POP2000&quot;: 95745, &quot;STATE_NAME&quot;: &quot;New York&quot;, &quot;hospital_count&quot;: 2.0, &quot;id&quot;: -5603535861190485741, &quot;norm&quot;: 0.038461538461538464, &quot;people_per_hospital&quot;: 47873.0}, &quot;type&quot;: &quot;Feature&quot;}, {&quot;bbox&quot;: [-73.98120463131701, 41.324808530694995, -73.53039207071754, 41.52657154476691], &quot;geometry&quot;: {&quot;coordinates&quot;: [[[[-73.54429325367421, 41.36529847679947], [-73.53039207071754, 41.522745556300436], [-73.5886366209373, 41.52657154476691], [-73.92847594958317, 41.49090024134495], [-73.98120463131701, 41.43963467258381], [-73.95489781829053, 41.396959651377216], [-73.9800149179395, 41.324808530694995], [-73.54429325367421, 41.36529847679947]]]], &quot;type&quot;: &quot;MultiPolygon&quot;}, &quot;id&quot;: &quot;39&quot;, &quot;properties&quot;: {&quot;NAME_x&quot;: &quot;Putnam&quot;, &quot;POP2000&quot;: 95745, &quot;STATE_NAME&quot;: &quot;New York&quot;, &quot;hospital_count&quot;: 2.0, &quot;id&quot;: -5603535861190485741, &quot;norm&quot;: 0.038461538461538464, &quot;people_per_hospital&quot;: 47873.0}, &quot;type&quot;: &quot;Feature&quot;}, {&quot;bbox&quot;: [-76.5639147893755, 41.99949874585062, -76.07560602471918, 42.40806597835265], &quot;geometry&quot;: {&quot;coordinates&quot;: [[[[-76.5639147893755, 42.003011410906424], [-76.1450203202792, 42.00065450807675], [-76.10483453096165, 41.99949874585062], [-76.11104585447433, 42.184751564780356], [-76.0937340915175, 42.185484028968226], [-76.07560602471918, 42.20077335650802], [-76.0783681194977, 42.23117262276299], [-76.09085791840344, 42.23415186407148], [-76.09352077787042, 42.26091562976966], [-76.07736875808207, 42.259813234164746], [-76.07902444493448, 42.273874049079474], [-76.11220589428686, 42.28424221201766], [-76.11254925306234, 42.29559463089619], [-76.10321817477819, 42.29483934693103], [-76.10523246618709, 42.32025258595606], [-76.11521205756088, 42.32190431699563], [-76.12653459802382, 42.40806597835265], [-76.25442246568267, 42.40499896720334], [-76.29415780007355, 42.40430857631302], [-76.29645441835014, 42.379723056155676], [-76.240963921723, 42.35388245697494], [-76.25214154826207, 42.29642596504167], [-76.28625383521967, 42.296284852730246], [-76.28594861497005, 42.30583296136395], [-76.3485882631908, 42.30516545411212], [-76.35269298540985, 42.31645687420092], [-76.41347861848574, 42.31578936914599], [-76.41534048859316, 42.26213223397109], [-76.46681792928275, 42.262525179197596], [-76.4673519379814, 42.27751683466256], [-76.5368585580359, 42.278897884681804], [-76.53108341503983, 42.15404682077804], [-76.55641411237214, 42.15264305833924], [-76.54970039288337, 42.053724053340936], [-76.5639147893755, 42.003011410906424]]]], &quot;type&quot;: &quot;MultiPolygon&quot;}, &quot;id&quot;: &quot;40&quot;, &quot;properties&quot;: {&quot;NAME_x&quot;: &quot;Tioga&quot;, &quot;POP2000&quot;: 51784, &quot;STATE_NAME&quot;: &quot;New York&quot;, &quot;hospital_count&quot;: 0.0, &quot;id&quot;: 8610045531426385900, &quot;norm&quot;: 0.0, &quot;people_per_hospital&quot;: 0.0}, &quot;type&quot;: &quot;Feature&quot;}, {&quot;bbox&quot;: [-76.5639147893755, 41.99949874585062, -76.07560602471918, 42.40806597835265], &quot;geometry&quot;: {&quot;coordinates&quot;: [[[[-76.5639147893755, 42.003011410906424], [-76.1450203202792, 42.00065450807675], [-76.10483453096165, 41.99949874585062], [-76.11104585447433, 42.184751564780356], [-76.0937340915175, 42.185484028968226], [-76.07560602471918, 42.20077335650802], [-76.0783681194977, 42.23117262276299], [-76.09085791840344, 42.23415186407148], [-76.09352077787042, 42.26091562976966], [-76.07736875808207, 42.259813234164746], [-76.07902444493448, 42.273874049079474], [-76.11220589428686, 42.28424221201766], [-76.11254925306234, 42.29559463089619], [-76.10321817477819, 42.29483934693103], [-76.10523246618709, 42.32025258595606], [-76.11521205756088, 42.32190431699563], [-76.12653459802382, 42.40806597835265], [-76.25442246568267, 42.40499896720334], [-76.29415780007355, 42.40430857631302], [-76.29645441835014, 42.379723056155676], [-76.240963921723, 42.35388245697494], [-76.25214154826207, 42.29642596504167], [-76.28625383521967, 42.296284852730246], [-76.28594861497005, 42.30583296136395], [-76.3485882631908, 42.30516545411212], [-76.35269298540985, 42.31645687420092], [-76.41347861848574, 42.31578936914599], [-76.41534048859316, 42.26213223397109], [-76.46681792928275, 42.262525179197596], [-76.4673519379814, 42.27751683466256], [-76.5368585580359, 42.278897884681804], [-76.53108341503983, 42.15404682077804], [-76.55641411237214, 42.15264305833924], [-76.54970039288337, 42.053724053340936], [-76.5639147893755, 42.003011410906424]]]], &quot;type&quot;: &quot;MultiPolygon&quot;}, &quot;id&quot;: &quot;41&quot;, &quot;properties&quot;: {&quot;NAME_x&quot;: &quot;Tioga&quot;, &quot;POP2000&quot;: 51784, &quot;STATE_NAME&quot;: &quot;New York&quot;, &quot;hospital_count&quot;: 0.0, &quot;id&quot;: 8610045531426385900, &quot;norm&quot;: 0.0, &quot;people_per_hospital&quot;: 0.0}, &quot;type&quot;: &quot;Feature&quot;}, {&quot;bbox&quot;: [-73.47808965154871, 40.62542443421994, -71.86998672142302, 41.149333368369604], &quot;geometry&quot;: {&quot;coordinates&quot;: [[[[-73.29305897061383, 40.62638221328565], [-73.24905117305993, 40.62542443421994], [-73.03093394571715, 40.671341012022836], [-72.95631569208312, 40.70003874094965], [-72.76402531185718, 40.75839228490507], [-72.75732649478007, 40.76795951705332], [-72.78219912066412, 40.76413331013207], [-72.87690605511864, 40.73734633577008], [-73.05102282397203, 40.67516712232977], [-73.24043721229103, 40.633076584330254], [-73.29114386694165, 40.633076886172574], [-73.29305897061383, 40.62638221328565]]], [[[-73.4225260722185, 40.66132514749972], [-72.52116417623046, 40.815041578790364], [-71.91870228696017, 41.03057406313579], [-71.86998672142302, 41.07450768188643], [-71.92370021338687, 41.08487180327302], [-72.0770111448791, 41.00057428968321], [-72.20335052497528, 41.03537392755957], [-72.29308242777472, 41.02401744077495], [-72.4761091088628, 40.92014831798843], [-72.60481541607395, 40.90530059404059], [-72.5509712260717, 40.96617991960176], [-72.41634565620613, 41.026040112823395], [-72.35427931565806, 41.11020278315458], [-72.28114923719912, 41.142535313210395], [-72.31703144470053, 41.149333368369604], [-72.63157241251949, 40.9812851867213], [-73.02126964947121, 40.96843308148169], [-73.14097968584244, 40.95139600800366], [-73.21452309636227, 40.90104172992564], [-73.43064782242064, 40.922556629874705], [-73.47808965154871, 40.879744720266025], [-73.45519344397273, 40.858134589906], [-73.4225260722185, 40.66132514749972]]]], &quot;type&quot;: &quot;MultiPolygon&quot;}, &quot;id&quot;: &quot;42&quot;, &quot;properties&quot;: {&quot;NAME_x&quot;: &quot;Suffolk&quot;, &quot;POP2000&quot;: 1419369, &quot;STATE_NAME&quot;: &quot;New York&quot;, &quot;hospital_count&quot;: 30.0, &quot;id&quot;: -4710330297899857507, &quot;norm&quot;: 0.5769230769230769, &quot;people_per_hospital&quot;: 47312.0}, &quot;type&quot;: &quot;Feature&quot;}, {&quot;bbox&quot;: [-73.47808965154871, 40.62542443421994, -71.86998672142302, 41.149333368369604], &quot;geometry&quot;: {&quot;coordinates&quot;: [[[[-73.29305897061383, 40.62638221328565], [-73.24905117305993, 40.62542443421994], [-73.03093394571715, 40.671341012022836], [-72.95631569208312, 40.70003874094965], [-72.76402531185718, 40.75839228490507], [-72.75732649478007, 40.76795951705332], [-72.78219912066412, 40.76413331013207], [-72.87690605511864, 40.73734633577008], [-73.05102282397203, 40.67516712232977], [-73.24043721229103, 40.633076584330254], [-73.29114386694165, 40.633076886172574], [-73.29305897061383, 40.62638221328565]]], [[[-73.4225260722185, 40.66132514749972], [-72.52116417623046, 40.815041578790364], [-71.91870228696017, 41.03057406313579], [-71.86998672142302, 41.07450768188643], [-71.92370021338687, 41.08487180327302], [-72.0770111448791, 41.00057428968321], [-72.20335052497528, 41.03537392755957], [-72.29308242777472, 41.02401744077495], [-72.4761091088628, 40.92014831798843], [-72.60481541607395, 40.90530059404059], [-72.5509712260717, 40.96617991960176], [-72.41634565620613, 41.026040112823395], [-72.35427931565806, 41.11020278315458], [-72.28114923719912, 41.142535313210395], [-72.31703144470053, 41.149333368369604], [-72.63157241251949, 40.9812851867213], [-73.02126964947121, 40.96843308148169], [-73.14097968584244, 40.95139600800366], [-73.21452309636227, 40.90104172992564], [-73.43064782242064, 40.922556629874705], [-73.47808965154871, 40.879744720266025], [-73.45519344397273, 40.858134589906], [-73.4225260722185, 40.66132514749972]]]], &quot;type&quot;: &quot;MultiPolygon&quot;}, &quot;id&quot;: &quot;43&quot;, &quot;properties&quot;: {&quot;NAME_x&quot;: &quot;Suffolk&quot;, &quot;POP2000&quot;: 1419369, &quot;STATE_NAME&quot;: &quot;New York&quot;, &quot;hospital_count&quot;: 30.0, &quot;id&quot;: -4710330297899857507, &quot;norm&quot;: 0.5769230769230769, &quot;people_per_hospital&quot;: 47312.0}, &quot;type&quot;: &quot;Feature&quot;}, {&quot;bbox&quot;: [-75.84802982496619, 44.05215776119982, -74.53369585634537, 44.992916205936474], &quot;geometry&quot;: {&quot;coordinates&quot;: [[[[-75.16386884565581, 44.09280734255202], [-75.06710130940564, 44.05215776119982], [-74.85420430838985, 44.070099859544435], [-74.53622752083578, 44.09591239306971], [-74.55327351257948, 44.15599008571866], [-74.53369585634537, 44.17794360074588], [-74.64873961015135, 44.94500960394949], [-74.71515203902412, 44.946953240110695], [-74.73610762852614, 44.992916205936474], [-74.96846961727715, 44.94862513365958], [-75.328862374301, 44.81062920003338], [-75.75865750281373, 44.5175335377769], [-75.84802982496619, 44.390262694288495], [-75.44721548962082, 44.214890888535145], [-75.16386884565581, 44.09280734255202]]]], &quot;type&quot;: &quot;MultiPolygon&quot;}, &quot;id&quot;: &quot;44&quot;, &quot;properties&quot;: {&quot;NAME_x&quot;: &quot;St. Lawrence&quot;, &quot;POP2000&quot;: 111931, &quot;STATE_NAME&quot;: &quot;New York&quot;, &quot;hospital_count&quot;: 4.0, &quot;id&quot;: 3368086185628540338, &quot;norm&quot;: 0.07692307692307693, &quot;people_per_hospital&quot;: 27983.0}, &quot;type&quot;: &quot;Feature&quot;}, {&quot;bbox&quot;: [-75.84802982496619, 44.05215776119982, -74.53369585634537, 44.992916205936474], &quot;geometry&quot;: {&quot;coordinates&quot;: [[[[-75.16386884565581, 44.09280734255202], [-75.06710130940564, 44.05215776119982], [-74.85420430838985, 44.070099859544435], [-74.53622752083578, 44.09591239306971], [-74.55327351257948, 44.15599008571866], [-74.53369585634537, 44.17794360074588], [-74.64873961015135, 44.94500960394949], [-74.71515203902412, 44.946953240110695], [-74.73610762852614, 44.992916205936474], [-74.96846961727715, 44.94862513365958], [-75.328862374301, 44.81062920003338], [-75.75865750281373, 44.5175335377769], [-75.84802982496619, 44.390262694288495], [-75.44721548962082, 44.214890888535145], [-75.16386884565581, 44.09280734255202]]]], &quot;type&quot;: &quot;MultiPolygon&quot;}, &quot;id&quot;: &quot;45&quot;, &quot;properties&quot;: {&quot;NAME_x&quot;: &quot;St. Lawrence&quot;, &quot;POP2000&quot;: 111931, &quot;STATE_NAME&quot;: &quot;New York&quot;, &quot;hospital_count&quot;: 4.0, &quot;id&quot;: 3368086185628540338, &quot;norm&quot;: 0.07692307692307693, &quot;people_per_hospital&quot;: 27983.0}, &quot;type&quot;: &quot;Feature&quot;}, {&quot;bbox&quot;: [-74.76363706742107, 42.76920532193107, -74.08652437359211, 43.04429099340328], &quot;geometry&quot;: {&quot;coordinates&quot;: [[[[-74.76363706742107, 42.86639835433678], [-74.64891740446674, 42.83474084779929], [-74.57376522295252, 42.816453543028125], [-74.44911922417363, 42.76920532193107], [-74.3692673672046, 42.782186746563674], [-74.28309042378046, 42.78285824748365], [-74.25879021326297, 42.79699930603613], [-74.25384645034733, 42.81155614096118], [-74.08652437359211, 42.89679610239707], [-74.09284974324508, 42.949991733385076], [-74.0991597156679, 42.984545045373125], [-74.53819679548738, 42.982563105437954], [-74.74743283805752, 43.04429099340328], [-74.74497536265133, 42.99109939289246], [-74.76363706742107, 42.86639835433678]]]], &quot;type&quot;: &quot;MultiPolygon&quot;}, &quot;id&quot;: &quot;46&quot;, &quot;properties&quot;: {&quot;NAME_x&quot;: &quot;Montgomery&quot;, &quot;POP2000&quot;: 49708, &quot;STATE_NAME&quot;: &quot;New York&quot;, &quot;hospital_count&quot;: 2.0, &quot;id&quot;: -1746736108797037475, &quot;norm&quot;: 0.038461538461538464, &quot;people_per_hospital&quot;: 24854.0}, &quot;type&quot;: &quot;Feature&quot;}, {&quot;bbox&quot;: [-74.76363706742107, 42.76920532193107, -74.08652437359211, 43.04429099340328], &quot;geometry&quot;: {&quot;coordinates&quot;: [[[[-74.76363706742107, 42.86639835433678], [-74.64891740446674, 42.83474084779929], [-74.57376522295252, 42.816453543028125], [-74.44911922417363, 42.76920532193107], [-74.3692673672046, 42.782186746563674], [-74.28309042378046, 42.78285824748365], [-74.25879021326297, 42.79699930603613], [-74.25384645034733, 42.81155614096118], [-74.08652437359211, 42.89679610239707], [-74.09284974324508, 42.949991733385076], [-74.0991597156679, 42.984545045373125], [-74.53819679548738, 42.982563105437954], [-74.74743283805752, 43.04429099340328], [-74.74497536265133, 42.99109939289246], [-74.76363706742107, 42.86639835433678]]]], &quot;type&quot;: &quot;MultiPolygon&quot;}, &quot;id&quot;: &quot;47&quot;, &quot;properties&quot;: {&quot;NAME_x&quot;: &quot;Montgomery&quot;, &quot;POP2000&quot;: 49708, &quot;STATE_NAME&quot;: &quot;New York&quot;, &quot;hospital_count&quot;: 2.0, &quot;id&quot;: -1746736108797037475, &quot;norm&quot;: 0.038461538461538464, &quot;people_per_hospital&quot;: 24854.0}, &quot;type&quot;: &quot;Feature&quot;}, {&quot;bbox&quot;: [-75.41035122199824, 42.31403796074493, -74.63697313493422, 42.9103876663873], &quot;geometry&quot;: {&quot;coordinates&quot;: [[[[-75.212932480378, 42.88527912616988], [-75.2453889053225, 42.88133462636549], [-75.25212595481902, 42.87354123945405], [-75.24334436290978, 42.837252401664855], [-75.25432373044055, 42.788043189397555], [-75.28607164010619, 42.74863363703551], [-75.3213153334381, 42.66554694174763], [-75.32105677433009, 42.61918778957632], [-75.33385276186155, 42.57132933932951], [-75.37005639697729, 42.54459218757821], [-75.37883867164717, 42.51677580459975], [-75.39293858657508, 42.50617477382958], [-75.39537281026183, 42.47251470233885], [-75.37329285991567, 42.42503852166106], [-75.40305664990593, 42.391092086289035], [-75.3912614183847, 42.360323703503894], [-75.41035122199824, 42.321952476634706], [-75.34256926083438, 42.31403796074493], [-75.3061145740021, 42.322132948248196], [-75.25346159390578, 42.361275139739185], [-75.21879223286521, 42.36660437436273], [-75.19170666267932, 42.38002811647828], [-75.19018859528316, 42.363686388930034], [-75.1377647443384, 42.38460216025505], [-75.082433785358, 42.42052075482452], [-75.02225079021889, 42.426006520190604], [-75.01200382966663, 42.44789855253954], [-74.9982704797067, 42.44346224812692], [-74.98908429947221, 42.45307117390734], [-74.98097404943606, 42.45131260932546], [-74.9645547695933, 42.47734330868152], [-74.93788159172335, 42.48162694719348], [-74.9339906568174, 42.46983985023585], [-74.83505668623918, 42.51504614640467], [-74.77087661120845, 42.50544429653914], [-74.71814794445956, 42.519832994068175], [-74.64915100862447, 42.592910369185425], [-74.63697313493422, 42.622966101068506], [-74.64106134522352, 42.66158195415122], [-74.67312590410427, 42.75369461361803], [-74.64891740446674, 42.83474084779929], [-74.76363706742107, 42.86639835433678], [-74.88412524593465, 42.90019573253477], [-74.89080124070456, 42.83558698588226], [-74.91069188729264, 42.82726335399889], [-75.09886954950105, 42.9103876663873], [-75.13564450786832, 42.86369232031412], [-75.21249770029851, 42.8602778450522], [-75.212932480378, 42.88527912616988]]]], &quot;type&quot;: &quot;MultiPolygon&quot;}, &quot;id&quot;: &quot;48&quot;, &quot;properties&quot;: {&quot;NAME_x&quot;: &quot;Otsego&quot;, &quot;POP2000&quot;: 61676, &quot;STATE_NAME&quot;: &quot;New York&quot;, &quot;hospital_count&quot;: 6.0, &quot;id&quot;: -8163599237500793518, &quot;norm&quot;: 0.11538461538461539, &quot;people_per_hospital&quot;: 10279.0}, &quot;type&quot;: &quot;Feature&quot;}, {&quot;bbox&quot;: [-75.41035122199824, 42.31403796074493, -74.63697313493422, 42.9103876663873], &quot;geometry&quot;: {&quot;coordinates&quot;: [[[[-75.212932480378, 42.88527912616988], [-75.2453889053225, 42.88133462636549], [-75.25212595481902, 42.87354123945405], [-75.24334436290978, 42.837252401664855], [-75.25432373044055, 42.788043189397555], [-75.28607164010619, 42.74863363703551], [-75.3213153334381, 42.66554694174763], [-75.32105677433009, 42.61918778957632], [-75.33385276186155, 42.57132933932951], [-75.37005639697729, 42.54459218757821], [-75.37883867164717, 42.51677580459975], [-75.39293858657508, 42.50617477382958], [-75.39537281026183, 42.47251470233885], [-75.37329285991567, 42.42503852166106], [-75.40305664990593, 42.391092086289035], [-75.3912614183847, 42.360323703503894], [-75.41035122199824, 42.321952476634706], [-75.34256926083438, 42.31403796074493], [-75.3061145740021, 42.322132948248196], [-75.25346159390578, 42.361275139739185], [-75.21879223286521, 42.36660437436273], [-75.19170666267932, 42.38002811647828], [-75.19018859528316, 42.363686388930034], [-75.1377647443384, 42.38460216025505], [-75.082433785358, 42.42052075482452], [-75.02225079021889, 42.426006520190604], [-75.01200382966663, 42.44789855253954], [-74.9982704797067, 42.44346224812692], [-74.98908429947221, 42.45307117390734], [-74.98097404943606, 42.45131260932546], [-74.9645547695933, 42.47734330868152], [-74.93788159172335, 42.48162694719348], [-74.9339906568174, 42.46983985023585], [-74.83505668623918, 42.51504614640467], [-74.77087661120845, 42.50544429653914], [-74.71814794445956, 42.519832994068175], [-74.64915100862447, 42.592910369185425], [-74.63697313493422, 42.622966101068506], [-74.64106134522352, 42.66158195415122], [-74.67312590410427, 42.75369461361803], [-74.64891740446674, 42.83474084779929], [-74.76363706742107, 42.86639835433678], [-74.88412524593465, 42.90019573253477], [-74.89080124070456, 42.83558698588226], [-74.91069188729264, 42.82726335399889], [-75.09886954950105, 42.9103876663873], [-75.13564450786832, 42.86369232031412], [-75.21249770029851, 42.8602778450522], [-75.212932480378, 42.88527912616988]]]], &quot;type&quot;: &quot;MultiPolygon&quot;}, &quot;id&quot;: &quot;49&quot;, &quot;properties&quot;: {&quot;NAME_x&quot;: &quot;Otsego&quot;, &quot;POP2000&quot;: 61676, &quot;STATE_NAME&quot;: &quot;New York&quot;, &quot;hospital_count&quot;: 6.0, &quot;id&quot;: -8163599237500793518, &quot;norm&quot;: 0.11538461538461539, &quot;people_per_hospital&quot;: 10279.0}, &quot;type&quot;: &quot;Feature&quot;}, {&quot;bbox&quot;: [-77.6173939386692, 42.582824316199115, -76.95834314146646, 43.04122007500219], &quot;geometry&quot;: {&quot;coordinates&quot;: [[[[-77.57977506399897, 42.945593304737805], [-77.5506668330943, 42.87905023073016], [-77.55718225527566, 42.859759387267246], [-77.5870294130882, 42.8562154045851], [-77.58744759712333, 42.76794378687851], [-77.6173939386692, 42.76711582114229], [-77.59762397636894, 42.675324103124765], [-77.4852544213797, 42.674283368262216], [-77.49499615614623, 42.583063784992916], [-77.36600031223776, 42.582824316199115], [-77.36649733024205, 42.682863245844416], [-77.31626380297794, 42.76738839974106], [-76.97144285372428, 42.76796719277168], [-76.96896391205942, 42.870362754855975], [-76.95834314146646, 42.8706031407169], [-76.96137321413502, 43.01429229034646], [-77.1294280042493, 43.01492901525752], [-77.13375432734576, 43.04122007500219], [-77.36496060334319, 43.03639052501864], [-77.4821924344633, 43.03514315900785], [-77.47950561810643, 42.94466284995737], [-77.57977506399897, 42.945593304737805]]]], &quot;type&quot;: &quot;MultiPolygon&quot;}, &quot;id&quot;: &quot;50&quot;, &quot;properties&quot;: {&quot;NAME_x&quot;: &quot;Ontario&quot;, &quot;POP2000&quot;: 100224, &quot;STATE_NAME&quot;: &quot;New York&quot;, &quot;hospital_count&quot;: 0.0, &quot;id&quot;: 370910673232236151, &quot;norm&quot;: 0.0, &quot;people_per_hospital&quot;: 0.0}, &quot;type&quot;: &quot;Feature&quot;}, {&quot;bbox&quot;: [-77.6173939386692, 42.582824316199115, -76.95834314146646, 43.04122007500219], &quot;geometry&quot;: {&quot;coordinates&quot;: [[[[-77.57977506399897, 42.945593304737805], [-77.5506668330943, 42.87905023073016], [-77.55718225527566, 42.859759387267246], [-77.5870294130882, 42.8562154045851], [-77.58744759712333, 42.76794378687851], [-77.6173939386692, 42.76711582114229], [-77.59762397636894, 42.675324103124765], [-77.4852544213797, 42.674283368262216], [-77.49499615614623, 42.583063784992916], [-77.36600031223776, 42.582824316199115], [-77.36649733024205, 42.682863245844416], [-77.31626380297794, 42.76738839974106], [-76.97144285372428, 42.76796719277168], [-76.96896391205942, 42.870362754855975], [-76.95834314146646, 42.8706031407169], [-76.96137321413502, 43.01429229034646], [-77.1294280042493, 43.01492901525752], [-77.13375432734576, 43.04122007500219], [-77.36496060334319, 43.03639052501864], [-77.4821924344633, 43.03514315900785], [-77.47950561810643, 42.94466284995737], [-77.57977506399897, 42.945593304737805]]]], &quot;type&quot;: &quot;MultiPolygon&quot;}, &quot;id&quot;: &quot;51&quot;, &quot;properties&quot;: {&quot;NAME_x&quot;: &quot;Ontario&quot;, &quot;POP2000&quot;: 100224, &quot;STATE_NAME&quot;: &quot;New York&quot;, &quot;hospital_count&quot;: 0.0, &quot;id&quot;: 370910673232236151, &quot;norm&quot;: 0.0, &quot;people_per_hospital&quot;: 0.0}, &quot;type&quot;: &quot;Feature&quot;}, {&quot;bbox&quot;: [-73.95560677739188, 40.55765030772147, -73.70114383628491, 40.79711722944215], &quot;geometry&quot;: {&quot;coordinates&quot;: [[[[-73.84606076254909, 40.652600120126344], [-73.7649351380376, 40.63693346560976], [-73.74032967350188, 40.64357466026752], [-73.73846804208105, 40.65446160800254], [-73.72816046147103, 40.65670451443297], [-73.72606983333648, 40.72836620406732], [-73.70482133983519, 40.733309758676086], [-73.70114383628491, 40.7432773589686], [-73.70472970513585, 40.756441696968785], [-73.74590672378653, 40.777395861670314], [-73.75391779045549, 40.78885121813784], [-73.8990177453018, 40.79711722944215], [-73.95560677739188, 40.73938268038671], [-73.88745903760184, 40.68733607406447], [-73.86381487304428, 40.6882172797899], [-73.84606076254909, 40.652600120126344]]], [[[-73.76139500977862, 40.6182379482267], [-73.9275906880242, 40.55765030772147], [-73.75220897730559, 40.59458721687274], [-73.74229814823335, 40.600042075129494], [-73.74830261069823, 40.615926267409264], [-73.76139500977862, 40.6182379482267]]]], &quot;type&quot;: &quot;MultiPolygon&quot;}, &quot;id&quot;: &quot;52&quot;, &quot;properties&quot;: {&quot;NAME_x&quot;: &quot;Queens&quot;, &quot;POP2000&quot;: 2229379, &quot;STATE_NAME&quot;: &quot;New York&quot;, &quot;hospital_count&quot;: 38.0, &quot;id&quot;: -8000871814649373843, &quot;norm&quot;: 0.7307692307692307, &quot;people_per_hospital&quot;: 58668.0}, &quot;type&quot;: &quot;Feature&quot;}, {&quot;bbox&quot;: [-73.95560677739188, 40.55765030772147, -73.70114383628491, 40.79711722944215], &quot;geometry&quot;: {&quot;coordinates&quot;: [[[[-73.84606076254909, 40.652600120126344], [-73.7649351380376, 40.63693346560976], [-73.74032967350188, 40.64357466026752], [-73.73846804208105, 40.65446160800254], [-73.72816046147103, 40.65670451443297], [-73.72606983333648, 40.72836620406732], [-73.70482133983519, 40.733309758676086], [-73.70114383628491, 40.7432773589686], [-73.70472970513585, 40.756441696968785], [-73.74590672378653, 40.777395861670314], [-73.75391779045549, 40.78885121813784], [-73.8990177453018, 40.79711722944215], [-73.95560677739188, 40.73938268038671], [-73.88745903760184, 40.68733607406447], [-73.86381487304428, 40.6882172797899], [-73.84606076254909, 40.652600120126344]]], [[[-73.76139500977862, 40.6182379482267], [-73.9275906880242, 40.55765030772147], [-73.75220897730559, 40.59458721687274], [-73.74229814823335, 40.600042075129494], [-73.74830261069823, 40.615926267409264], [-73.76139500977862, 40.6182379482267]]]], &quot;type&quot;: &quot;MultiPolygon&quot;}, &quot;id&quot;: &quot;53&quot;, &quot;properties&quot;: {&quot;NAME_x&quot;: &quot;Queens&quot;, &quot;POP2000&quot;: 2229379, &quot;STATE_NAME&quot;: &quot;New York&quot;, &quot;hospital_count&quot;: 38.0, &quot;id&quot;: -8000871814649373843, &quot;norm&quot;: 0.7307692307692307, &quot;people_per_hospital&quot;: 58668.0}, &quot;type&quot;: &quot;Feature&quot;}, {&quot;bbox&quot;: [-76.97144285372428, 42.551832691257395, -76.58811384380324, 43.02594018687468], &quot;geometry&quot;: {&quot;coordinates&quot;: [[[[-76.70017204439357, 42.555605888224996], [-76.58811384380324, 42.55651786031854], [-76.63611242605776, 42.590559882090226], [-76.67076656075075, 42.63304763689991], [-76.6841184475788, 42.671877172897425], [-76.73242226997583, 42.72635446294562], [-76.74049451591691, 42.756654309285324], [-76.74031169344661, 42.79940468492315], [-76.72139007769964, 42.842551818524385], [-76.74024376812402, 42.908109730914994], [-76.73958050347872, 42.98591259370006], [-76.73423975652086, 43.009227804687214], [-76.7179730151224, 43.02594018687468], [-76.96137321413502, 43.01429229034646], [-76.95834314146646, 42.8706031407169], [-76.96896391205942, 42.870362754855975], [-76.97144285372428, 42.76796719277168], [-76.94642452311875, 42.767170080282206], [-76.93830619247832, 42.723240699485885], [-76.88945985646481, 42.65975344940199], [-76.89679977608984, 42.551832691257395], [-76.70017204439357, 42.555605888224996]]]], &quot;type&quot;: &quot;MultiPolygon&quot;}, &quot;id&quot;: &quot;54&quot;, &quot;properties&quot;: {&quot;NAME_x&quot;: &quot;Seneca&quot;, &quot;POP2000&quot;: 33342, &quot;STATE_NAME&quot;: &quot;New York&quot;, &quot;hospital_count&quot;: 4.0, &quot;id&quot;: -300152476977929696, &quot;norm&quot;: 0.07692307692307693, &quot;people_per_hospital&quot;: 8336.0}, &quot;type&quot;: &quot;Feature&quot;}, {&quot;bbox&quot;: [-76.97144285372428, 42.551832691257395, -76.58811384380324, 43.02594018687468], &quot;geometry&quot;: {&quot;coordinates&quot;: [[[[-76.70017204439357, 42.555605888224996], [-76.58811384380324, 42.55651786031854], [-76.63611242605776, 42.590559882090226], [-76.67076656075075, 42.63304763689991], [-76.6841184475788, 42.671877172897425], [-76.73242226997583, 42.72635446294562], [-76.74049451591691, 42.756654309285324], [-76.74031169344661, 42.79940468492315], [-76.72139007769964, 42.842551818524385], [-76.74024376812402, 42.908109730914994], [-76.73958050347872, 42.98591259370006], [-76.73423975652086, 43.009227804687214], [-76.7179730151224, 43.02594018687468], [-76.96137321413502, 43.01429229034646], [-76.95834314146646, 42.8706031407169], [-76.96896391205942, 42.870362754855975], [-76.97144285372428, 42.76796719277168], [-76.94642452311875, 42.767170080282206], [-76.93830619247832, 42.723240699485885], [-76.88945985646481, 42.65975344940199], [-76.89679977608984, 42.551832691257395], [-76.70017204439357, 42.555605888224996]]]], &quot;type&quot;: &quot;MultiPolygon&quot;}, &quot;id&quot;: &quot;55&quot;, &quot;properties&quot;: {&quot;NAME_x&quot;: &quot;Seneca&quot;, &quot;POP2000&quot;: 33342, &quot;STATE_NAME&quot;: &quot;New York&quot;, &quot;hospital_count&quot;: 4.0, &quot;id&quot;: -300152476977929696, &quot;norm&quot;: 0.07692307692307693, &quot;people_per_hospital&quot;: 8336.0}, &quot;type&quot;: &quot;Feature&quot;}, {&quot;bbox&quot;: [-79.14223330215145, 42.4467853374854, -78.45406562785828, 43.09557080322082], &quot;geometry&quot;: {&quot;coordinates&quot;: [[[[-79.14223330215145, 42.57461674839249], [-79.10096495996382, 42.569124092956734], [-79.05739233639126, 42.54442844744009], [-79.02183859916906, 42.54398637871926], [-78.9591916866049, 42.49588006583859], [-78.94571048165305, 42.47273638390722], [-78.88598618873186, 42.4467853374854], [-78.85197329115184, 42.449879210674354], [-78.78981446937489, 42.46902153991512], [-78.77311334546467, 42.461449489260474], [-78.71275487508493, 42.48912897658826], [-78.69033911998947, 42.4799319102032], [-78.60274299623723, 42.510815767555506], [-78.55508065748366, 42.51522188505174], [-78.45954237729522, 42.54037600447111], [-78.45406562785828, 42.784911231764], [-78.48166197293476, 42.786242534402554], [-78.48235700835906, 42.87405648422803], [-78.4616502839771, 42.87340420104401], [-78.4669244592915, 43.0903678871763], [-78.48605165976305, 43.08516462264386], [-78.50607175315044, 43.093583545536056], [-78.52510767674897, 43.087006940221], [-78.5407485589537, 43.09557080322082], [-78.58810556791481, 43.07115661618035], [-78.63147274033516, 43.09057689809335], [-78.67844076778671, 43.07933860421925], [-78.73146691678647, 43.083358984543224], [-78.74152269088947, 43.074341032789974], [-78.82702059331527, 43.04890427835847], [-78.84339355842948, 43.02279654169401], [-78.8827932399727, 43.022357632195366], [-78.93655137597068, 42.97423143943405], [-78.85919982339456, 42.79274514453602], [-79.043751960537, 42.69924677809838], [-79.14223330215145, 42.57461674839249]]]], &quot;type&quot;: &quot;MultiPolygon&quot;}, &quot;id&quot;: &quot;56&quot;, &quot;properties&quot;: {&quot;NAME_x&quot;: &quot;Erie&quot;, &quot;POP2000&quot;: 950265, &quot;STATE_NAME&quot;: &quot;New York&quot;, &quot;hospital_count&quot;: 28.0, &quot;id&quot;: -4243586730934539233, &quot;norm&quot;: 0.5384615384615384, &quot;people_per_hospital&quot;: 33938.0}, &quot;type&quot;: &quot;Feature&quot;}, {&quot;bbox&quot;: [-79.14223330215145, 42.4467853374854, -78.45406562785828, 43.09557080322082], &quot;geometry&quot;: {&quot;coordinates&quot;: [[[[-79.14223330215145, 42.57461674839249], [-79.10096495996382, 42.569124092956734], [-79.05739233639126, 42.54442844744009], [-79.02183859916906, 42.54398637871926], [-78.9591916866049, 42.49588006583859], [-78.94571048165305, 42.47273638390722], [-78.88598618873186, 42.4467853374854], [-78.85197329115184, 42.449879210674354], [-78.78981446937489, 42.46902153991512], [-78.77311334546467, 42.461449489260474], [-78.71275487508493, 42.48912897658826], [-78.69033911998947, 42.4799319102032], [-78.60274299623723, 42.510815767555506], [-78.55508065748366, 42.51522188505174], [-78.45954237729522, 42.54037600447111], [-78.45406562785828, 42.784911231764], [-78.48166197293476, 42.786242534402554], [-78.48235700835906, 42.87405648422803], [-78.4616502839771, 42.87340420104401], [-78.4669244592915, 43.0903678871763], [-78.48605165976305, 43.08516462264386], [-78.50607175315044, 43.093583545536056], [-78.52510767674897, 43.087006940221], [-78.5407485589537, 43.09557080322082], [-78.58810556791481, 43.07115661618035], [-78.63147274033516, 43.09057689809335], [-78.67844076778671, 43.07933860421925], [-78.73146691678647, 43.083358984543224], [-78.74152269088947, 43.074341032789974], [-78.82702059331527, 43.04890427835847], [-78.84339355842948, 43.02279654169401], [-78.8827932399727, 43.022357632195366], [-78.93655137597068, 42.97423143943405], [-78.85919982339456, 42.79274514453602], [-79.043751960537, 42.69924677809838], [-79.14223330215145, 42.57461674839249]]]], &quot;type&quot;: &quot;MultiPolygon&quot;}, &quot;id&quot;: &quot;57&quot;, &quot;properties&quot;: {&quot;NAME_x&quot;: &quot;Erie&quot;, &quot;POP2000&quot;: 950265, &quot;STATE_NAME&quot;: &quot;New York&quot;, &quot;hospital_count&quot;: 28.0, &quot;id&quot;: -4243586730934539233, &quot;norm&quot;: 0.5384615384615384, &quot;people_per_hospital&quot;: 33938.0}, &quot;type&quot;: &quot;Feature&quot;}, {&quot;bbox&quot;: [-76.27780496713578, 42.40499896720334, -75.86637086421469, 42.79579390224214], &quot;geometry&quot;: {&quot;coordinates&quot;: [[[[-76.12653459802382, 42.40806597835265], [-75.86637086421469, 42.41388675665544], [-75.88794555041642, 42.72766765042703], [-75.89292699417392, 42.79579390224214], [-76.27780496713578, 42.77737371533066], [-76.2635760516054, 42.7244185944667], [-76.26401933865398, 42.62347554883478], [-76.25442246568267, 42.40499896720334], [-76.12653459802382, 42.40806597835265]]]], &quot;type&quot;: &quot;MultiPolygon&quot;}, &quot;id&quot;: &quot;58&quot;, &quot;properties&quot;: {&quot;NAME_x&quot;: &quot;Cortland&quot;, &quot;POP2000&quot;: 48599, &quot;STATE_NAME&quot;: &quot;New York&quot;, &quot;hospital_count&quot;: 0.0, &quot;id&quot;: -3471355570782910605, &quot;norm&quot;: 0.0, &quot;people_per_hospital&quot;: 0.0}, &quot;type&quot;: &quot;Feature&quot;}, {&quot;bbox&quot;: [-76.27780496713578, 42.40499896720334, -75.86637086421469, 42.79579390224214], &quot;geometry&quot;: {&quot;coordinates&quot;: [[[[-76.12653459802382, 42.40806597835265], [-75.86637086421469, 42.41388675665544], [-75.88794555041642, 42.72766765042703], [-75.89292699417392, 42.79579390224214], [-76.27780496713578, 42.77737371533066], [-76.2635760516054, 42.7244185944667], [-76.26401933865398, 42.62347554883478], [-76.25442246568267, 42.40499896720334], [-76.12653459802382, 42.40806597835265]]]], &quot;type&quot;: &quot;MultiPolygon&quot;}, &quot;id&quot;: &quot;59&quot;, &quot;properties&quot;: {&quot;NAME_x&quot;: &quot;Cortland&quot;, &quot;POP2000&quot;: 48599, &quot;STATE_NAME&quot;: &quot;New York&quot;, &quot;hospital_count&quot;: 0.0, &quot;id&quot;: -3471355570782910605, &quot;norm&quot;: 0.0, &quot;people_per_hospital&quot;: 0.0}, &quot;type&quot;: &quot;Feature&quot;}, {&quot;bbox&quot;: [-74.0277216950731, 40.58125903856218, -73.84606076254909, 40.73938268038671], &quot;geometry&quot;: {&quot;coordinates&quot;: [[[[-73.95560677739188, 40.73938268038671], [-74.0277216950731, 40.63933650843587], [-74.00403933590196, 40.58125903856218], [-73.87981412654136, 40.59026911913291], [-73.91573433661993, 40.63113138266003], [-73.84606076254909, 40.652600120126344], [-73.86381487304428, 40.6882172797899], [-73.88745903760184, 40.68733607406447], [-73.95560677739188, 40.73938268038671]]]], &quot;type&quot;: &quot;MultiPolygon&quot;}, &quot;id&quot;: &quot;60&quot;, &quot;properties&quot;: {&quot;NAME_x&quot;: &quot;Kings&quot;, &quot;POP2000&quot;: 2465326, &quot;STATE_NAME&quot;: &quot;New York&quot;, &quot;hospital_count&quot;: 52.0, &quot;id&quot;: -6218736890320295160, &quot;norm&quot;: 1.0, &quot;people_per_hospital&quot;: 47410.0}, &quot;type&quot;: &quot;Feature&quot;}, {&quot;bbox&quot;: [-74.0277216950731, 40.58125903856218, -73.84606076254909, 40.73938268038671], &quot;geometry&quot;: {&quot;coordinates&quot;: [[[[-73.95560677739188, 40.73938268038671], [-74.0277216950731, 40.63933650843587], [-74.00403933590196, 40.58125903856218], [-73.87981412654136, 40.59026911913291], [-73.91573433661993, 40.63113138266003], [-73.84606076254909, 40.652600120126344], [-73.86381487304428, 40.6882172797899], [-73.88745903760184, 40.68733607406447], [-73.95560677739188, 40.73938268038671]]]], &quot;type&quot;: &quot;MultiPolygon&quot;}, &quot;id&quot;: &quot;61&quot;, &quot;properties&quot;: {&quot;NAME_x&quot;: &quot;Kings&quot;, &quot;POP2000&quot;: 2465326, &quot;STATE_NAME&quot;: &quot;New York&quot;, &quot;hospital_count&quot;: 52.0, &quot;id&quot;: -6218736890320295160, &quot;norm&quot;: 1.0, &quot;people_per_hospital&quot;: 47410.0}, &quot;type&quot;: &quot;Feature&quot;}, {&quot;bbox&quot;: [-74.00625978512566, 40.70400198871256, -73.90052045370558, 40.88604007867778], &quot;geometry&quot;: {&quot;coordinates&quot;: [[[[-73.97706105607851, 40.797487092561816], [-74.00625978512566, 40.73773083946078], [-74.00618343751627, 40.70400198871256], [-73.91986182481111, 40.802804804545026], [-73.92307381006573, 40.82253026243994], [-73.90542642531267, 40.8452044689345], [-73.90052045370558, 40.87785772774199], [-73.92239451154268, 40.88604007867778], [-73.97706105607851, 40.797487092561816]]]], &quot;type&quot;: &quot;MultiPolygon&quot;}, &quot;id&quot;: &quot;62&quot;, &quot;properties&quot;: {&quot;NAME_x&quot;: &quot;New York&quot;, &quot;POP2000&quot;: 1537195, &quot;STATE_NAME&quot;: &quot;New York&quot;, &quot;hospital_count&quot;: 44.0, &quot;id&quot;: -8657876400972286017, &quot;norm&quot;: 0.8461538461538461, &quot;people_per_hospital&quot;: 34936.0}, &quot;type&quot;: &quot;Feature&quot;}, {&quot;bbox&quot;: [-74.00625978512566, 40.70400198871256, -73.90052045370558, 40.88604007867778], &quot;geometry&quot;: {&quot;coordinates&quot;: [[[[-73.97706105607851, 40.797487092561816], [-74.00625978512566, 40.73773083946078], [-74.00618343751627, 40.70400198871256], [-73.91986182481111, 40.802804804545026], [-73.92307381006573, 40.82253026243994], [-73.90542642531267, 40.8452044689345], [-73.90052045370558, 40.87785772774199], [-73.92239451154268, 40.88604007867778], [-73.97706105607851, 40.797487092561816]]]], &quot;type&quot;: &quot;MultiPolygon&quot;}, &quot;id&quot;: &quot;63&quot;, &quot;properties&quot;: {&quot;NAME_x&quot;: &quot;New York&quot;, &quot;POP2000&quot;: 1537195, &quot;STATE_NAME&quot;: &quot;New York&quot;, &quot;hospital_count&quot;: 44.0, &quot;id&quot;: -8657876400972286017, &quot;norm&quot;: 0.8461538461538461, &quot;people_per_hospital&quot;: 34936.0}, &quot;type&quot;: &quot;Feature&quot;}, {&quot;bbox&quot;: [-78.48235700835906, 42.52827601808179, -77.95459880448477, 42.87798292840721], &quot;geometry&quot;: {&quot;coordinates&quot;: [[[[-78.30553787241244, 42.52827601808179], [-78.0446422220569, 42.52937972646466], [-78.04022475024527, 42.539065160363755], [-78.05243223612861, 42.54551185459214], [-78.0448943402251, 42.56576008492366], [-78.0310924092899, 42.57483141131686], [-78.04195705799704, 42.579496672274786], [-78.04004974317513, 42.58956737050282], [-78.00435837866534, 42.597490603262436], [-78.00287829660049, 42.60435698732348], [-78.0201594953717, 42.61201671830146], [-77.98336189026288, 42.62269801759995], [-77.95459880448477, 42.67589359615871], [-77.95628831349505, 42.86920977574887], [-78.06916077282317, 42.87302384145772], [-78.0707020543181, 42.87798292840721], [-78.4616502839771, 42.87340420104401], [-78.48235700835906, 42.87405648422803], [-78.48166197293476, 42.786242534402554], [-78.45406562785828, 42.784911231764], [-78.45954237729522, 42.54037600447111], [-78.4563836539366, 42.530019201834975], [-78.30553787241244, 42.52827601808179]]]], &quot;type&quot;: &quot;MultiPolygon&quot;}, &quot;id&quot;: &quot;64&quot;, &quot;properties&quot;: {&quot;NAME_x&quot;: &quot;Wyoming&quot;, &quot;POP2000&quot;: 43424, &quot;STATE_NAME&quot;: &quot;New York&quot;, &quot;hospital_count&quot;: 0.0, &quot;id&quot;: 4458970311057587756, &quot;norm&quot;: 0.0, &quot;people_per_hospital&quot;: 0.0}, &quot;type&quot;: &quot;Feature&quot;}, {&quot;bbox&quot;: [-78.48235700835906, 42.52827601808179, -77.95459880448477, 42.87798292840721], &quot;geometry&quot;: {&quot;coordinates&quot;: [[[[-78.30553787241244, 42.52827601808179], [-78.0446422220569, 42.52937972646466], [-78.04022475024527, 42.539065160363755], [-78.05243223612861, 42.54551185459214], [-78.0448943402251, 42.56576008492366], [-78.0310924092899, 42.57483141131686], [-78.04195705799704, 42.579496672274786], [-78.04004974317513, 42.58956737050282], [-78.00435837866534, 42.597490603262436], [-78.00287829660049, 42.60435698732348], [-78.0201594953717, 42.61201671830146], [-77.98336189026288, 42.62269801759995], [-77.95459880448477, 42.67589359615871], [-77.95628831349505, 42.86920977574887], [-78.06916077282317, 42.87302384145772], [-78.0707020543181, 42.87798292840721], [-78.4616502839771, 42.87340420104401], [-78.48235700835906, 42.87405648422803], [-78.48166197293476, 42.786242534402554], [-78.45406562785828, 42.784911231764], [-78.45954237729522, 42.54037600447111], [-78.4563836539366, 42.530019201834975], [-78.30553787241244, 42.52827601808179]]]], &quot;type&quot;: &quot;MultiPolygon&quot;}, &quot;id&quot;: &quot;65&quot;, &quot;properties&quot;: {&quot;NAME_x&quot;: &quot;Wyoming&quot;, &quot;POP2000&quot;: 43424, &quot;STATE_NAME&quot;: &quot;New York&quot;, &quot;hospital_count&quot;: 0.0, &quot;id&quot;: 4458970311057587756, &quot;norm&quot;: 0.0, &quot;people_per_hospital&quot;: 0.0}, &quot;type&quot;: &quot;Feature&quot;}, {&quot;bbox&quot;: [-74.87090025637498, 43.211142241835525, -74.0559873752203, 44.118575404419076], &quot;geometry&quot;: {&quot;coordinates&quot;: [[[[-74.15955045497212, 43.36885486250568], [-74.21483732703086, 43.72198094562992], [-74.05910606522617, 43.73944062889542], [-74.0559873752203, 43.793170041137536], [-74.13715400154352, 43.8149710642537], [-74.14859153439966, 43.828166040595775], [-74.18789249148186, 43.82401583850068], [-74.21258209425797, 43.81122913325315], [-74.33167077893613, 43.92164844207468], [-74.25629841807668, 43.97056095698315], [-74.27850436795232, 44.118575404419076], [-74.53622752083578, 44.09591239306971], [-74.85420430838985, 44.070099859544435], [-74.77867834326597, 43.47859510305369], [-74.87090025637498, 43.339218127280446], [-74.71482809901835, 43.284649244652606], [-74.53446187350147, 43.22727719793714], [-74.32582972569453, 43.236605039205024], [-74.3206794544975, 43.211142241835525], [-74.2214257556138, 43.22044666919071], [-74.22276879249486, 43.247740518701754], [-74.14292476708111, 43.25058276630439], [-74.15955045497212, 43.36885486250568]]]], &quot;type&quot;: &quot;MultiPolygon&quot;}, &quot;id&quot;: &quot;66&quot;, &quot;properties&quot;: {&quot;NAME_x&quot;: &quot;Hamilton&quot;, &quot;POP2000&quot;: 5379, &quot;STATE_NAME&quot;: &quot;New York&quot;, &quot;hospital_count&quot;: 0.0, &quot;id&quot;: 4951796573709955409, &quot;norm&quot;: 0.0, &quot;people_per_hospital&quot;: 0.0}, &quot;type&quot;: &quot;Feature&quot;}, {&quot;bbox&quot;: [-74.87090025637498, 43.211142241835525, -74.0559873752203, 44.118575404419076], &quot;geometry&quot;: {&quot;coordinates&quot;: [[[[-74.15955045497212, 43.36885486250568], [-74.21483732703086, 43.72198094562992], [-74.05910606522617, 43.73944062889542], [-74.0559873752203, 43.793170041137536], [-74.13715400154352, 43.8149710642537], [-74.14859153439966, 43.828166040595775], [-74.18789249148186, 43.82401583850068], [-74.21258209425797, 43.81122913325315], [-74.33167077893613, 43.92164844207468], [-74.25629841807668, 43.97056095698315], [-74.27850436795232, 44.118575404419076], [-74.53622752083578, 44.09591239306971], [-74.85420430838985, 44.070099859544435], [-74.77867834326597, 43.47859510305369], [-74.87090025637498, 43.339218127280446], [-74.71482809901835, 43.284649244652606], [-74.53446187350147, 43.22727719793714], [-74.32582972569453, 43.236605039205024], [-74.3206794544975, 43.211142241835525], [-74.2214257556138, 43.22044666919071], [-74.22276879249486, 43.247740518701754], [-74.14292476708111, 43.25058276630439], [-74.15955045497212, 43.36885486250568]]]], &quot;type&quot;: &quot;MultiPolygon&quot;}, &quot;id&quot;: &quot;67&quot;, &quot;properties&quot;: {&quot;NAME_x&quot;: &quot;Hamilton&quot;, &quot;POP2000&quot;: 5379, &quot;STATE_NAME&quot;: &quot;New York&quot;, &quot;hospital_count&quot;: 0.0, &quot;id&quot;: 4951796573709955409, &quot;norm&quot;: 0.0, &quot;people_per_hospital&quot;: 0.0}, &quot;type&quot;: &quot;Feature&quot;}, {&quot;bbox&quot;: [-76.74049451591691, 42.62139006377594, -76.2635760516054, 43.414152745818605], &quot;geometry&quot;: {&quot;coordinates&quot;: [[[[-76.7179730151224, 43.02594018687468], [-76.73423975652086, 43.009227804687214], [-76.73958050347872, 42.98591259370006], [-76.74024376812402, 42.908109730914994], [-76.72139007769964, 42.842551818524385], [-76.74031169344661, 42.79940468492315], [-76.74049451591691, 42.756654309285324], [-76.73242226997583, 42.72635446294562], [-76.6841184475788, 42.671877172897425], [-76.67076656075075, 42.63304763689991], [-76.45613429219746, 42.62772622918508], [-76.45466181695076, 42.62139006377594], [-76.26401933865398, 42.62347554883478], [-76.2635760516054, 42.7244185944667], [-76.27780496713578, 42.77737371533066], [-76.2836185846991, 42.80227966936431], [-76.35723702441445, 42.85372454187781], [-76.450364967642, 42.852466208036084], [-76.46223639078706, 43.01007557147776], [-76.48733816073296, 43.010968193327315], [-76.49417500468478, 43.11320308360675], [-76.4741089469754, 43.13132691706618], [-76.48258614062227, 43.22717975426247], [-76.48243374242456, 43.25767468398496], [-76.60190155027969, 43.25627024992875], [-76.61962796802419, 43.414152745818605], [-76.71847162260222, 43.32344242523356], [-76.69774662249843, 43.08596501686782], [-76.71718737720937, 43.069637897858485], [-76.7179730151224, 43.02594018687468]]]], &quot;type&quot;: &quot;MultiPolygon&quot;}, &quot;id&quot;: &quot;68&quot;, &quot;properties&quot;: {&quot;NAME_x&quot;: &quot;Cayuga&quot;, &quot;POP2000&quot;: 81963, &quot;STATE_NAME&quot;: &quot;New York&quot;, &quot;hospital_count&quot;: 2.0, &quot;id&quot;: -5785849822545651791, &quot;norm&quot;: 0.038461538461538464, &quot;people_per_hospital&quot;: 40982.0}, &quot;type&quot;: &quot;Feature&quot;}, {&quot;bbox&quot;: [-76.74049451591691, 42.62139006377594, -76.2635760516054, 43.414152745818605], &quot;geometry&quot;: {&quot;coordinates&quot;: [[[[-76.7179730151224, 43.02594018687468], [-76.73423975652086, 43.009227804687214], [-76.73958050347872, 42.98591259370006], [-76.74024376812402, 42.908109730914994], [-76.72139007769964, 42.842551818524385], [-76.74031169344661, 42.79940468492315], [-76.74049451591691, 42.756654309285324], [-76.73242226997583, 42.72635446294562], [-76.6841184475788, 42.671877172897425], [-76.67076656075075, 42.63304763689991], [-76.45613429219746, 42.62772622918508], [-76.45466181695076, 42.62139006377594], [-76.26401933865398, 42.62347554883478], [-76.2635760516054, 42.7244185944667], [-76.27780496713578, 42.77737371533066], [-76.2836185846991, 42.80227966936431], [-76.35723702441445, 42.85372454187781], [-76.450364967642, 42.852466208036084], [-76.46223639078706, 43.01007557147776], [-76.48733816073296, 43.010968193327315], [-76.49417500468478, 43.11320308360675], [-76.4741089469754, 43.13132691706618], [-76.48258614062227, 43.22717975426247], [-76.48243374242456, 43.25767468398496], [-76.60190155027969, 43.25627024992875], [-76.61962796802419, 43.414152745818605], [-76.71847162260222, 43.32344242523356], [-76.69774662249843, 43.08596501686782], [-76.71718737720937, 43.069637897858485], [-76.7179730151224, 43.02594018687468]]]], &quot;type&quot;: &quot;MultiPolygon&quot;}, &quot;id&quot;: &quot;69&quot;, &quot;properties&quot;: {&quot;NAME_x&quot;: &quot;Cayuga&quot;, &quot;POP2000&quot;: 81963, &quot;STATE_NAME&quot;: &quot;New York&quot;, &quot;hospital_count&quot;: 2.0, &quot;id&quot;: -5785849822545651791, &quot;norm&quot;: 0.038461538461538464, &quot;people_per_hospital&quot;: 40982.0}, &quot;type&quot;: &quot;Feature&quot;}, {&quot;bbox&quot;: [-74.02153893378194, 44.424661277272904, -73.32678631940352, 45.0061387945904], &quot;geometry&quot;: {&quot;coordinates&quot;: [[[[-74.02153893378194, 44.990847370002314], [-73.99637679304048, 44.70015533318438], [-73.96426442380128, 44.69968965373481], [-73.91068477811015, 44.424661277272904], [-73.74495429382361, 44.43949604102563], [-73.73154136784866, 44.4330836574324], [-73.70209118296141, 44.4394009994629], [-73.67651670091607, 44.435697139599675], [-73.62780193787094, 44.452440123952094], [-73.5701604282447, 44.46002029256568], [-73.53989426592399, 44.486822358264675], [-73.50405801345579, 44.48441172143147], [-73.46607052596697, 44.51162920394341], [-73.47750733390102, 44.52398847110019], [-73.46972517783645, 44.53626766634104], [-73.33445249399755, 44.54432824630099], [-73.34781198402662, 44.553971545719946], [-73.37129602982125, 44.579166956944164], [-73.38182510372057, 44.61980772551499], [-73.37013669135544, 44.634349064618156], [-73.37309713641662, 44.66127635625167], [-73.35815095614944, 44.680368564481036], [-73.373158575022, 44.72423643674705], [-73.32678631940352, 44.799293570954], [-73.36905412807256, 44.81911790217507], [-73.38230675943935, 44.84793361876061], [-73.33641467889215, 44.93260393084965], [-73.35075838711951, 44.98197295134509], [-73.34472348688074, 45.0061387945904], [-74.02153893378194, 44.990847370002314]]]], &quot;type&quot;: &quot;MultiPolygon&quot;}, &quot;id&quot;: &quot;70&quot;, &quot;properties&quot;: {&quot;NAME_x&quot;: &quot;Clinton&quot;, &quot;POP2000&quot;: 79894, &quot;STATE_NAME&quot;: &quot;New York&quot;, &quot;hospital_count&quot;: 0.0, &quot;id&quot;: -601038216142857236, &quot;norm&quot;: 0.0, &quot;people_per_hospital&quot;: 0.0}, &quot;type&quot;: &quot;Feature&quot;}, {&quot;bbox&quot;: [-74.02153893378194, 44.424661277272904, -73.32678631940352, 45.0061387945904], &quot;geometry&quot;: {&quot;coordinates&quot;: [[[[-74.02153893378194, 44.990847370002314], [-73.99637679304048, 44.70015533318438], [-73.96426442380128, 44.69968965373481], [-73.91068477811015, 44.424661277272904], [-73.74495429382361, 44.43949604102563], [-73.73154136784866, 44.4330836574324], [-73.70209118296141, 44.4394009994629], [-73.67651670091607, 44.435697139599675], [-73.62780193787094, 44.452440123952094], [-73.5701604282447, 44.46002029256568], [-73.53989426592399, 44.486822358264675], [-73.50405801345579, 44.48441172143147], [-73.46607052596697, 44.51162920394341], [-73.47750733390102, 44.52398847110019], [-73.46972517783645, 44.53626766634104], [-73.33445249399755, 44.54432824630099], [-73.34781198402662, 44.553971545719946], [-73.37129602982125, 44.579166956944164], [-73.38182510372057, 44.61980772551499], [-73.37013669135544, 44.634349064618156], [-73.37309713641662, 44.66127635625167], [-73.35815095614944, 44.680368564481036], [-73.373158575022, 44.72423643674705], [-73.32678631940352, 44.799293570954], [-73.36905412807256, 44.81911790217507], [-73.38230675943935, 44.84793361876061], [-73.33641467889215, 44.93260393084965], [-73.35075838711951, 44.98197295134509], [-73.34472348688074, 45.0061387945904], [-74.02153893378194, 44.990847370002314]]]], &quot;type&quot;: &quot;MultiPolygon&quot;}, &quot;id&quot;: &quot;71&quot;, &quot;properties&quot;: {&quot;NAME_x&quot;: &quot;Clinton&quot;, &quot;POP2000&quot;: 79894, &quot;STATE_NAME&quot;: &quot;New York&quot;, &quot;hospital_count&quot;: 0.0, &quot;id&quot;: -601038216142857236, &quot;norm&quot;: 0.0, &quot;people_per_hospital&quot;: 0.0}, &quot;type&quot;: &quot;Feature&quot;}, {&quot;bbox&quot;: [-74.78900897616663, 41.5830518746216, -73.91853758465759, 42.17744185701523], &quot;geometry&quot;: {&quot;coordinates&quot;: [[[[-74.37041002098069, 41.594331916079845], [-74.34464456373992, 41.59803217753914], [-74.25636895040654, 41.63591971841924], [-74.2532027636907, 41.60823269217343], [-74.19237127829018, 41.59472104415563], [-74.12911350078728, 41.58663007121555], [-74.13040284253323, 41.616586831615145], [-74.08187038744919, 41.60891166213893], [-74.0511532735368, 41.5830518746216], [-73.95538553894968, 41.58759513466645], [-73.94053034974627, 41.728773131899786], [-73.94973160573669, 41.77054389540746], [-73.9410408752027, 41.86225630088809], [-73.96073279917456, 41.91220943336511], [-73.9365294078354, 42.077959966099506], [-73.91853758465759, 42.131086306815625], [-73.99772497676832, 42.17744185701523], [-74.01258039601207, 42.15746078325967], [-74.04043626752235, 42.16562784792552], [-74.07440491298954, 42.09657159566354], [-74.29461222756673, 42.11261192435803], [-74.44837146997124, 42.16939994435035], [-74.50699000689386, 42.143742805441086], [-74.53543296035744, 42.141362297932154], [-74.5649213039787, 42.11534640403579], [-74.78900897616663, 42.02151609435665], [-74.45570710397973, 41.871907650137956], [-74.57671421266336, 41.74519407266967], [-74.39523678427015, 41.641920215201196], [-74.37041002098069, 41.594331916079845]]]], &quot;type&quot;: &quot;MultiPolygon&quot;}, &quot;id&quot;: &quot;72&quot;, &quot;properties&quot;: {&quot;NAME_x&quot;: &quot;Ulster&quot;, &quot;POP2000&quot;: 177749, &quot;STATE_NAME&quot;: &quot;New York&quot;, &quot;hospital_count&quot;: 0.0, &quot;id&quot;: -6848252381192702744, &quot;norm&quot;: 0.0, &quot;people_per_hospital&quot;: 0.0}, &quot;type&quot;: &quot;Feature&quot;}, {&quot;bbox&quot;: [-74.78900897616663, 41.5830518746216, -73.91853758465759, 42.17744185701523], &quot;geometry&quot;: {&quot;coordinates&quot;: [[[[-74.37041002098069, 41.594331916079845], [-74.34464456373992, 41.59803217753914], [-74.25636895040654, 41.63591971841924], [-74.2532027636907, 41.60823269217343], [-74.19237127829018, 41.59472104415563], [-74.12911350078728, 41.58663007121555], [-74.13040284253323, 41.616586831615145], [-74.08187038744919, 41.60891166213893], [-74.0511532735368, 41.5830518746216], [-73.95538553894968, 41.58759513466645], [-73.94053034974627, 41.728773131899786], [-73.94973160573669, 41.77054389540746], [-73.9410408752027, 41.86225630088809], [-73.96073279917456, 41.91220943336511], [-73.9365294078354, 42.077959966099506], [-73.91853758465759, 42.131086306815625], [-73.99772497676832, 42.17744185701523], [-74.01258039601207, 42.15746078325967], [-74.04043626752235, 42.16562784792552], [-74.07440491298954, 42.09657159566354], [-74.29461222756673, 42.11261192435803], [-74.44837146997124, 42.16939994435035], [-74.50699000689386, 42.143742805441086], [-74.53543296035744, 42.141362297932154], [-74.5649213039787, 42.11534640403579], [-74.78900897616663, 42.02151609435665], [-74.45570710397973, 41.871907650137956], [-74.57671421266336, 41.74519407266967], [-74.39523678427015, 41.641920215201196], [-74.37041002098069, 41.594331916079845]]]], &quot;type&quot;: &quot;MultiPolygon&quot;}, &quot;id&quot;: &quot;73&quot;, &quot;properties&quot;: {&quot;NAME_x&quot;: &quot;Ulster&quot;, &quot;POP2000&quot;: 177749, &quot;STATE_NAME&quot;: &quot;New York&quot;, &quot;hospital_count&quot;: 0.0, &quot;id&quot;: -6848252381192702744, &quot;norm&quot;: 0.0, &quot;people_per_hospital&quot;: 0.0}, &quot;type&quot;: &quot;Feature&quot;}, {&quot;bbox&quot;: [-76.49417500468478, 42.77737371533066, -75.89292699417392, 43.272289336139885], &quot;geometry&quot;: {&quot;coordinates&quot;: [[[[-76.27780496713578, 42.77737371533066], [-75.89292699417392, 42.79579390224214], [-75.91294487279436, 43.090674059852596], [-75.97215165029911, 43.09844072178893], [-75.97939222189052, 43.11015576458212], [-75.95963877828797, 43.12183271800034], [-75.95268038000795, 43.14194783882785], [-75.97228877171831, 43.14711677172091], [-75.96773375132553, 43.16356592709919], [-75.98849413282406, 43.18645432254452], [-76.05077518170775, 43.21006747479568], [-76.07271052860922, 43.20790449040155], [-76.08209500155161, 43.227321496362805], [-76.19858525805549, 43.272289336139885], [-76.21540108385231, 43.267002118290506], [-76.20541367698185, 43.23030827743332], [-76.22363330694613, 43.210437285518935], [-76.26605457092383, 43.238834131410364], [-76.27031947961152, 43.215548967690545], [-76.29130116838618, 43.20381480268801], [-76.31184817230682, 43.235305423355875], [-76.48258614062227, 43.22717975426247], [-76.4741089469754, 43.13132691706618], [-76.49417500468478, 43.11320308360675], [-76.48733816073296, 43.010968193327315], [-76.46223639078706, 43.01007557147776], [-76.450364967642, 42.852466208036084], [-76.35723702441445, 42.85372454187781], [-76.2836185846991, 42.80227966936431], [-76.27780496713578, 42.77737371533066]]]], &quot;type&quot;: &quot;MultiPolygon&quot;}, &quot;id&quot;: &quot;74&quot;, &quot;properties&quot;: {&quot;NAME_x&quot;: &quot;Onondaga&quot;, &quot;POP2000&quot;: 458336, &quot;STATE_NAME&quot;: &quot;New York&quot;, &quot;hospital_count&quot;: 10.0, &quot;id&quot;: 8072881413345373748, &quot;norm&quot;: 0.19230769230769232, &quot;people_per_hospital&quot;: 45834.0}, &quot;type&quot;: &quot;Feature&quot;}, {&quot;bbox&quot;: [-76.49417500468478, 42.77737371533066, -75.89292699417392, 43.272289336139885], &quot;geometry&quot;: {&quot;coordinates&quot;: [[[[-76.27780496713578, 42.77737371533066], [-75.89292699417392, 42.79579390224214], [-75.91294487279436, 43.090674059852596], [-75.97215165029911, 43.09844072178893], [-75.97939222189052, 43.11015576458212], [-75.95963877828797, 43.12183271800034], [-75.95268038000795, 43.14194783882785], [-75.97228877171831, 43.14711677172091], [-75.96773375132553, 43.16356592709919], [-75.98849413282406, 43.18645432254452], [-76.05077518170775, 43.21006747479568], [-76.07271052860922, 43.20790449040155], [-76.08209500155161, 43.227321496362805], [-76.19858525805549, 43.272289336139885], [-76.21540108385231, 43.267002118290506], [-76.20541367698185, 43.23030827743332], [-76.22363330694613, 43.210437285518935], [-76.26605457092383, 43.238834131410364], [-76.27031947961152, 43.215548967690545], [-76.29130116838618, 43.20381480268801], [-76.31184817230682, 43.235305423355875], [-76.48258614062227, 43.22717975426247], [-76.4741089469754, 43.13132691706618], [-76.49417500468478, 43.11320308360675], [-76.48733816073296, 43.010968193327315], [-76.46223639078706, 43.01007557147776], [-76.450364967642, 42.852466208036084], [-76.35723702441445, 42.85372454187781], [-76.2836185846991, 42.80227966936431], [-76.27780496713578, 42.77737371533066]]]], &quot;type&quot;: &quot;MultiPolygon&quot;}, &quot;id&quot;: &quot;75&quot;, &quot;properties&quot;: {&quot;NAME_x&quot;: &quot;Onondaga&quot;, &quot;POP2000&quot;: 458336, &quot;STATE_NAME&quot;: &quot;New York&quot;, &quot;hospital_count&quot;: 10.0, &quot;id&quot;: 8072881413345373748, &quot;norm&quot;: 0.19230769230769232, &quot;people_per_hospital&quot;: 45834.0}, &quot;type&quot;: &quot;Feature&quot;}, {&quot;bbox&quot;: [-78.30553787241244, 41.99733318264485, -77.72143437950112, 42.52937972646466], &quot;geometry&quot;: {&quot;coordinates&quot;: [[[[-78.3050882311977, 41.999420608422966], [-78.20426205246144, 41.99820043496654], [-77.74500793753401, 41.99733318264485], [-77.72143437950112, 42.47127069729304], [-77.83946521837245, 42.47920782722917], [-77.83633749128292, 42.523869710801414], [-78.03438030468963, 42.52424144872404], [-78.0446422220569, 42.52937972646466], [-78.30553787241244, 42.52827601808179], [-78.3050882311977, 41.999420608422966]]]], &quot;type&quot;: &quot;MultiPolygon&quot;}, &quot;id&quot;: &quot;76&quot;, &quot;properties&quot;: {&quot;NAME_x&quot;: &quot;Allegany&quot;, &quot;POP2000&quot;: 49927, &quot;STATE_NAME&quot;: &quot;New York&quot;, &quot;hospital_count&quot;: 0.0, &quot;id&quot;: -3612635089780467471, &quot;norm&quot;: 0.0, &quot;people_per_hospital&quot;: 0.0}, &quot;type&quot;: &quot;Feature&quot;}, {&quot;bbox&quot;: [-78.30553787241244, 41.99733318264485, -77.72143437950112, 42.52937972646466], &quot;geometry&quot;: {&quot;coordinates&quot;: [[[[-78.3050882311977, 41.999420608422966], [-78.20426205246144, 41.99820043496654], [-77.74500793753401, 41.99733318264485], [-77.72143437950112, 42.47127069729304], [-77.83946521837245, 42.47920782722917], [-77.83633749128292, 42.523869710801414], [-78.03438030468963, 42.52424144872404], [-78.0446422220569, 42.52937972646466], [-78.30553787241244, 42.52827601808179], [-78.3050882311977, 41.999420608422966]]]], &quot;type&quot;: &quot;MultiPolygon&quot;}, &quot;id&quot;: &quot;77&quot;, &quot;properties&quot;: {&quot;NAME_x&quot;: &quot;Allegany&quot;, &quot;POP2000&quot;: 49927, &quot;STATE_NAME&quot;: &quot;New York&quot;, &quot;hospital_count&quot;: 0.0, &quot;id&quot;: -3612635089780467471, &quot;norm&quot;: 0.0, &quot;people_per_hospital&quot;: 0.0}, &quot;type&quot;: &quot;Feature&quot;}, {&quot;bbox&quot;: [-79.76323496540563, 42.000584914223545, -79.05739233639126, 42.57461674839249], &quot;geometry&quot;: {&quot;coordinates&quot;: [[[[-79.61236749033857, 42.000584914223545], [-79.05948889673354, 42.00115765939045], [-79.05739233639126, 42.54442844744009], [-79.10096495996382, 42.569124092956734], [-79.14223330215145, 42.57461674839249], [-79.35488385349915, 42.49346182077622], [-79.4440203700621, 42.41936145951744], [-79.76323496540563, 42.26732708839747], [-79.76165964707265, 42.00310573415193], [-79.61236749033857, 42.000584914223545]]]], &quot;type&quot;: &quot;MultiPolygon&quot;}, &quot;id&quot;: &quot;78&quot;, &quot;properties&quot;: {&quot;NAME_x&quot;: &quot;Chautauqua&quot;, &quot;POP2000&quot;: 139750, &quot;STATE_NAME&quot;: &quot;New York&quot;, &quot;hospital_count&quot;: 2.0, &quot;id&quot;: -7399225964088336508, &quot;norm&quot;: 0.038461538461538464, &quot;people_per_hospital&quot;: 69875.0}, &quot;type&quot;: &quot;Feature&quot;}, {&quot;bbox&quot;: [-79.76323496540563, 42.000584914223545, -79.05739233639126, 42.57461674839249], &quot;geometry&quot;: {&quot;coordinates&quot;: [[[[-79.61236749033857, 42.000584914223545], [-79.05948889673354, 42.00115765939045], [-79.05739233639126, 42.54442844744009], [-79.10096495996382, 42.569124092956734], [-79.14223330215145, 42.57461674839249], [-79.35488385349915, 42.49346182077622], [-79.4440203700621, 42.41936145951744], [-79.76323496540563, 42.26732708839747], [-79.76165964707265, 42.00310573415193], [-79.61236749033857, 42.000584914223545]]]], &quot;type&quot;: &quot;MultiPolygon&quot;}, &quot;id&quot;: &quot;79&quot;, &quot;properties&quot;: {&quot;NAME_x&quot;: &quot;Chautauqua&quot;, &quot;POP2000&quot;: 139750, &quot;STATE_NAME&quot;: &quot;New York&quot;, &quot;hospital_count&quot;: 2.0, &quot;id&quot;: -7399225964088336508, &quot;norm&quot;: 0.038461538461538464, &quot;people_per_hospital&quot;: 69875.0}, &quot;type&quot;: &quot;Feature&quot;}, {&quot;bbox&quot;: [-77.74500793753401, 41.99733318264485, -76.96595626232357, 42.58502365021459], &quot;geometry&quot;: {&quot;coordinates&quot;: [[[[-77.61284757728342, 41.99882958512834], [-76.96857370314302, 42.00298097482108], [-76.96595626232357, 42.276159324605736], [-77.09627267962645, 42.27719646706008], [-77.10346016430381, 42.480227112562865], [-77.09594486479442, 42.49313590169247], [-77.1285773642513, 42.499174355458536], [-77.139655826934, 42.51027493699512], [-77.13836670867926, 42.57805361323353], [-77.36600031223776, 42.582824316199115], [-77.49499615614623, 42.583063784992916], [-77.65525668873286, 42.58502365021459], [-77.65541614184244, 42.540907357876534], [-77.71573596967427, 42.5391980935357], [-77.72143437950112, 42.47127069729304], [-77.74500793753401, 41.99733318264485], [-77.61284757728342, 41.99882958512834]]]], &quot;type&quot;: &quot;MultiPolygon&quot;}, &quot;id&quot;: &quot;80&quot;, &quot;properties&quot;: {&quot;NAME_x&quot;: &quot;Steuben&quot;, &quot;POP2000&quot;: 98726, &quot;STATE_NAME&quot;: &quot;New York&quot;, &quot;hospital_count&quot;: 0.0, &quot;id&quot;: -3191653104996285266, &quot;norm&quot;: 0.0, &quot;people_per_hospital&quot;: 0.0}, &quot;type&quot;: &quot;Feature&quot;}, {&quot;bbox&quot;: [-77.74500793753401, 41.99733318264485, -76.96595626232357, 42.58502365021459], &quot;geometry&quot;: {&quot;coordinates&quot;: [[[[-77.61284757728342, 41.99882958512834], [-76.96857370314302, 42.00298097482108], [-76.96595626232357, 42.276159324605736], [-77.09627267962645, 42.27719646706008], [-77.10346016430381, 42.480227112562865], [-77.09594486479442, 42.49313590169247], [-77.1285773642513, 42.499174355458536], [-77.139655826934, 42.51027493699512], [-77.13836670867926, 42.57805361323353], [-77.36600031223776, 42.582824316199115], [-77.49499615614623, 42.583063784992916], [-77.65525668873286, 42.58502365021459], [-77.65541614184244, 42.540907357876534], [-77.71573596967427, 42.5391980935357], [-77.72143437950112, 42.47127069729304], [-77.74500793753401, 41.99733318264485], [-77.61284757728342, 41.99882958512834]]]], &quot;type&quot;: &quot;MultiPolygon&quot;}, &quot;id&quot;: &quot;81&quot;, &quot;properties&quot;: {&quot;NAME_x&quot;: &quot;Steuben&quot;, &quot;POP2000&quot;: 98726, &quot;STATE_NAME&quot;: &quot;New York&quot;, &quot;hospital_count&quot;: 0.0, &quot;id&quot;: -3191653104996285266, &quot;norm&quot;: 0.0, &quot;people_per_hospital&quot;: 0.0}, &quot;type&quot;: &quot;Feature&quot;}, {&quot;bbox&quot;: [-76.96857370314302, 42.00253459797427, -76.53108341503983, 42.29271131867046], &quot;geometry&quot;: {&quot;coordinates&quot;: [[[[-76.96595626232357, 42.276159324605736], [-76.96857370314302, 42.00298097482108], [-76.92839533835392, 42.00253459797427], [-76.5639147893755, 42.003011410906424], [-76.54970039288337, 42.053724053340936], [-76.55641411237214, 42.15264305833924], [-76.53108341503983, 42.15404682077804], [-76.5368585580359, 42.278897884681804], [-76.61942750319928, 42.280893205224054], [-76.61757359968263, 42.248209174325766], [-76.64013474965117, 42.238210912037765], [-76.68038157456868, 42.23692931370855], [-76.68272385195179, 42.24960560537367], [-76.72366497726705, 42.25011311801929], [-76.72967709194229, 42.29271131867046], [-76.96195062785345, 42.28397553808117], [-76.96595626232357, 42.276159324605736]]]], &quot;type&quot;: &quot;MultiPolygon&quot;}, &quot;id&quot;: &quot;82&quot;, &quot;properties&quot;: {&quot;NAME_x&quot;: &quot;Chemung&quot;, &quot;POP2000&quot;: 91070, &quot;STATE_NAME&quot;: &quot;New York&quot;, &quot;hospital_count&quot;: 4.0, &quot;id&quot;: 16865845697204180, &quot;norm&quot;: 0.07692307692307693, &quot;people_per_hospital&quot;: 22768.0}, &quot;type&quot;: &quot;Feature&quot;}, {&quot;bbox&quot;: [-76.96857370314302, 42.00253459797427, -76.53108341503983, 42.29271131867046], &quot;geometry&quot;: {&quot;coordinates&quot;: [[[[-76.96595626232357, 42.276159324605736], [-76.96857370314302, 42.00298097482108], [-76.92839533835392, 42.00253459797427], [-76.5639147893755, 42.003011410906424], [-76.54970039288337, 42.053724053340936], [-76.55641411237214, 42.15264305833924], [-76.53108341503983, 42.15404682077804], [-76.5368585580359, 42.278897884681804], [-76.61942750319928, 42.280893205224054], [-76.61757359968263, 42.248209174325766], [-76.64013474965117, 42.238210912037765], [-76.68038157456868, 42.23692931370855], [-76.68272385195179, 42.24960560537367], [-76.72366497726705, 42.25011311801929], [-76.72967709194229, 42.29271131867046], [-76.96195062785345, 42.28397553808117], [-76.96595626232357, 42.276159324605736]]]], &quot;type&quot;: &quot;MultiPolygon&quot;}, &quot;id&quot;: &quot;83&quot;, &quot;properties&quot;: {&quot;NAME_x&quot;: &quot;Chemung&quot;, &quot;POP2000&quot;: 91070, &quot;STATE_NAME&quot;: &quot;New York&quot;, &quot;hospital_count&quot;: 4.0, &quot;id&quot;: 16865845697204180, &quot;norm&quot;: 0.07692307692307693, &quot;people_per_hospital&quot;: 22768.0}, &quot;type&quot;: &quot;Feature&quot;}, {&quot;bbox&quot;: [-74.53153387249095, 42.09657159566354, -73.77522510240097, 42.46029088347381], &quot;geometry&quot;: {&quot;coordinates&quot;: [[[[-73.77952807941199, 42.46029088347381], [-74.25050909762597, 42.40525476162218], [-74.24356654622115, 42.37436841594437], [-74.26959142989524, 42.361143322632635], [-74.34031809793338, 42.35370871157457], [-74.37020299386631, 42.37134713887703], [-74.43964040934083, 42.35613849131594], [-74.42406091341296, 42.34664792179187], [-74.53153387249095, 42.19770036272909], [-74.44837146997124, 42.16939994435035], [-74.29461222756673, 42.11261192435803], [-74.07440491298954, 42.09657159566354], [-74.04043626752235, 42.16562784792552], [-74.01258039601207, 42.15746078325967], [-73.99772497676832, 42.17744185701523], [-73.91853758465759, 42.131086306815625], [-73.90178982050698, 42.16332753240106], [-73.86397667687531, 42.18918682734545], [-73.83785932945882, 42.24002812574421], [-73.80681391155873, 42.26088252795152], [-73.78067430081795, 42.29582042411653], [-73.79278920231289, 42.39079256483767], [-73.77522510240097, 42.445288073991144], [-73.77952807941199, 42.46029088347381]]]], &quot;type&quot;: &quot;MultiPolygon&quot;}, &quot;id&quot;: &quot;84&quot;, &quot;properties&quot;: {&quot;NAME_x&quot;: &quot;Greene&quot;, &quot;POP2000&quot;: 48195, &quot;STATE_NAME&quot;: &quot;New York&quot;, &quot;hospital_count&quot;: 2.0, &quot;id&quot;: 4020999676926583103, &quot;norm&quot;: 0.038461538461538464, &quot;people_per_hospital&quot;: 24098.0}, &quot;type&quot;: &quot;Feature&quot;}, {&quot;bbox&quot;: [-74.53153387249095, 42.09657159566354, -73.77522510240097, 42.46029088347381], &quot;geometry&quot;: {&quot;coordinates&quot;: [[[[-73.77952807941199, 42.46029088347381], [-74.25050909762597, 42.40525476162218], [-74.24356654622115, 42.37436841594437], [-74.26959142989524, 42.361143322632635], [-74.34031809793338, 42.35370871157457], [-74.37020299386631, 42.37134713887703], [-74.43964040934083, 42.35613849131594], [-74.42406091341296, 42.34664792179187], [-74.53153387249095, 42.19770036272909], [-74.44837146997124, 42.16939994435035], [-74.29461222756673, 42.11261192435803], [-74.07440491298954, 42.09657159566354], [-74.04043626752235, 42.16562784792552], [-74.01258039601207, 42.15746078325967], [-73.99772497676832, 42.17744185701523], [-73.91853758465759, 42.131086306815625], [-73.90178982050698, 42.16332753240106], [-73.86397667687531, 42.18918682734545], [-73.83785932945882, 42.24002812574421], [-73.80681391155873, 42.26088252795152], [-73.78067430081795, 42.29582042411653], [-73.79278920231289, 42.39079256483767], [-73.77522510240097, 42.445288073991144], [-73.77952807941199, 42.46029088347381]]]], &quot;type&quot;: &quot;MultiPolygon&quot;}, &quot;id&quot;: &quot;85&quot;, &quot;properties&quot;: {&quot;NAME_x&quot;: &quot;Greene&quot;, &quot;POP2000&quot;: 48195, &quot;STATE_NAME&quot;: &quot;New York&quot;, &quot;hospital_count&quot;: 2.0, &quot;id&quot;: 4020999676926583103, &quot;norm&quot;: 0.038461538461538464, &quot;people_per_hospital&quot;: 24098.0}, &quot;type&quot;: &quot;Feature&quot;}, {&quot;bbox&quot;: [-76.70017204439357, 42.26213223397109, -76.240963921723, 42.63304763689991], &quot;geometry&quot;: {&quot;coordinates&quot;: [[[[-76.70017204439357, 42.555605888224996], [-76.68402080278523, 42.283208894613814], [-76.61942750319928, 42.280893205224054], [-76.5368585580359, 42.278897884681804], [-76.4673519379814, 42.27751683466256], [-76.46681792928275, 42.262525179197596], [-76.41534048859316, 42.26213223397109], [-76.41347861848574, 42.31578936914599], [-76.35269298540985, 42.31645687420092], [-76.3485882631908, 42.30516545411212], [-76.28594861497005, 42.30583296136395], [-76.28625383521967, 42.296284852730246], [-76.25214154826207, 42.29642596504167], [-76.240963921723, 42.35388245697494], [-76.29645441835014, 42.379723056155676], [-76.29415780007355, 42.40430857631302], [-76.25442246568267, 42.40499896720334], [-76.26401933865398, 42.62347554883478], [-76.45466181695076, 42.62139006377594], [-76.45613429219746, 42.62772622918508], [-76.67076656075075, 42.63304763689991], [-76.63611242605776, 42.590559882090226], [-76.58811384380324, 42.55651786031854], [-76.70017204439357, 42.555605888224996]]]], &quot;type&quot;: &quot;MultiPolygon&quot;}, &quot;id&quot;: &quot;86&quot;, &quot;properties&quot;: {&quot;NAME_x&quot;: &quot;Tompkins&quot;, &quot;POP2000&quot;: 96501, &quot;STATE_NAME&quot;: &quot;New York&quot;, &quot;hospital_count&quot;: 2.0, &quot;id&quot;: -1651128564411034198, &quot;norm&quot;: 0.038461538461538464, &quot;people_per_hospital&quot;: 48251.0}, &quot;type&quot;: &quot;Feature&quot;}, {&quot;bbox&quot;: [-76.70017204439357, 42.26213223397109, -76.240963921723, 42.63304763689991], &quot;geometry&quot;: {&quot;coordinates&quot;: [[[[-76.70017204439357, 42.555605888224996], [-76.68402080278523, 42.283208894613814], [-76.61942750319928, 42.280893205224054], [-76.5368585580359, 42.278897884681804], [-76.4673519379814, 42.27751683466256], [-76.46681792928275, 42.262525179197596], [-76.41534048859316, 42.26213223397109], [-76.41347861848574, 42.31578936914599], [-76.35269298540985, 42.31645687420092], [-76.3485882631908, 42.30516545411212], [-76.28594861497005, 42.30583296136395], [-76.28625383521967, 42.296284852730246], [-76.25214154826207, 42.29642596504167], [-76.240963921723, 42.35388245697494], [-76.29645441835014, 42.379723056155676], [-76.29415780007355, 42.40430857631302], [-76.25442246568267, 42.40499896720334], [-76.26401933865398, 42.62347554883478], [-76.45466181695076, 42.62139006377594], [-76.45613429219746, 42.62772622918508], [-76.67076656075075, 42.63304763689991], [-76.63611242605776, 42.590559882090226], [-76.58811384380324, 42.55651786031854], [-76.70017204439357, 42.555605888224996]]]], &quot;type&quot;: &quot;MultiPolygon&quot;}, &quot;id&quot;: &quot;87&quot;, &quot;properties&quot;: {&quot;NAME_x&quot;: &quot;Tompkins&quot;, &quot;POP2000&quot;: 96501, &quot;STATE_NAME&quot;: &quot;New York&quot;, &quot;hospital_count&quot;: 2.0, &quot;id&quot;: -1651128564411034198, &quot;norm&quot;: 0.038461538461538464, &quot;people_per_hospital&quot;: 48251.0}, &quot;type&quot;: &quot;Feature&quot;}, {&quot;bbox&quot;: [-74.24235951786599, 40.99852980109221, -73.89112078870431, 41.324808530694995], &quot;geometry&quot;: {&quot;coordinates&quot;: [[[[-73.9800149179395, 41.324808530694995], [-74.24235951786599, 41.13762659831936], [-74.21303867812689, 41.12361164003311], [-73.8966975351822, 40.99852980109221], [-73.89112078870431, 41.0620397801317], [-73.90015491856808, 41.14281100342859], [-73.9269429817924, 41.19410265239193], [-73.96782300568778, 41.241758931195335], [-73.97147763690646, 41.26036689303535], [-73.95495932353981, 41.292131864623386], [-73.9800149179395, 41.324808530694995]]]], &quot;type&quot;: &quot;MultiPolygon&quot;}, &quot;id&quot;: &quot;88&quot;, &quot;properties&quot;: {&quot;NAME_x&quot;: &quot;Rockland&quot;, &quot;POP2000&quot;: 286753, &quot;STATE_NAME&quot;: &quot;New York&quot;, &quot;hospital_count&quot;: 10.0, &quot;id&quot;: -3733416567055360065, &quot;norm&quot;: 0.19230769230769232, &quot;people_per_hospital&quot;: 28675.0}, &quot;type&quot;: &quot;Feature&quot;}, {&quot;bbox&quot;: [-74.24235951786599, 40.99852980109221, -73.89112078870431, 41.324808530694995], &quot;geometry&quot;: {&quot;coordinates&quot;: [[[[-73.9800149179395, 41.324808530694995], [-74.24235951786599, 41.13762659831936], [-74.21303867812689, 41.12361164003311], [-73.8966975351822, 40.99852980109221], [-73.89112078870431, 41.0620397801317], [-73.90015491856808, 41.14281100342859], [-73.9269429817924, 41.19410265239193], [-73.96782300568778, 41.241758931195335], [-73.97147763690646, 41.26036689303535], [-73.95495932353981, 41.292131864623386], [-73.9800149179395, 41.324808530694995]]]], &quot;type&quot;: &quot;MultiPolygon&quot;}, &quot;id&quot;: &quot;89&quot;, &quot;properties&quot;: {&quot;NAME_x&quot;: &quot;Rockland&quot;, &quot;POP2000&quot;: 286753, &quot;STATE_NAME&quot;: &quot;New York&quot;, &quot;hospital_count&quot;: 10.0, &quot;id&quot;: -3733416567055360065, &quot;norm&quot;: 0.19230769230769232, &quot;people_per_hospital&quot;: 28675.0}, &quot;type&quot;: &quot;Feature&quot;}, {&quot;bbox&quot;: [-75.14828056826096, 41.42991715886913, -74.37041002098069, 42.02151609435665], &quot;geometry&quot;: {&quot;coordinates&quot;: [[[[-74.37041002098069, 41.594331916079845], [-74.39523678427015, 41.641920215201196], [-74.57671421266336, 41.74519407266967], [-74.45570710397973, 41.871907650137956], [-74.78900897616663, 42.02151609435665], [-75.14828056826096, 41.85578933177585], [-75.12475082659526, 41.8491823474776], [-75.11777744298998, 41.836986819419714], [-75.07984301881912, 41.814148346349405], [-75.09682675506325, 41.797207317953365], [-75.09715497349222, 41.779041789865275], [-75.06131850516324, 41.770260375083545], [-75.05696996479627, 41.72670809709369], [-75.06540087021503, 41.71483680163774], [-75.0513249551697, 41.63731477295925], [-75.07245171377983, 41.61308006941125], [-75.06986534991343, 41.604477955289475], [-75.02508736784553, 41.56580090635896], [-75.01488683160787, 41.5395558959306], [-74.97178799946306, 41.48360262312957], [-74.93256440048927, 41.484350685955974], [-74.8985597400598, 41.46189424467621], [-74.89527925850734, 41.444671179797886], [-74.86406664993643, 41.447154818468746], [-74.792799015071, 41.42991715886913], [-74.75482662119566, 41.43014640968574], [-74.7593278695947, 41.450089312644096], [-74.7463647827435, 41.49873374664261], [-74.47604339186971, 41.507738282861006], [-74.40652140382593, 41.57470148622246], [-74.37041002098069, 41.594331916079845]]]], &quot;type&quot;: &quot;MultiPolygon&quot;}, &quot;id&quot;: &quot;90&quot;, &quot;properties&quot;: {&quot;NAME_x&quot;: &quot;Sullivan&quot;, &quot;POP2000&quot;: 73966, &quot;STATE_NAME&quot;: &quot;New York&quot;, &quot;hospital_count&quot;: 4.0, &quot;id&quot;: -5021256476432421056, &quot;norm&quot;: 0.07692307692307693, &quot;people_per_hospital&quot;: 18492.0}, &quot;type&quot;: &quot;Feature&quot;}, {&quot;bbox&quot;: [-75.14828056826096, 41.42991715886913, -74.37041002098069, 42.02151609435665], &quot;geometry&quot;: {&quot;coordinates&quot;: [[[[-74.37041002098069, 41.594331916079845], [-74.39523678427015, 41.641920215201196], [-74.57671421266336, 41.74519407266967], [-74.45570710397973, 41.871907650137956], [-74.78900897616663, 42.02151609435665], [-75.14828056826096, 41.85578933177585], [-75.12475082659526, 41.8491823474776], [-75.11777744298998, 41.836986819419714], [-75.07984301881912, 41.814148346349405], [-75.09682675506325, 41.797207317953365], [-75.09715497349222, 41.779041789865275], [-75.06131850516324, 41.770260375083545], [-75.05696996479627, 41.72670809709369], [-75.06540087021503, 41.71483680163774], [-75.0513249551697, 41.63731477295925], [-75.07245171377983, 41.61308006941125], [-75.06986534991343, 41.604477955289475], [-75.02508736784553, 41.56580090635896], [-75.01488683160787, 41.5395558959306], [-74.97178799946306, 41.48360262312957], [-74.93256440048927, 41.484350685955974], [-74.8985597400598, 41.46189424467621], [-74.89527925850734, 41.444671179797886], [-74.86406664993643, 41.447154818468746], [-74.792799015071, 41.42991715886913], [-74.75482662119566, 41.43014640968574], [-74.7593278695947, 41.450089312644096], [-74.7463647827435, 41.49873374664261], [-74.47604339186971, 41.507738282861006], [-74.40652140382593, 41.57470148622246], [-74.37041002098069, 41.594331916079845]]]], &quot;type&quot;: &quot;MultiPolygon&quot;}, &quot;id&quot;: &quot;91&quot;, &quot;properties&quot;: {&quot;NAME_x&quot;: &quot;Sullivan&quot;, &quot;POP2000&quot;: 73966, &quot;STATE_NAME&quot;: &quot;New York&quot;, &quot;hospital_count&quot;: 4.0, &quot;id&quot;: -5021256476432421056, &quot;norm&quot;: 0.07692307692307693, &quot;people_per_hospital&quot;: 18492.0}, &quot;type&quot;: &quot;Feature&quot;}, {&quot;bbox&quot;: [-73.92307381006573, 40.802804804545026, -73.78004125283817, 40.927314420075774], &quot;geometry&quot;: {&quot;coordinates&quot;: [[[[-73.91986182481111, 40.802804804545026], [-73.79634591864465, 40.83233410078372], [-73.78004125283817, 40.88668879186917], [-73.82452185478121, 40.89274635485063], [-73.83785835467948, 40.90818795998495], [-73.90896623047742, 40.927314420075774], [-73.92239451154268, 40.88604007867778], [-73.90052045370558, 40.87785772774199], [-73.90542642531267, 40.8452044689345], [-73.92307381006573, 40.82253026243994], [-73.91986182481111, 40.802804804545026]]]], &quot;type&quot;: &quot;MultiPolygon&quot;}, &quot;id&quot;: &quot;92&quot;, &quot;properties&quot;: {&quot;NAME_x&quot;: &quot;Bronx&quot;, &quot;POP2000&quot;: 1332650, &quot;STATE_NAME&quot;: &quot;New York&quot;, &quot;hospital_count&quot;: 18.0, &quot;id&quot;: 2761131396320654220, &quot;norm&quot;: 0.34615384615384615, &quot;people_per_hospital&quot;: 74036.0}, &quot;type&quot;: &quot;Feature&quot;}, {&quot;bbox&quot;: [-73.92307381006573, 40.802804804545026, -73.78004125283817, 40.927314420075774], &quot;geometry&quot;: {&quot;coordinates&quot;: [[[[-73.91986182481111, 40.802804804545026], [-73.79634591864465, 40.83233410078372], [-73.78004125283817, 40.88668879186917], [-73.82452185478121, 40.89274635485063], [-73.83785835467948, 40.90818795998495], [-73.90896623047742, 40.927314420075774], [-73.92239451154268, 40.88604007867778], [-73.90052045370558, 40.87785772774199], [-73.90542642531267, 40.8452044689345], [-73.92307381006573, 40.82253026243994], [-73.91986182481111, 40.802804804545026]]]], &quot;type&quot;: &quot;MultiPolygon&quot;}, &quot;id&quot;: &quot;93&quot;, &quot;properties&quot;: {&quot;NAME_x&quot;: &quot;Bronx&quot;, &quot;POP2000&quot;: 1332650, &quot;STATE_NAME&quot;: &quot;New York&quot;, &quot;hospital_count&quot;: 18.0, &quot;id&quot;: 2761131396320654220, &quot;norm&quot;: 0.34615384615384615, &quot;people_per_hospital&quot;: 74036.0}, &quot;type&quot;: &quot;Feature&quot;}, {&quot;bbox&quot;: [-75.88201391569598, 42.86800133045584, -75.06816221874543, 43.6113622758763], &quot;geometry&quot;: {&quot;coordinates&quot;: [[[[-75.212932480378, 42.88527912616988], [-75.21419176906961, 43.063534919331914], [-75.06816221874543, 43.23038905872718], [-75.12998560514947, 43.24397336674207], [-75.13516625131682, 43.253025635778734], [-75.15778823485564, 43.25237341490157], [-75.16169469183578, 43.26007909616716], [-75.14916710513056, 43.300678758406505], [-75.11723702351249, 43.31050910873379], [-75.10145884474296, 43.3079112569047], [-75.09276108596953, 43.314812004728545], [-75.09735425474275, 43.326603225182], [-75.08036299241367, 43.327198269684274], [-75.11520799319902, 43.6113622758763], [-75.53574870374095, 43.422329950388516], [-75.75887081508326, 43.469605911126045], [-75.81462118499947, 43.47840649032418], [-75.88201391569598, 43.336365511588596], [-75.8590255441104, 43.324406377382026], [-75.87777925808653, 43.15851536535416], [-75.80497637615287, 43.16044574067971], [-75.77207699765593, 43.17545293891014], [-75.7453348080264, 43.161250758576344], [-75.72162939262965, 43.16748412318766], [-75.71574688818399, 43.158462325542075], [-75.70316553729022, 43.15771088166579], [-75.70086896399026, 43.14091085498132], [-75.65129118854514, 43.115615719555535], [-75.63349863887088, 43.07990246711449], [-75.60194219981307, 43.071647651565904], [-75.5975321334165, 43.04395670242051], [-75.54863340916137, 43.04408679494717], [-75.53695280128994, 42.941894987747915], [-75.44297716219845, 42.93841655036507], [-75.43712578517558, 42.86800133045584], [-75.25212595481902, 42.87354123945405], [-75.2453889053225, 42.88133462636549], [-75.212932480378, 42.88527912616988]]]], &quot;type&quot;: &quot;MultiPolygon&quot;}, &quot;id&quot;: &quot;94&quot;, &quot;properties&quot;: {&quot;NAME_x&quot;: &quot;Oneida&quot;, &quot;POP2000&quot;: 235469, &quot;STATE_NAME&quot;: &quot;New York&quot;, &quot;hospital_count&quot;: 12.0, &quot;id&quot;: -1429757784932417547, &quot;norm&quot;: 0.23076923076923078, &quot;people_per_hospital&quot;: 19622.0}, &quot;type&quot;: &quot;Feature&quot;}, {&quot;bbox&quot;: [-75.88201391569598, 42.86800133045584, -75.06816221874543, 43.6113622758763], &quot;geometry&quot;: {&quot;coordinates&quot;: [[[[-75.212932480378, 42.88527912616988], [-75.21419176906961, 43.063534919331914], [-75.06816221874543, 43.23038905872718], [-75.12998560514947, 43.24397336674207], [-75.13516625131682, 43.253025635778734], [-75.15778823485564, 43.25237341490157], [-75.16169469183578, 43.26007909616716], [-75.14916710513056, 43.300678758406505], [-75.11723702351249, 43.31050910873379], [-75.10145884474296, 43.3079112569047], [-75.09276108596953, 43.314812004728545], [-75.09735425474275, 43.326603225182], [-75.08036299241367, 43.327198269684274], [-75.11520799319902, 43.6113622758763], [-75.53574870374095, 43.422329950388516], [-75.75887081508326, 43.469605911126045], [-75.81462118499947, 43.47840649032418], [-75.88201391569598, 43.336365511588596], [-75.8590255441104, 43.324406377382026], [-75.87777925808653, 43.15851536535416], [-75.80497637615287, 43.16044574067971], [-75.77207699765593, 43.17545293891014], [-75.7453348080264, 43.161250758576344], [-75.72162939262965, 43.16748412318766], [-75.71574688818399, 43.158462325542075], [-75.70316553729022, 43.15771088166579], [-75.70086896399026, 43.14091085498132], [-75.65129118854514, 43.115615719555535], [-75.63349863887088, 43.07990246711449], [-75.60194219981307, 43.071647651565904], [-75.5975321334165, 43.04395670242051], [-75.54863340916137, 43.04408679494717], [-75.53695280128994, 42.941894987747915], [-75.44297716219845, 42.93841655036507], [-75.43712578517558, 42.86800133045584], [-75.25212595481902, 42.87354123945405], [-75.2453889053225, 42.88133462636549], [-75.212932480378, 42.88527912616988]]]], &quot;type&quot;: &quot;MultiPolygon&quot;}, &quot;id&quot;: &quot;95&quot;, &quot;properties&quot;: {&quot;NAME_x&quot;: &quot;Oneida&quot;, &quot;POP2000&quot;: 235469, &quot;STATE_NAME&quot;: &quot;New York&quot;, &quot;hospital_count&quot;: 12.0, &quot;id&quot;: -1429757784932417547, &quot;norm&quot;: 0.23076923076923078, &quot;people_per_hospital&quot;: 19622.0}, &quot;type&quot;: &quot;Feature&quot;}, {&quot;bbox&quot;: [-78.05243223612861, 42.47127069729304, -77.4852544213797, 42.991086627459055], &quot;geometry&quot;: {&quot;coordinates&quot;: [[[[-77.95628831349505, 42.86920977574887], [-77.95459880448477, 42.67589359615871], [-77.98336189026288, 42.62269801759995], [-78.0201594953717, 42.61201671830146], [-78.00287829660049, 42.60435698732348], [-78.00435837866534, 42.597490603262436], [-78.04004974317513, 42.58956737050282], [-78.04195705799704, 42.579496672274786], [-78.0310924092899, 42.57483141131686], [-78.0448943402251, 42.56576008492366], [-78.05243223612861, 42.54551185459214], [-78.04022475024527, 42.539065160363755], [-78.0446422220569, 42.52937972646466], [-78.03438030468963, 42.52424144872404], [-77.83633749128292, 42.523869710801414], [-77.83946521837245, 42.47920782722917], [-77.72143437950112, 42.47127069729304], [-77.71573596967427, 42.5391980935357], [-77.65541614184244, 42.540907357876534], [-77.65525668873286, 42.58502365021459], [-77.49499615614623, 42.583063784992916], [-77.4852544213797, 42.674283368262216], [-77.59762397636894, 42.675324103124765], [-77.6173939386692, 42.76711582114229], [-77.58744759712333, 42.76794378687851], [-77.5870294130882, 42.8562154045851], [-77.55718225527566, 42.859759387267246], [-77.5506668330943, 42.87905023073016], [-77.57977506399897, 42.945593304737805], [-77.76313869234947, 42.94226613740778], [-77.72717288814069, 42.960588238002984], [-77.72693693934963, 42.991086627459055], [-77.90676705136163, 42.989479560620204], [-77.90408067668776, 42.953152317798754], [-77.92975430576973, 42.95283552978029], [-77.93112675724582, 42.91092355420889], [-77.95178009757758, 42.9107593825601], [-77.95628831349505, 42.86920977574887]]]], &quot;type&quot;: &quot;MultiPolygon&quot;}, &quot;id&quot;: &quot;96&quot;, &quot;properties&quot;: {&quot;NAME_x&quot;: &quot;Livingston&quot;, &quot;POP2000&quot;: 64328, &quot;STATE_NAME&quot;: &quot;New York&quot;, &quot;hospital_count&quot;: 2.0, &quot;id&quot;: 5118815594191264364, &quot;norm&quot;: 0.038461538461538464, &quot;people_per_hospital&quot;: 32164.0}, &quot;type&quot;: &quot;Feature&quot;}, {&quot;bbox&quot;: [-78.05243223612861, 42.47127069729304, -77.4852544213797, 42.991086627459055], &quot;geometry&quot;: {&quot;coordinates&quot;: [[[[-77.95628831349505, 42.86920977574887], [-77.95459880448477, 42.67589359615871], [-77.98336189026288, 42.62269801759995], [-78.0201594953717, 42.61201671830146], [-78.00287829660049, 42.60435698732348], [-78.00435837866534, 42.597490603262436], [-78.04004974317513, 42.58956737050282], [-78.04195705799704, 42.579496672274786], [-78.0310924092899, 42.57483141131686], [-78.0448943402251, 42.56576008492366], [-78.05243223612861, 42.54551185459214], [-78.04022475024527, 42.539065160363755], [-78.0446422220569, 42.52937972646466], [-78.03438030468963, 42.52424144872404], [-77.83633749128292, 42.523869710801414], [-77.83946521837245, 42.47920782722917], [-77.72143437950112, 42.47127069729304], [-77.71573596967427, 42.5391980935357], [-77.65541614184244, 42.540907357876534], [-77.65525668873286, 42.58502365021459], [-77.49499615614623, 42.583063784992916], [-77.4852544213797, 42.674283368262216], [-77.59762397636894, 42.675324103124765], [-77.6173939386692, 42.76711582114229], [-77.58744759712333, 42.76794378687851], [-77.5870294130882, 42.8562154045851], [-77.55718225527566, 42.859759387267246], [-77.5506668330943, 42.87905023073016], [-77.57977506399897, 42.945593304737805], [-77.76313869234947, 42.94226613740778], [-77.72717288814069, 42.960588238002984], [-77.72693693934963, 42.991086627459055], [-77.90676705136163, 42.989479560620204], [-77.90408067668776, 42.953152317798754], [-77.92975430576973, 42.95283552978029], [-77.93112675724582, 42.91092355420889], [-77.95178009757758, 42.9107593825601], [-77.95628831349505, 42.86920977574887]]]], &quot;type&quot;: &quot;MultiPolygon&quot;}, &quot;id&quot;: &quot;97&quot;, &quot;properties&quot;: {&quot;NAME_x&quot;: &quot;Livingston&quot;, &quot;POP2000&quot;: 64328, &quot;STATE_NAME&quot;: &quot;New York&quot;, &quot;hospital_count&quot;: 2.0, &quot;id&quot;: 5118815594191264364, &quot;norm&quot;: 0.038461538461538464, &quot;people_per_hospital&quot;: 32164.0}, &quot;type&quot;: &quot;Feature&quot;}, {&quot;bbox&quot;: [-76.61962796802419, 43.15851536535416, -75.75887081508326, 43.705592578444275], &quot;geometry&quot;: {&quot;coordinates&quot;: [[[[-75.98849413282406, 43.18645432254452], [-75.94614919694965, 43.17753934132401], [-75.91617967947856, 43.16159760710596], [-75.87777925808653, 43.15851536535416], [-75.8590255441104, 43.324406377382026], [-75.88201391569598, 43.336365511588596], [-75.81462118499947, 43.47840649032418], [-75.75887081508326, 43.469605911126045], [-75.77467492810126, 43.69019804199436], [-76.03336589734181, 43.705592578444275], [-76.03108450935376, 43.671474291794496], [-76.20566635913048, 43.682700033073004], [-76.18457041212461, 43.633197366782156], [-76.22276471113524, 43.55415378269132], [-76.45465571373002, 43.50072099760118], [-76.61962796802419, 43.414152745818605], [-76.60190155027969, 43.25627024992875], [-76.48243374242456, 43.25767468398496], [-76.48258614062227, 43.22717975426247], [-76.31184817230682, 43.235305423355875], [-76.29130116838618, 43.20381480268801], [-76.27031947961152, 43.215548967690545], [-76.26605457092383, 43.238834131410364], [-76.22363330694613, 43.210437285518935], [-76.20541367698185, 43.23030827743332], [-76.21540108385231, 43.267002118290506], [-76.19858525805549, 43.272289336139885], [-76.08209500155161, 43.227321496362805], [-76.07271052860922, 43.20790449040155], [-76.05077518170775, 43.21006747479568], [-75.98849413282406, 43.18645432254452]]]], &quot;type&quot;: &quot;MultiPolygon&quot;}, &quot;id&quot;: &quot;98&quot;, &quot;properties&quot;: {&quot;NAME_x&quot;: &quot;Oswego&quot;, &quot;POP2000&quot;: 122377, &quot;STATE_NAME&quot;: &quot;New York&quot;, &quot;hospital_count&quot;: 2.0, &quot;id&quot;: 6489595400602197193, &quot;norm&quot;: 0.038461538461538464, &quot;people_per_hospital&quot;: 61189.0}, &quot;type&quot;: &quot;Feature&quot;}, {&quot;bbox&quot;: [-76.61962796802419, 43.15851536535416, -75.75887081508326, 43.705592578444275], &quot;geometry&quot;: {&quot;coordinates&quot;: [[[[-75.98849413282406, 43.18645432254452], [-75.94614919694965, 43.17753934132401], [-75.91617967947856, 43.16159760710596], [-75.87777925808653, 43.15851536535416], [-75.8590255441104, 43.324406377382026], [-75.88201391569598, 43.336365511588596], [-75.81462118499947, 43.47840649032418], [-75.75887081508326, 43.469605911126045], [-75.77467492810126, 43.69019804199436], [-76.03336589734181, 43.705592578444275], [-76.03108450935376, 43.671474291794496], [-76.20566635913048, 43.682700033073004], [-76.18457041212461, 43.633197366782156], [-76.22276471113524, 43.55415378269132], [-76.45465571373002, 43.50072099760118], [-76.61962796802419, 43.414152745818605], [-76.60190155027969, 43.25627024992875], [-76.48243374242456, 43.25767468398496], [-76.48258614062227, 43.22717975426247], [-76.31184817230682, 43.235305423355875], [-76.29130116838618, 43.20381480268801], [-76.27031947961152, 43.215548967690545], [-76.26605457092383, 43.238834131410364], [-76.22363330694613, 43.210437285518935], [-76.20541367698185, 43.23030827743332], [-76.21540108385231, 43.267002118290506], [-76.19858525805549, 43.272289336139885], [-76.08209500155161, 43.227321496362805], [-76.07271052860922, 43.20790449040155], [-76.05077518170775, 43.21006747479568], [-75.98849413282406, 43.18645432254452]]]], &quot;type&quot;: &quot;MultiPolygon&quot;}, &quot;id&quot;: &quot;99&quot;, &quot;properties&quot;: {&quot;NAME_x&quot;: &quot;Oswego&quot;, &quot;POP2000&quot;: 122377, &quot;STATE_NAME&quot;: &quot;New York&quot;, &quot;hospital_count&quot;: 2.0, &quot;id&quot;: 6489595400602197193, &quot;norm&quot;: 0.038461538461538464, &quot;people_per_hospital&quot;: 61189.0}, &quot;type&quot;: &quot;Feature&quot;}, {&quot;bbox&quot;: [-75.21419176906961, 42.82726335399889, -74.69434040867559, 44.09280734255202], &quot;geometry&quot;: {&quot;coordinates&quot;: [[[[-74.85420430838985, 44.070099859544435], [-75.06710130940564, 44.05215776119982], [-75.16386884565581, 44.09280734255202], [-75.11520799319902, 43.6113622758763], [-75.08036299241367, 43.327198269684274], [-75.09735425474275, 43.326603225182], [-75.09276108596953, 43.314812004728545], [-75.10145884474296, 43.3079112569047], [-75.11723702351249, 43.31050910873379], [-75.14916710513056, 43.300678758406505], [-75.16169469183578, 43.26007909616716], [-75.15778823485564, 43.25237341490157], [-75.13516625131682, 43.253025635778734], [-75.12998560514947, 43.24397336674207], [-75.06816221874543, 43.23038905872718], [-75.21419176906961, 43.063534919331914], [-75.212932480378, 42.88527912616988], [-75.21249770029851, 42.8602778450522], [-75.13564450786832, 42.86369232031412], [-75.09886954950105, 42.9103876663873], [-74.91069188729264, 42.82726335399889], [-74.89080124070456, 42.83558698588226], [-74.88412524593465, 42.90019573253477], [-74.76363706742107, 42.86639835433678], [-74.74497536265133, 42.99109939289246], [-74.74743283805752, 43.04429099340328], [-74.76447000547343, 43.05419760738017], [-74.77480095466674, 43.080972684522905], [-74.7700862375485, 43.107835548104546], [-74.74083454285085, 43.12983860661044], [-74.73727943736813, 43.149415459755495], [-74.72163111526694, 43.15405414694141], [-74.71803781810199, 43.170903515657855], [-74.69434040867559, 43.18740963752986], [-74.71482809901835, 43.284649244652606], [-74.87090025637498, 43.339218127280446], [-74.77867834326597, 43.47859510305369], [-74.85420430838985, 44.070099859544435]]]], &quot;type&quot;: &quot;MultiPolygon&quot;}, &quot;id&quot;: &quot;100&quot;, &quot;properties&quot;: {&quot;NAME_x&quot;: &quot;Herkimer&quot;, &quot;POP2000&quot;: 64427, &quot;STATE_NAME&quot;: &quot;New York&quot;, &quot;hospital_count&quot;: 2.0, &quot;id&quot;: -8732022152574536502, &quot;norm&quot;: 0.038461538461538464, &quot;people_per_hospital&quot;: 32214.0}, &quot;type&quot;: &quot;Feature&quot;}, {&quot;bbox&quot;: [-75.21419176906961, 42.82726335399889, -74.69434040867559, 44.09280734255202], &quot;geometry&quot;: {&quot;coordinates&quot;: [[[[-74.85420430838985, 44.070099859544435], [-75.06710130940564, 44.05215776119982], [-75.16386884565581, 44.09280734255202], [-75.11520799319902, 43.6113622758763], [-75.08036299241367, 43.327198269684274], [-75.09735425474275, 43.326603225182], [-75.09276108596953, 43.314812004728545], [-75.10145884474296, 43.3079112569047], [-75.11723702351249, 43.31050910873379], [-75.14916710513056, 43.300678758406505], [-75.16169469183578, 43.26007909616716], [-75.15778823485564, 43.25237341490157], [-75.13516625131682, 43.253025635778734], [-75.12998560514947, 43.24397336674207], [-75.06816221874543, 43.23038905872718], [-75.21419176906961, 43.063534919331914], [-75.212932480378, 42.88527912616988], [-75.21249770029851, 42.8602778450522], [-75.13564450786832, 42.86369232031412], [-75.09886954950105, 42.9103876663873], [-74.91069188729264, 42.82726335399889], [-74.89080124070456, 42.83558698588226], [-74.88412524593465, 42.90019573253477], [-74.76363706742107, 42.86639835433678], [-74.74497536265133, 42.99109939289246], [-74.74743283805752, 43.04429099340328], [-74.76447000547343, 43.05419760738017], [-74.77480095466674, 43.080972684522905], [-74.7700862375485, 43.107835548104546], [-74.74083454285085, 43.12983860661044], [-74.73727943736813, 43.149415459755495], [-74.72163111526694, 43.15405414694141], [-74.71803781810199, 43.170903515657855], [-74.69434040867559, 43.18740963752986], [-74.71482809901835, 43.284649244652606], [-74.87090025637498, 43.339218127280446], [-74.77867834326597, 43.47859510305369], [-74.85420430838985, 44.070099859544435]]]], &quot;type&quot;: &quot;MultiPolygon&quot;}, &quot;id&quot;: &quot;101&quot;, &quot;properties&quot;: {&quot;NAME_x&quot;: &quot;Herkimer&quot;, &quot;POP2000&quot;: 64427, &quot;STATE_NAME&quot;: &quot;New York&quot;, &quot;hospital_count&quot;: 2.0, &quot;id&quot;: -8732022152574536502, &quot;norm&quot;: 0.038461538461538464, &quot;people_per_hospital&quot;: 32214.0}, &quot;type&quot;: &quot;Feature&quot;}, {&quot;bbox&quot;: [-73.9365294078354, 41.982670445549246, -73.35082423703108, 42.504755759764635], &quot;geometry&quot;: {&quot;coordinates&quot;: [[[[-73.48423028445364, 42.04742805007275], [-73.4988400027322, 42.07746068306345], [-73.35082423703108, 42.504755759764635], [-73.77952807941199, 42.46029088347381], [-73.77522510240097, 42.445288073991144], [-73.79278920231289, 42.39079256483767], [-73.78067430081795, 42.29582042411653], [-73.80681391155873, 42.26088252795152], [-73.83785932945882, 42.24002812574421], [-73.86397667687531, 42.18918682734545], [-73.90178982050698, 42.16332753240106], [-73.91853758465759, 42.131086306815625], [-73.9365294078354, 42.077959966099506], [-73.90252393072356, 42.079756621934244], [-73.73217788786614, 42.006851384386465], [-73.53224506356067, 41.982670445549246], [-73.5268568752508, 42.048953789902754], [-73.48423028445364, 42.04742805007275]]]], &quot;type&quot;: &quot;MultiPolygon&quot;}, &quot;id&quot;: &quot;102&quot;, &quot;properties&quot;: {&quot;NAME_x&quot;: &quot;Columbia&quot;, &quot;POP2000&quot;: 63094, &quot;STATE_NAME&quot;: &quot;New York&quot;, &quot;hospital_count&quot;: 6.0, &quot;id&quot;: -1408655231146927685, &quot;norm&quot;: 0.11538461538461539, &quot;people_per_hospital&quot;: 10516.0}, &quot;type&quot;: &quot;Feature&quot;}, {&quot;bbox&quot;: [-73.9365294078354, 41.982670445549246, -73.35082423703108, 42.504755759764635], &quot;geometry&quot;: {&quot;coordinates&quot;: [[[[-73.48423028445364, 42.04742805007275], [-73.4988400027322, 42.07746068306345], [-73.35082423703108, 42.504755759764635], [-73.77952807941199, 42.46029088347381], [-73.77522510240097, 42.445288073991144], [-73.79278920231289, 42.39079256483767], [-73.78067430081795, 42.29582042411653], [-73.80681391155873, 42.26088252795152], [-73.83785932945882, 42.24002812574421], [-73.86397667687531, 42.18918682734545], [-73.90178982050698, 42.16332753240106], [-73.91853758465759, 42.131086306815625], [-73.9365294078354, 42.077959966099506], [-73.90252393072356, 42.079756621934244], [-73.73217788786614, 42.006851384386465], [-73.53224506356067, 41.982670445549246], [-73.5268568752508, 42.048953789902754], [-73.48423028445364, 42.04742805007275]]]], &quot;type&quot;: &quot;MultiPolygon&quot;}, &quot;id&quot;: &quot;103&quot;, &quot;properties&quot;: {&quot;NAME_x&quot;: &quot;Columbia&quot;, &quot;POP2000&quot;: 63094, &quot;STATE_NAME&quot;: &quot;New York&quot;, &quot;hospital_count&quot;: 6.0, &quot;id&quot;: -1408655231146927685, &quot;norm&quot;: 0.11538461538461539, &quot;people_per_hospital&quot;: 10516.0}, &quot;type&quot;: &quot;Feature&quot;}, {&quot;bbox&quot;: [-76.12653459802382, 41.99636770057914, -75.38281319593384, 42.41388675665544], &quot;geometry&quot;: {&quot;coordinates&quot;: [[[[-75.38281319593384, 41.99835660838767], [-75.40600739801462, 42.01536202157557], [-75.42724883699549, 42.057372554471556], [-75.4213835368138, 42.19416631062453], [-75.63136712874017, 42.19577659861544], [-75.63502258575822, 42.24570293606652], [-75.84403777912534, 42.25107894757901], [-75.86637086421469, 42.41388675665544], [-76.12653459802382, 42.40806597835265], [-76.11521205756088, 42.32190431699563], [-76.10523246618709, 42.32025258595606], [-76.10321817477819, 42.29483934693103], [-76.11254925306234, 42.29559463089619], [-76.11220589428686, 42.28424221201766], [-76.07902444493448, 42.273874049079474], [-76.07736875808207, 42.259813234164746], [-76.09352077787042, 42.26091562976966], [-76.09085791840344, 42.23415186407148], [-76.0783681194977, 42.23117262276299], [-76.07560602471918, 42.20077335650802], [-76.0937340915175, 42.185484028968226], [-76.11104585447433, 42.184751564780356], [-76.10483453096165, 41.99949874585062], [-75.47973225649042, 41.99636770057914], [-75.38281319593384, 41.99835660838767]]]], &quot;type&quot;: &quot;MultiPolygon&quot;}, &quot;id&quot;: &quot;104&quot;, &quot;properties&quot;: {&quot;NAME_x&quot;: &quot;Broome&quot;, &quot;POP2000&quot;: 200536, &quot;STATE_NAME&quot;: &quot;New York&quot;, &quot;hospital_count&quot;: 8.0, &quot;id&quot;: 7558118927230433223, &quot;norm&quot;: 0.15384615384615385, &quot;people_per_hospital&quot;: 25067.0}, &quot;type&quot;: &quot;Feature&quot;}, {&quot;bbox&quot;: [-76.12653459802382, 41.99636770057914, -75.38281319593384, 42.41388675665544], &quot;geometry&quot;: {&quot;coordinates&quot;: [[[[-75.38281319593384, 41.99835660838767], [-75.40600739801462, 42.01536202157557], [-75.42724883699549, 42.057372554471556], [-75.4213835368138, 42.19416631062453], [-75.63136712874017, 42.19577659861544], [-75.63502258575822, 42.24570293606652], [-75.84403777912534, 42.25107894757901], [-75.86637086421469, 42.41388675665544], [-76.12653459802382, 42.40806597835265], [-76.11521205756088, 42.32190431699563], [-76.10523246618709, 42.32025258595606], [-76.10321817477819, 42.29483934693103], [-76.11254925306234, 42.29559463089619], [-76.11220589428686, 42.28424221201766], [-76.07902444493448, 42.273874049079474], [-76.07736875808207, 42.259813234164746], [-76.09352077787042, 42.26091562976966], [-76.09085791840344, 42.23415186407148], [-76.0783681194977, 42.23117262276299], [-76.07560602471918, 42.20077335650802], [-76.0937340915175, 42.185484028968226], [-76.11104585447433, 42.184751564780356], [-76.10483453096165, 41.99949874585062], [-75.47973225649042, 41.99636770057914], [-75.38281319593384, 41.99835660838767]]]], &quot;type&quot;: &quot;MultiPolygon&quot;}, &quot;id&quot;: &quot;105&quot;, &quot;properties&quot;: {&quot;NAME_x&quot;: &quot;Broome&quot;, &quot;POP2000&quot;: 200536, &quot;STATE_NAME&quot;: &quot;New York&quot;, &quot;hospital_count&quot;: 8.0, &quot;id&quot;: 7558118927230433223, &quot;norm&quot;: 0.15384615384615385, &quot;people_per_hospital&quot;: 25067.0}, &quot;type&quot;: &quot;Feature&quot;}, {&quot;bbox&quot;: [-77.37731588740431, 43.01429229034646, -76.69774662249843, 43.3427331717123], &quot;geometry&quot;: {&quot;coordinates&quot;: [[[[-76.96137321413502, 43.01429229034646], [-76.7179730151224, 43.02594018687468], [-76.71718737720937, 43.069637897858485], [-76.69774662249843, 43.08596501686782], [-76.71847162260222, 43.32344242523356], [-76.73682949312168, 43.3427331717123], [-76.91452750901082, 43.278596009649995], [-77.37731588740431, 43.275712901285274], [-77.36496060334319, 43.03639052501864], [-77.13375432734576, 43.04122007500219], [-77.1294280042493, 43.01492901525752], [-76.96137321413502, 43.01429229034646]]]], &quot;type&quot;: &quot;MultiPolygon&quot;}, &quot;id&quot;: &quot;106&quot;, &quot;properties&quot;: {&quot;NAME_x&quot;: &quot;Wayne&quot;, &quot;POP2000&quot;: 93765, &quot;STATE_NAME&quot;: &quot;New York&quot;, &quot;hospital_count&quot;: 0.0, &quot;id&quot;: -5726339361906097229, &quot;norm&quot;: 0.0, &quot;people_per_hospital&quot;: 0.0}, &quot;type&quot;: &quot;Feature&quot;}, {&quot;bbox&quot;: [-77.37731588740431, 43.01429229034646, -76.69774662249843, 43.3427331717123], &quot;geometry&quot;: {&quot;coordinates&quot;: [[[[-76.96137321413502, 43.01429229034646], [-76.7179730151224, 43.02594018687468], [-76.71718737720937, 43.069637897858485], [-76.69774662249843, 43.08596501686782], [-76.71847162260222, 43.32344242523356], [-76.73682949312168, 43.3427331717123], [-76.91452750901082, 43.278596009649995], [-77.37731588740431, 43.275712901285274], [-77.36496060334319, 43.03639052501864], [-77.13375432734576, 43.04122007500219], [-77.1294280042493, 43.01492901525752], [-76.96137321413502, 43.01429229034646]]]], &quot;type&quot;: &quot;MultiPolygon&quot;}, &quot;id&quot;: &quot;107&quot;, &quot;properties&quot;: {&quot;NAME_x&quot;: &quot;Wayne&quot;, &quot;POP2000&quot;: 93765, &quot;STATE_NAME&quot;: &quot;New York&quot;, &quot;hospital_count&quot;: 0.0, &quot;id&quot;: -5726339361906097229, &quot;norm&quot;: 0.0, &quot;people_per_hospital&quot;: 0.0}, &quot;type&quot;: &quot;Feature&quot;}, {&quot;bbox&quot;: [-74.71814794445956, 42.35370871157457, -74.15677693954562, 42.83474084779929], &quot;geometry&quot;: {&quot;coordinates&quot;: [[[[-74.17928323162948, 42.72803424800382], [-74.20606347238459, 42.71163099105062], [-74.25972196224477, 42.712900955634545], [-74.30349986723357, 42.73644124244492], [-74.28796533002486, 42.75466012870666], [-74.26364202240475, 42.75834894625126], [-74.24933669457728, 42.77474065092758], [-74.24752881901101, 42.79292906804427], [-74.25879021326297, 42.79699930603613], [-74.28309042378046, 42.78285824748365], [-74.3692673672046, 42.782186746563674], [-74.44911922417363, 42.76920532193107], [-74.57376522295252, 42.816453543028125], [-74.64891740446674, 42.83474084779929], [-74.67312590410427, 42.75369461361803], [-74.64106134522352, 42.66158195415122], [-74.63697313493422, 42.622966101068506], [-74.64915100862447, 42.592910369185425], [-74.71814794445956, 42.519832994068175], [-74.61905653644443, 42.43036951202375], [-74.43964040934083, 42.35613849131594], [-74.37020299386631, 42.37134713887703], [-74.34031809793338, 42.35370871157457], [-74.26959142989524, 42.361143322632635], [-74.24356654622115, 42.37436841594437], [-74.25050909762597, 42.40525476162218], [-74.24880701932375, 42.44978579147459], [-74.22970155240058, 42.500256243680994], [-74.23607783154597, 42.54705072303721], [-74.16290529457675, 42.659877727978056], [-74.15677693954562, 42.70851857609485], [-74.17928323162948, 42.72803424800382]]]], &quot;type&quot;: &quot;MultiPolygon&quot;}, &quot;id&quot;: &quot;108&quot;, &quot;properties&quot;: {&quot;NAME_x&quot;: &quot;Schoharie&quot;, &quot;POP2000&quot;: 31582, &quot;STATE_NAME&quot;: &quot;New York&quot;, &quot;hospital_count&quot;: 0.0, &quot;id&quot;: -3242198657382302366, &quot;norm&quot;: 0.0, &quot;people_per_hospital&quot;: 0.0}, &quot;type&quot;: &quot;Feature&quot;}, {&quot;bbox&quot;: [-74.71814794445956, 42.35370871157457, -74.15677693954562, 42.83474084779929], &quot;geometry&quot;: {&quot;coordinates&quot;: [[[[-74.17928323162948, 42.72803424800382], [-74.20606347238459, 42.71163099105062], [-74.25972196224477, 42.712900955634545], [-74.30349986723357, 42.73644124244492], [-74.28796533002486, 42.75466012870666], [-74.26364202240475, 42.75834894625126], [-74.24933669457728, 42.77474065092758], [-74.24752881901101, 42.79292906804427], [-74.25879021326297, 42.79699930603613], [-74.28309042378046, 42.78285824748365], [-74.3692673672046, 42.782186746563674], [-74.44911922417363, 42.76920532193107], [-74.57376522295252, 42.816453543028125], [-74.64891740446674, 42.83474084779929], [-74.67312590410427, 42.75369461361803], [-74.64106134522352, 42.66158195415122], [-74.63697313493422, 42.622966101068506], [-74.64915100862447, 42.592910369185425], [-74.71814794445956, 42.519832994068175], [-74.61905653644443, 42.43036951202375], [-74.43964040934083, 42.35613849131594], [-74.37020299386631, 42.37134713887703], [-74.34031809793338, 42.35370871157457], [-74.26959142989524, 42.361143322632635], [-74.24356654622115, 42.37436841594437], [-74.25050909762597, 42.40525476162218], [-74.24880701932375, 42.44978579147459], [-74.22970155240058, 42.500256243680994], [-74.23607783154597, 42.54705072303721], [-74.16290529457675, 42.659877727978056], [-74.15677693954562, 42.70851857609485], [-74.17928323162948, 42.72803424800382]]]], &quot;type&quot;: &quot;MultiPolygon&quot;}, &quot;id&quot;: &quot;109&quot;, &quot;properties&quot;: {&quot;NAME_x&quot;: &quot;Schoharie&quot;, &quot;POP2000&quot;: 31582, &quot;STATE_NAME&quot;: &quot;New York&quot;, &quot;hospital_count&quot;: 0.0, &quot;id&quot;: -3242198657382302366, &quot;norm&quot;: 0.0, &quot;people_per_hospital&quot;: 0.0}, &quot;type&quot;: &quot;Feature&quot;}, {&quot;bbox&quot;: [-79.05948889673354, 41.999420608422966, -78.3050882311977, 42.54442844744009], &quot;geometry&quot;: {&quot;coordinates&quot;: [[[[-79.05948889673354, 42.00115765939045], [-78.91853826758572, 41.99984678744701], [-78.3050882311977, 41.999420608422966], [-78.30553787241244, 42.52827601808179], [-78.4563836539366, 42.530019201834975], [-78.45954237729522, 42.54037600447111], [-78.55508065748366, 42.51522188505174], [-78.60274299623723, 42.510815767555506], [-78.69033911998947, 42.4799319102032], [-78.71275487508493, 42.48912897658826], [-78.77311334546467, 42.461449489260474], [-78.78981446937489, 42.46902153991512], [-78.85197329115184, 42.449879210674354], [-78.88598618873186, 42.4467853374854], [-78.94571048165305, 42.47273638390722], [-78.9591916866049, 42.49588006583859], [-79.02183859916906, 42.54398637871926], [-79.05739233639126, 42.54442844744009], [-79.05948889673354, 42.00115765939045]]]], &quot;type&quot;: &quot;MultiPolygon&quot;}, &quot;id&quot;: &quot;110&quot;, &quot;properties&quot;: {&quot;NAME_x&quot;: &quot;Cattaraugus&quot;, &quot;POP2000&quot;: 83955, &quot;STATE_NAME&quot;: &quot;New York&quot;, &quot;hospital_count&quot;: 4.0, &quot;id&quot;: -7238615989306272075, &quot;norm&quot;: 0.07692307692307693, &quot;people_per_hospital&quot;: 20989.0}, &quot;type&quot;: &quot;Feature&quot;}, {&quot;bbox&quot;: [-79.05948889673354, 41.999420608422966, -78.3050882311977, 42.54442844744009], &quot;geometry&quot;: {&quot;coordinates&quot;: [[[[-79.05948889673354, 42.00115765939045], [-78.91853826758572, 41.99984678744701], [-78.3050882311977, 41.999420608422966], [-78.30553787241244, 42.52827601808179], [-78.4563836539366, 42.530019201834975], [-78.45954237729522, 42.54037600447111], [-78.55508065748366, 42.51522188505174], [-78.60274299623723, 42.510815767555506], [-78.69033911998947, 42.4799319102032], [-78.71275487508493, 42.48912897658826], [-78.77311334546467, 42.461449489260474], [-78.78981446937489, 42.46902153991512], [-78.85197329115184, 42.449879210674354], [-78.88598618873186, 42.4467853374854], [-78.94571048165305, 42.47273638390722], [-78.9591916866049, 42.49588006583859], [-79.02183859916906, 42.54398637871926], [-79.05739233639126, 42.54442844744009], [-79.05948889673354, 42.00115765939045]]]], &quot;type&quot;: &quot;MultiPolygon&quot;}, &quot;id&quot;: &quot;111&quot;, &quot;properties&quot;: {&quot;NAME_x&quot;: &quot;Cattaraugus&quot;, &quot;POP2000&quot;: 83955, &quot;STATE_NAME&quot;: &quot;New York&quot;, &quot;hospital_count&quot;: 4.0, &quot;id&quot;: -7238615989306272075, &quot;norm&quot;: 0.07692307692307693, &quot;people_per_hospital&quot;: 20989.0}, &quot;type&quot;: &quot;Feature&quot;}, {&quot;bbox&quot;: [-73.9989739937326, 41.43963467258381, -73.48423028445364, 42.079756621934244], &quot;geometry&quot;: {&quot;coordinates&quot;: [[[[-73.51714741333278, 41.66568616323645], [-73.48423028445364, 42.04742805007275], [-73.5268568752508, 42.048953789902754], [-73.53224506356067, 41.982670445549246], [-73.73217788786614, 42.006851384386465], [-73.90252393072356, 42.079756621934244], [-73.9365294078354, 42.077959966099506], [-73.96073279917456, 41.91220943336511], [-73.9410408752027, 41.86225630088809], [-73.94973160573669, 41.77054389540746], [-73.94053034974627, 41.728773131899786], [-73.95538553894968, 41.58759513466645], [-73.99467830141889, 41.529501250690586], [-73.9989739937326, 41.4559730443166], [-73.98120463131701, 41.43963467258381], [-73.92847594958317, 41.49090024134495], [-73.5886366209373, 41.52657154476691], [-73.53039207071754, 41.522745556300436], [-73.51714741333278, 41.66568616323645]]]], &quot;type&quot;: &quot;MultiPolygon&quot;}, &quot;id&quot;: &quot;112&quot;, &quot;properties&quot;: {&quot;NAME_x&quot;: &quot;Dutchess&quot;, &quot;POP2000&quot;: 280150, &quot;STATE_NAME&quot;: &quot;New York&quot;, &quot;hospital_count&quot;: 16.0, &quot;id&quot;: -8998442404301874951, &quot;norm&quot;: 0.3076923076923077, &quot;people_per_hospital&quot;: 17509.0}, &quot;type&quot;: &quot;Feature&quot;}, {&quot;bbox&quot;: [-73.9989739937326, 41.43963467258381, -73.48423028445364, 42.079756621934244], &quot;geometry&quot;: {&quot;coordinates&quot;: [[[[-73.51714741333278, 41.66568616323645], [-73.48423028445364, 42.04742805007275], [-73.5268568752508, 42.048953789902754], [-73.53224506356067, 41.982670445549246], [-73.73217788786614, 42.006851384386465], [-73.90252393072356, 42.079756621934244], [-73.9365294078354, 42.077959966099506], [-73.96073279917456, 41.91220943336511], [-73.9410408752027, 41.86225630088809], [-73.94973160573669, 41.77054389540746], [-73.94053034974627, 41.728773131899786], [-73.95538553894968, 41.58759513466645], [-73.99467830141889, 41.529501250690586], [-73.9989739937326, 41.4559730443166], [-73.98120463131701, 41.43963467258381], [-73.92847594958317, 41.49090024134495], [-73.5886366209373, 41.52657154476691], [-73.53039207071754, 41.522745556300436], [-73.51714741333278, 41.66568616323645]]]], &quot;type&quot;: &quot;MultiPolygon&quot;}, &quot;id&quot;: &quot;113&quot;, &quot;properties&quot;: {&quot;NAME_x&quot;: &quot;Dutchess&quot;, &quot;POP2000&quot;: 280150, &quot;STATE_NAME&quot;: &quot;New York&quot;, &quot;hospital_count&quot;: 16.0, &quot;id&quot;: -8998442404301874951, &quot;norm&quot;: 0.3076923076923077, &quot;people_per_hospital&quot;: 17509.0}, &quot;type&quot;: &quot;Feature&quot;}, {&quot;bbox&quot;: [-74.25050909762597, 42.40525476162218, -73.67866261586785, 42.808366154363746], &quot;geometry&quot;: {&quot;coordinates&quot;: [[[[-73.77952807941199, 42.46029088347381], [-73.78817229705476, 42.4798444736252], [-73.76245970962911, 42.544781240012846], [-73.7641148771775, 42.60522817381909], [-73.69769855414033, 42.69599402541816], [-73.67866261586785, 42.764135135619284], [-73.7378145894487, 42.808366154363746], [-73.76787511231635, 42.784776192520326], [-73.79222108390628, 42.78800325756122], [-73.81099746315597, 42.773938493039445], [-73.82223582453132, 42.77531933530638], [-74.17928323162948, 42.72803424800382], [-74.15677693954562, 42.70851857609485], [-74.16290529457675, 42.659877727978056], [-74.23607783154597, 42.54705072303721], [-74.22970155240058, 42.500256243680994], [-74.24880701932375, 42.44978579147459], [-74.25050909762597, 42.40525476162218], [-73.77952807941199, 42.46029088347381]]]], &quot;type&quot;: &quot;MultiPolygon&quot;}, &quot;id&quot;: &quot;114&quot;, &quot;properties&quot;: {&quot;NAME_x&quot;: &quot;Albany&quot;, &quot;POP2000&quot;: 294565, &quot;STATE_NAME&quot;: &quot;New York&quot;, &quot;hospital_count&quot;: 10.0, &quot;id&quot;: 95926439052527753, &quot;norm&quot;: 0.19230769230769232, &quot;people_per_hospital&quot;: 29457.0}, &quot;type&quot;: &quot;Feature&quot;}, {&quot;bbox&quot;: [-74.25050909762597, 42.40525476162218, -73.67866261586785, 42.808366154363746], &quot;geometry&quot;: {&quot;coordinates&quot;: [[[[-73.77952807941199, 42.46029088347381], [-73.78817229705476, 42.4798444736252], [-73.76245970962911, 42.544781240012846], [-73.7641148771775, 42.60522817381909], [-73.69769855414033, 42.69599402541816], [-73.67866261586785, 42.764135135619284], [-73.7378145894487, 42.808366154363746], [-73.76787511231635, 42.784776192520326], [-73.79222108390628, 42.78800325756122], [-73.81099746315597, 42.773938493039445], [-73.82223582453132, 42.77531933530638], [-74.17928323162948, 42.72803424800382], [-74.15677693954562, 42.70851857609485], [-74.16290529457675, 42.659877727978056], [-74.23607783154597, 42.54705072303721], [-74.22970155240058, 42.500256243680994], [-74.24880701932375, 42.44978579147459], [-74.25050909762597, 42.40525476162218], [-73.77952807941199, 42.46029088347381]]]], &quot;type&quot;: &quot;MultiPolygon&quot;}, &quot;id&quot;: &quot;115&quot;, &quot;properties&quot;: {&quot;NAME_x&quot;: &quot;Albany&quot;, &quot;POP2000&quot;: 294565, &quot;STATE_NAME&quot;: &quot;New York&quot;, &quot;hospital_count&quot;: 10.0, &quot;id&quot;: 95926439052527753, &quot;norm&quot;: 0.19230769230769232, &quot;people_per_hospital&quot;: 29457.0}, &quot;type&quot;: &quot;Feature&quot;}, {&quot;bbox&quot;: [-74.30349986723357, 42.71163099105062, -73.82223582453132, 42.949991733385076], &quot;geometry&quot;: {&quot;coordinates&quot;: [[[[-73.82223582453132, 42.77531933530638], [-73.89518993771225, 42.84495565671703], [-73.90635977275402, 42.902248097098145], [-73.95694394299593, 42.89464907785499], [-73.97829923742181, 42.91410000477299], [-74.05716626729476, 42.949557033534525], [-74.09284974324508, 42.949991733385076], [-74.08652437359211, 42.89679610239707], [-74.25384645034733, 42.81155614096118], [-74.25879021326297, 42.79699930603613], [-74.24752881901101, 42.79292906804427], [-74.24933669457728, 42.77474065092758], [-74.26364202240475, 42.75834894625126], [-74.28796533002486, 42.75466012870666], [-74.30349986723357, 42.73644124244492], [-74.25972196224477, 42.712900955634545], [-74.20606347238459, 42.71163099105062], [-74.17928323162948, 42.72803424800382], [-73.82223582453132, 42.77531933530638]]]], &quot;type&quot;: &quot;MultiPolygon&quot;}, &quot;id&quot;: &quot;116&quot;, &quot;properties&quot;: {&quot;NAME_x&quot;: &quot;Schenectady&quot;, &quot;POP2000&quot;: 146555, &quot;STATE_NAME&quot;: &quot;New York&quot;, &quot;hospital_count&quot;: 10.0, &quot;id&quot;: 1084699653503387186, &quot;norm&quot;: 0.19230769230769232, &quot;people_per_hospital&quot;: 14656.0}, &quot;type&quot;: &quot;Feature&quot;}, {&quot;bbox&quot;: [-74.30349986723357, 42.71163099105062, -73.82223582453132, 42.949991733385076], &quot;geometry&quot;: {&quot;coordinates&quot;: [[[[-73.82223582453132, 42.77531933530638], [-73.89518993771225, 42.84495565671703], [-73.90635977275402, 42.902248097098145], [-73.95694394299593, 42.89464907785499], [-73.97829923742181, 42.91410000477299], [-74.05716626729476, 42.949557033534525], [-74.09284974324508, 42.949991733385076], [-74.08652437359211, 42.89679610239707], [-74.25384645034733, 42.81155614096118], [-74.25879021326297, 42.79699930603613], [-74.24752881901101, 42.79292906804427], [-74.24933669457728, 42.77474065092758], [-74.26364202240475, 42.75834894625126], [-74.28796533002486, 42.75466012870666], [-74.30349986723357, 42.73644124244492], [-74.25972196224477, 42.712900955634545], [-74.20606347238459, 42.71163099105062], [-74.17928323162948, 42.72803424800382], [-73.82223582453132, 42.77531933530638]]]], &quot;type&quot;: &quot;MultiPolygon&quot;}, &quot;id&quot;: &quot;117&quot;, &quot;properties&quot;: {&quot;NAME_x&quot;: &quot;Schenectady&quot;, &quot;POP2000&quot;: 146555, &quot;STATE_NAME&quot;: &quot;New York&quot;, &quot;hospital_count&quot;: 10.0, &quot;id&quot;: 1084699653503387186, &quot;norm&quot;: 0.19230769230769232, &quot;people_per_hospital&quot;: 14656.0}, &quot;type&quot;: &quot;Feature&quot;}, {&quot;bbox&quot;: [-77.9920093179894, 42.94226613740778, -77.36496060334319, 43.36557162612532], &quot;geometry&quot;: {&quot;coordinates&quot;: [[[[-77.99083225215233, 43.131236334509445], [-77.90852378053833, 43.13098505448433], [-77.95552870501628, 43.041721296120436], [-77.89968752141125, 43.04157668601354], [-77.8991760807396, 43.0215648888946], [-77.90911744898744, 43.0199016267363], [-77.90676705136163, 42.989479560620204], [-77.72693693934963, 42.991086627459055], [-77.72717288814069, 42.960588238002984], [-77.76313869234947, 42.94226613740778], [-77.57977506399897, 42.945593304737805], [-77.47950561810643, 42.94466284995737], [-77.4821924344633, 43.03514315900785], [-77.36496060334319, 43.03639052501864], [-77.37731588740431, 43.275712901285274], [-77.57571151646245, 43.24154767181616], [-77.74500743024514, 43.335170080295825], [-77.9920093179894, 43.36557162612532], [-77.99083225215233, 43.131236334509445]]]], &quot;type&quot;: &quot;MultiPolygon&quot;}, &quot;id&quot;: &quot;118&quot;, &quot;properties&quot;: {&quot;NAME_x&quot;: &quot;Monroe&quot;, &quot;POP2000&quot;: 735343, &quot;STATE_NAME&quot;: &quot;New York&quot;, &quot;hospital_count&quot;: 18.0, &quot;id&quot;: 7076580640889505586, &quot;norm&quot;: 0.34615384615384615, &quot;people_per_hospital&quot;: 40852.0}, &quot;type&quot;: &quot;Feature&quot;}, {&quot;bbox&quot;: [-77.9920093179894, 42.94226613740778, -77.36496060334319, 43.36557162612532], &quot;geometry&quot;: {&quot;coordinates&quot;: [[[[-77.99083225215233, 43.131236334509445], [-77.90852378053833, 43.13098505448433], [-77.95552870501628, 43.041721296120436], [-77.89968752141125, 43.04157668601354], [-77.8991760807396, 43.0215648888946], [-77.90911744898744, 43.0199016267363], [-77.90676705136163, 42.989479560620204], [-77.72693693934963, 42.991086627459055], [-77.72717288814069, 42.960588238002984], [-77.76313869234947, 42.94226613740778], [-77.57977506399897, 42.945593304737805], [-77.47950561810643, 42.94466284995737], [-77.4821924344633, 43.03514315900785], [-77.36496060334319, 43.03639052501864], [-77.37731588740431, 43.275712901285274], [-77.57571151646245, 43.24154767181616], [-77.74500743024514, 43.335170080295825], [-77.9920093179894, 43.36557162612532], [-77.99083225215233, 43.131236334509445]]]], &quot;type&quot;: &quot;MultiPolygon&quot;}, &quot;id&quot;: &quot;119&quot;, &quot;properties&quot;: {&quot;NAME_x&quot;: &quot;Monroe&quot;, &quot;POP2000&quot;: 735343, &quot;STATE_NAME&quot;: &quot;New York&quot;, &quot;hospital_count&quot;: 18.0, &quot;id&quot;: 7076580640889505586, &quot;norm&quot;: 0.34615384615384615, &quot;people_per_hospital&quot;: 40852.0}, &quot;type&quot;: &quot;Feature&quot;}, {&quot;bbox&quot;: [-74.77480095466674, 42.982563105437954, -74.0991597156679, 43.284649244652606], &quot;geometry&quot;: {&quot;coordinates&quot;: [[[[-74.14292476708111, 43.25058276630439], [-74.22276879249486, 43.247740518701754], [-74.2214257556138, 43.22044666919071], [-74.3206794544975, 43.211142241835525], [-74.32582972569453, 43.236605039205024], [-74.53446187350147, 43.22727719793714], [-74.71482809901835, 43.284649244652606], [-74.69434040867559, 43.18740963752986], [-74.71803781810199, 43.170903515657855], [-74.72163111526694, 43.15405414694141], [-74.73727943736813, 43.149415459755495], [-74.74083454285085, 43.12983860661044], [-74.7700862375485, 43.107835548104546], [-74.77480095466674, 43.080972684522905], [-74.76447000547343, 43.05419760738017], [-74.74743283805752, 43.04429099340328], [-74.53819679548738, 42.982563105437954], [-74.0991597156679, 42.984545045373125], [-74.14292476708111, 43.25058276630439]]]], &quot;type&quot;: &quot;MultiPolygon&quot;}, &quot;id&quot;: &quot;120&quot;, &quot;properties&quot;: {&quot;NAME_x&quot;: &quot;Fulton&quot;, &quot;POP2000&quot;: 55073, &quot;STATE_NAME&quot;: &quot;New York&quot;, &quot;hospital_count&quot;: 2.0, &quot;id&quot;: -4847885239309532864, &quot;norm&quot;: 0.038461538461538464, &quot;people_per_hospital&quot;: 27537.0}, &quot;type&quot;: &quot;Feature&quot;}, {&quot;bbox&quot;: [-74.77480095466674, 42.982563105437954, -74.0991597156679, 43.284649244652606], &quot;geometry&quot;: {&quot;coordinates&quot;: [[[[-74.14292476708111, 43.25058276630439], [-74.22276879249486, 43.247740518701754], [-74.2214257556138, 43.22044666919071], [-74.3206794544975, 43.211142241835525], [-74.32582972569453, 43.236605039205024], [-74.53446187350147, 43.22727719793714], [-74.71482809901835, 43.284649244652606], [-74.69434040867559, 43.18740963752986], [-74.71803781810199, 43.170903515657855], [-74.72163111526694, 43.15405414694141], [-74.73727943736813, 43.149415459755495], [-74.74083454285085, 43.12983860661044], [-74.7700862375485, 43.107835548104546], [-74.77480095466674, 43.080972684522905], [-74.76447000547343, 43.05419760738017], [-74.74743283805752, 43.04429099340328], [-74.53819679548738, 42.982563105437954], [-74.0991597156679, 42.984545045373125], [-74.14292476708111, 43.25058276630439]]]], &quot;type&quot;: &quot;MultiPolygon&quot;}, &quot;id&quot;: &quot;121&quot;, &quot;properties&quot;: {&quot;NAME_x&quot;: &quot;Fulton&quot;, &quot;POP2000&quot;: 55073, &quot;STATE_NAME&quot;: &quot;New York&quot;, &quot;hospital_count&quot;: 2.0, &quot;id&quot;: -4847885239309532864, &quot;norm&quot;: 0.038461538461538464, &quot;people_per_hospital&quot;: 27537.0}, &quot;type&quot;: &quot;Feature&quot;}, {&quot;bbox&quot;: [-74.21483732703086, 43.229080419200685, -73.44817963081267, 43.79795018837387], &quot;geometry&quot;: {&quot;coordinates&quot;: [[[[-73.60261809236147, 43.303340769012095], [-73.64420709805356, 43.51774189738387], [-73.62394325415788, 43.53042550795681], [-73.61436106588151, 43.54951763490301], [-73.61935122050727, 43.56136201381688], [-73.59721780178556, 43.56539399727093], [-73.53293265721129, 43.637558159510576], [-73.4935719766828, 43.65880890254449], [-73.49332874841487, 43.69204149537667], [-73.47129636571647, 43.75934229993062], [-73.4749056906154, 43.783492607540346], [-73.44817963081267, 43.79795018837387], [-74.05910606522617, 43.73944062889542], [-74.21483732703086, 43.72198094562992], [-74.15955045497212, 43.36885486250568], [-73.88426517638372, 43.398476391873615], [-73.87362189113766, 43.36161192604642], [-73.85225134220191, 43.34156997132392], [-73.85291514409711, 43.32564772094623], [-73.82277819386265, 43.297400487863385], [-73.83608432307246, 43.25556162096873], [-73.7989967741538, 43.25232685598612], [-73.77203367393138, 43.229080419200685], [-73.75629380243518, 43.238155487040935], [-73.74365154408794, 43.25677862218253], [-73.74674912804723, 43.26952712178157], [-73.73224521695394, 43.27814064761492], [-73.69886565018021, 43.288077944856774], [-73.68698639613402, 43.27212902049175], [-73.66812601042778, 43.269802194129916], [-73.66171706733093, 43.29435701950126], [-73.6453057486019, 43.304778676312715], [-73.60261809236147, 43.303340769012095]]]], &quot;type&quot;: &quot;MultiPolygon&quot;}, &quot;id&quot;: &quot;122&quot;, &quot;properties&quot;: {&quot;NAME_x&quot;: &quot;Warren&quot;, &quot;POP2000&quot;: 63303, &quot;STATE_NAME&quot;: &quot;New York&quot;, &quot;hospital_count&quot;: 2.0, &quot;id&quot;: -6708643694427271059, &quot;norm&quot;: 0.038461538461538464, &quot;people_per_hospital&quot;: 31652.0}, &quot;type&quot;: &quot;Feature&quot;}, {&quot;bbox&quot;: [-74.21483732703086, 43.229080419200685, -73.44817963081267, 43.79795018837387], &quot;geometry&quot;: {&quot;coordinates&quot;: [[[[-73.60261809236147, 43.303340769012095], [-73.64420709805356, 43.51774189738387], [-73.62394325415788, 43.53042550795681], [-73.61436106588151, 43.54951763490301], [-73.61935122050727, 43.56136201381688], [-73.59721780178556, 43.56539399727093], [-73.53293265721129, 43.637558159510576], [-73.4935719766828, 43.65880890254449], [-73.49332874841487, 43.69204149537667], [-73.47129636571647, 43.75934229993062], [-73.4749056906154, 43.783492607540346], [-73.44817963081267, 43.79795018837387], [-74.05910606522617, 43.73944062889542], [-74.21483732703086, 43.72198094562992], [-74.15955045497212, 43.36885486250568], [-73.88426517638372, 43.398476391873615], [-73.87362189113766, 43.36161192604642], [-73.85225134220191, 43.34156997132392], [-73.85291514409711, 43.32564772094623], [-73.82277819386265, 43.297400487863385], [-73.83608432307246, 43.25556162096873], [-73.7989967741538, 43.25232685598612], [-73.77203367393138, 43.229080419200685], [-73.75629380243518, 43.238155487040935], [-73.74365154408794, 43.25677862218253], [-73.74674912804723, 43.26952712178157], [-73.73224521695394, 43.27814064761492], [-73.69886565018021, 43.288077944856774], [-73.68698639613402, 43.27212902049175], [-73.66812601042778, 43.269802194129916], [-73.66171706733093, 43.29435701950126], [-73.6453057486019, 43.304778676312715], [-73.60261809236147, 43.303340769012095]]]], &quot;type&quot;: &quot;MultiPolygon&quot;}, &quot;id&quot;: &quot;123&quot;, &quot;properties&quot;: {&quot;NAME_x&quot;: &quot;Warren&quot;, &quot;POP2000&quot;: 63303, &quot;STATE_NAME&quot;: &quot;New York&quot;, &quot;hospital_count&quot;: 2.0, &quot;id&quot;: -6708643694427271059, &quot;norm&quot;: 0.038461538461538464, &quot;people_per_hospital&quot;: 31652.0}, &quot;type&quot;: &quot;Feature&quot;}], &quot;type&quot;: &quot;FeatureCollection&quot;});\n",
       "\n",
       "        \n",
       "    \n",
       "    geo_json_18fd03989417ae90e523c0ef0bc63879.bindTooltip(\n",
       "    function(layer){\n",
       "    let div = L.DomUtil.create(&#x27;div&#x27;);\n",
       "    \n",
       "    let handleObject = feature=&gt;typeof(feature)==&#x27;object&#x27; ? JSON.stringify(feature) : feature;\n",
       "    let fields = [&quot;NAME_x&quot;, &quot;POP2000&quot;, &quot;hospital_count&quot;];\n",
       "    let aliases = [&quot;NAME_x&quot;, &quot;POP2000&quot;, &quot;hospital_count&quot;];\n",
       "    let table = &#x27;&lt;table&gt;&#x27; +\n",
       "        String(\n",
       "        fields.map(\n",
       "        (v,i)=&gt;\n",
       "        `&lt;tr&gt;\n",
       "            &lt;th&gt;${aliases[i]}&lt;/th&gt;\n",
       "            \n",
       "            &lt;td&gt;${handleObject(layer.feature.properties[v])}&lt;/td&gt;\n",
       "        &lt;/tr&gt;`).join(&#x27;&#x27;))\n",
       "    +&#x27;&lt;/table&gt;&#x27;;\n",
       "    div.innerHTML=table;\n",
       "    \n",
       "    return div\n",
       "    }\n",
       "    ,{&quot;className&quot;: &quot;foliumtooltip&quot;, &quot;sticky&quot;: true});\n",
       "                     \n",
       "&lt;/script&gt;\" style=\"position:absolute;width:100%;height:100%;left:0;top:0;border:none !important;\" allowfullscreen webkitallowfullscreen mozallowfullscreen></iframe></div></div>"
      ],
      "text/plain": [
       "<folium.folium.Map at 0x7fdd940e4ad0>"
      ]
     },
     "execution_count": 28,
     "metadata": {},
     "output_type": "execute_result"
    }
   ],
   "source": [
    "x_loc = geo_df.geometry.centroid[0].y\n",
    "y_loc = geo_df.geometry.centroid[0].x\n",
    "\n",
    "m = folium.Map(location=[x_loc, y_loc], \n",
    "               zoom_start=8,\n",
    "               min_zoom=5, \n",
    "               max_zoom=16,\n",
    "               tiles='CartoDB positron')\n",
    "\n",
    "# style the polygons based on \"values\" property\n",
    "def style_fn(feature):\n",
    "    x_val = feature[\"properties\"][\"norm\"] + 0.05\n",
    "    ss = {\n",
    "        \"fillColor\": 'orange',\n",
    "        \"fillOpacity\": x_val,\n",
    "    }\n",
    "    return ss\n",
    "\n",
    "folium.GeoJson(\n",
    "    geo_df.__geo_interface__,\n",
    "    style_function=style_fn,\n",
    "    tooltip=folium.features.GeoJsonTooltip([\"NAME_x\", \"POP2000\", \"hospital_count\"]),\n",
    ").add_to(m)\n",
    "\n",
    "m"
   ]
  }
 ],
 "metadata": {
  "kernelspec": {
   "display_name": "Python 3",
   "language": "python",
   "name": "python3"
  },
  "language_info": {
   "codemirror_mode": {
    "name": "ipython",
    "version": 3
   },
   "file_extension": ".py",
   "mimetype": "text/x-python",
   "name": "python",
   "nbconvert_exporter": "python",
   "pygments_lexer": "ipython3",
   "version": "3.7.12"
  },
  "papermill": {
   "default_parameters": {},
   "duration": 23.851217,
   "end_time": "2022-05-25T16:35:01.868804",
   "environment_variables": {},
   "exception": null,
   "input_path": "__notebook__.ipynb",
   "output_path": "__notebook__.ipynb",
   "parameters": {},
   "start_time": "2022-05-25T16:34:38.017587",
   "version": "2.3.4"
  }
 },
 "nbformat": 4,
 "nbformat_minor": 5
}
