{
 "cells": [
  {
   "cell_type": "markdown",
   "id": "f30193ba",
   "metadata": {
    "papermill": {
     "duration": 0.018233,
     "end_time": "2022-05-25T13:59:04.071810",
     "exception": false,
     "start_time": "2022-05-25T13:59:04.053577",
     "status": "completed"
    },
    "tags": []
   },
   "source": [
    "**[Machine Learning Course Home Page](https://www.kaggle.com/learn/machine-learning)**\n",
    "\n",
    "---\n"
   ]
  },
  {
   "cell_type": "code",
   "execution_count": 1,
   "id": "223da85d",
   "metadata": {
    "execution": {
     "iopub.execute_input": "2022-05-25T13:59:04.103155Z",
     "iopub.status.busy": "2022-05-25T13:59:04.102638Z",
     "iopub.status.idle": "2022-05-25T13:59:05.203798Z",
     "shell.execute_reply": "2022-05-25T13:59:05.202987Z"
    },
    "papermill": {
     "duration": 1.119473,
     "end_time": "2022-05-25T13:59:05.206181",
     "exception": false,
     "start_time": "2022-05-25T13:59:04.086708",
     "status": "completed"
    },
    "tags": []
   },
   "outputs": [
    {
     "name": "stderr",
     "output_type": "stream",
     "text": [
      "/opt/conda/lib/python3.7/site-packages/geopandas/_compat.py:115: UserWarning: The Shapely GEOS version (3.9.1-CAPI-1.14.2) is incompatible with the GEOS version PyGEOS was compiled with (3.10.1-CAPI-1.16.0). Conversions between both will be slow.\n",
      "  shapely_geos_version, geos_capi_version_string\n"
     ]
    }
   ],
   "source": [
    "import pandas as pd\n",
    "import geopandas\n",
    "import folium\n",
    "from folium.plugins import MarkerCluster\n",
    "import matplotlib.pyplot as plt"
   ]
  },
  {
   "cell_type": "code",
   "execution_count": 2,
   "id": "71c25096",
   "metadata": {
    "execution": {
     "iopub.execute_input": "2022-05-25T13:59:05.238966Z",
     "iopub.status.busy": "2022-05-25T13:59:05.238673Z",
     "iopub.status.idle": "2022-05-25T13:59:05.242349Z",
     "shell.execute_reply": "2022-05-25T13:59:05.241778Z"
    },
    "papermill": {
     "duration": 0.021926,
     "end_time": "2022-05-25T13:59:05.244263",
     "exception": false,
     "start_time": "2022-05-25T13:59:05.222337",
     "status": "completed"
    },
    "tags": []
   },
   "outputs": [],
   "source": [
    "# BigQuery\n",
    "from google.cloud import bigquery\n",
    "bigquery_client = bigquery.Client(project='flights-328723')"
   ]
  },
  {
   "cell_type": "code",
   "execution_count": 3,
   "id": "ea9cb5f3",
   "metadata": {
    "execution": {
     "iopub.execute_input": "2022-05-25T13:59:05.277566Z",
     "iopub.status.busy": "2022-05-25T13:59:05.277325Z",
     "iopub.status.idle": "2022-05-25T13:59:06.334361Z",
     "shell.execute_reply": "2022-05-25T13:59:06.333486Z"
    },
    "papermill": {
     "duration": 1.076526,
     "end_time": "2022-05-25T13:59:06.336563",
     "exception": false,
     "start_time": "2022-05-25T13:59:05.260037",
     "status": "completed"
    },
    "tags": []
   },
   "outputs": [
    {
     "name": "stdout",
     "output_type": "stream",
     "text": [
      "counties\n",
      "h_loc\n",
      "hospitals_all\n",
      "locations_all\n"
     ]
    }
   ],
   "source": [
    "for i in bigquery_client.list_tables(\"hospitals\"):\n",
    "    print(i.table_id)"
   ]
  },
  {
   "cell_type": "markdown",
   "id": "fbed7103",
   "metadata": {
    "papermill": {
     "duration": 0.015907,
     "end_time": "2022-05-25T13:59:06.368002",
     "exception": false,
     "start_time": "2022-05-25T13:59:06.352095",
     "status": "completed"
    },
    "tags": []
   },
   "source": [
    "## Step 1: Loading Data"
   ]
  },
  {
   "cell_type": "code",
   "execution_count": 4,
   "id": "edb247de",
   "metadata": {
    "execution": {
     "iopub.execute_input": "2022-05-25T13:59:06.401888Z",
     "iopub.status.busy": "2022-05-25T13:59:06.401402Z",
     "iopub.status.idle": "2022-05-25T13:59:08.541977Z",
     "shell.execute_reply": "2022-05-25T13:59:08.541226Z"
    },
    "papermill": {
     "duration": 2.159651,
     "end_time": "2022-05-25T13:59:08.543715",
     "exception": false,
     "start_time": "2022-05-25T13:59:06.384064",
     "status": "completed"
    },
    "tags": []
   },
   "outputs": [
    {
     "data": {
      "text/html": [
       "<div>\n",
       "<style scoped>\n",
       "    .dataframe tbody tr th:only-of-type {\n",
       "        vertical-align: middle;\n",
       "    }\n",
       "\n",
       "    .dataframe tbody tr th {\n",
       "        vertical-align: top;\n",
       "    }\n",
       "\n",
       "    .dataframe thead th {\n",
       "        text-align: right;\n",
       "    }\n",
       "</style>\n",
       "<table border=\"1\" class=\"dataframe\">\n",
       "  <thead>\n",
       "    <tr style=\"text-align: right;\">\n",
       "      <th></th>\n",
       "      <th>id</th>\n",
       "      <th>name</th>\n",
       "      <th>city</th>\n",
       "      <th>state</th>\n",
       "      <th>lon</th>\n",
       "      <th>lat</th>\n",
       "    </tr>\n",
       "  </thead>\n",
       "  <tbody>\n",
       "    <tr>\n",
       "      <th>0</th>\n",
       "      <td>2119</td>\n",
       "      <td>Ponape State Hospital</td>\n",
       "      <td>None</td>\n",
       "      <td>None</td>\n",
       "      <td>158.216385</td>\n",
       "      <td>6.952780</td>\n",
       "    </tr>\n",
       "    <tr>\n",
       "      <th>1</th>\n",
       "      <td>2112</td>\n",
       "      <td>Centro Medico Barrio Espino</td>\n",
       "      <td>ANASCO</td>\n",
       "      <td>None</td>\n",
       "      <td>-67.107956</td>\n",
       "      <td>18.284678</td>\n",
       "    </tr>\n",
       "    <tr>\n",
       "      <th>2</th>\n",
       "      <td>2115</td>\n",
       "      <td>Hospital General Rodriguez</td>\n",
       "      <td>CATANO</td>\n",
       "      <td>None</td>\n",
       "      <td>-66.119614</td>\n",
       "      <td>18.467722</td>\n",
       "    </tr>\n",
       "    <tr>\n",
       "      <th>3</th>\n",
       "      <td>2118</td>\n",
       "      <td>Sanatorio Ruiz Soler</td>\n",
       "      <td>BAYAMON</td>\n",
       "      <td>None</td>\n",
       "      <td>-66.128784</td>\n",
       "      <td>18.400503</td>\n",
       "    </tr>\n",
       "    <tr>\n",
       "      <th>4</th>\n",
       "      <td>160</td>\n",
       "      <td>De Poo Hospital</td>\n",
       "      <td>KEY WEST</td>\n",
       "      <td>None</td>\n",
       "      <td>-81.796486</td>\n",
       "      <td>24.557648</td>\n",
       "    </tr>\n",
       "  </tbody>\n",
       "</table>\n",
       "</div>"
      ],
      "text/plain": [
       "     id                         name      city state         lon        lat\n",
       "0  2119        Ponape State Hospital      None  None  158.216385   6.952780\n",
       "1  2112  Centro Medico Barrio Espino    ANASCO  None  -67.107956  18.284678\n",
       "2  2115   Hospital General Rodriguez    CATANO  None  -66.119614  18.467722\n",
       "3  2118         Sanatorio Ruiz Soler   BAYAMON  None  -66.128784  18.400503\n",
       "4   160              De Poo Hospital  KEY WEST  None  -81.796486  24.557648"
      ]
     },
     "execution_count": 4,
     "metadata": {},
     "output_type": "execute_result"
    }
   ],
   "source": [
    "df = bigquery_client.query('''\n",
    "    SELECT *\n",
    "    FROM `hospitals.hospitals_all`\n",
    "    '''\n",
    "    ).result().to_dataframe(create_bqstorage_client=False)\n",
    "df.head()"
   ]
  },
  {
   "cell_type": "code",
   "execution_count": 5,
   "id": "f830e7b6",
   "metadata": {
    "execution": {
     "iopub.execute_input": "2022-05-25T13:59:08.577325Z",
     "iopub.status.busy": "2022-05-25T13:59:08.576929Z",
     "iopub.status.idle": "2022-05-25T13:59:08.581333Z",
     "shell.execute_reply": "2022-05-25T13:59:08.580625Z"
    },
    "papermill": {
     "duration": 0.022941,
     "end_time": "2022-05-25T13:59:08.582969",
     "exception": false,
     "start_time": "2022-05-25T13:59:08.560028",
     "status": "completed"
    },
    "tags": []
   },
   "outputs": [
    {
     "data": {
      "text/plain": [
       "(6501, 6)"
      ]
     },
     "execution_count": 5,
     "metadata": {},
     "output_type": "execute_result"
    }
   ],
   "source": [
    "df.shape"
   ]
  },
  {
   "cell_type": "code",
   "execution_count": 6,
   "id": "3cff7fc9",
   "metadata": {
    "execution": {
     "iopub.execute_input": "2022-05-25T13:59:08.617249Z",
     "iopub.status.busy": "2022-05-25T13:59:08.616504Z",
     "iopub.status.idle": "2022-05-25T13:59:08.626538Z",
     "shell.execute_reply": "2022-05-25T13:59:08.625677Z"
    },
    "papermill": {
     "duration": 0.029666,
     "end_time": "2022-05-25T13:59:08.628784",
     "exception": false,
     "start_time": "2022-05-25T13:59:08.599118",
     "status": "completed"
    },
    "tags": []
   },
   "outputs": [],
   "source": [
    "gdf = geopandas.GeoDataFrame(\n",
    "    df, geometry=geopandas.points_from_xy(df.lon, df.lat))"
   ]
  },
  {
   "cell_type": "code",
   "execution_count": 7,
   "id": "2d4fe0e0",
   "metadata": {
    "execution": {
     "iopub.execute_input": "2022-05-25T13:59:08.664191Z",
     "iopub.status.busy": "2022-05-25T13:59:08.663884Z",
     "iopub.status.idle": "2022-05-25T13:59:10.001264Z",
     "shell.execute_reply": "2022-05-25T13:59:10.000432Z"
    },
    "papermill": {
     "duration": 1.358558,
     "end_time": "2022-05-25T13:59:10.003475",
     "exception": false,
     "start_time": "2022-05-25T13:59:08.644917",
     "status": "completed"
    },
    "tags": []
   },
   "outputs": [
    {
     "data": {
      "image/png": "[encoded data removed]",
      "text/plain": [
       "<Figure size 432x288 with 1 Axes>"
      ]
     },
     "metadata": {
      "needs_background": "light"
     },
     "output_type": "display_data"
    }
   ],
   "source": [
    "world = geopandas.read_file(geopandas.datasets.get_path('naturalearth_lowres'))\n",
    "\n",
    "# We restrict to North America.\n",
    "ax = world[world.continent == 'North America'].plot(\n",
    "    color='white', edgecolor='black')\n",
    "\n",
    "# We can now plot our ``GeoDataFrame``.\n",
    "gdf.plot(ax=ax, color='red')\n",
    "\n",
    "plt.show()"
   ]
  },
  {
   "cell_type": "code",
   "execution_count": 8,
   "id": "7b5fe996",
   "metadata": {
    "execution": {
     "iopub.execute_input": "2022-05-25T13:59:10.039017Z",
     "iopub.status.busy": "2022-05-25T13:59:10.038684Z",
     "iopub.status.idle": "2022-05-25T13:59:16.687811Z",
     "shell.execute_reply": "2022-05-25T13:59:16.686854Z"
    },
    "papermill": {
     "duration": 6.669312,
     "end_time": "2022-05-25T13:59:16.689881",
     "exception": false,
     "start_time": "2022-05-25T13:59:10.020569",
     "status": "completed"
    },
    "tags": []
   },
   "outputs": [
    {
     "data": {
      "text/html": [
       "<div>\n",
       "<style scoped>\n",
       "    .dataframe tbody tr th:only-of-type {\n",
       "        vertical-align: middle;\n",
       "    }\n",
       "\n",
       "    .dataframe tbody tr th {\n",
       "        vertical-align: top;\n",
       "    }\n",
       "\n",
       "    .dataframe thead th {\n",
       "        text-align: right;\n",
       "    }\n",
       "</style>\n",
       "<table border=\"1\" class=\"dataframe\">\n",
       "  <thead>\n",
       "    <tr style=\"text-align: right;\">\n",
       "      <th></th>\n",
       "      <th>NAME</th>\n",
       "      <th>STATE_NAME</th>\n",
       "      <th>POP2000</th>\n",
       "      <th>shape_WKT</th>\n",
       "    </tr>\n",
       "  </thead>\n",
       "  <tbody>\n",
       "    <tr>\n",
       "      <th>0</th>\n",
       "      <td>Johnson</td>\n",
       "      <td>Iowa</td>\n",
       "      <td>111006</td>\n",
       "      <td>MULTIPOLYGON (((-91.37131301578644 41.42487775...</td>\n",
       "    </tr>\n",
       "    <tr>\n",
       "      <th>1</th>\n",
       "      <td>Johnson</td>\n",
       "      <td>Iowa</td>\n",
       "      <td>111006</td>\n",
       "      <td>MULTIPOLYGON (((-91.37131301578644 41.42487775...</td>\n",
       "    </tr>\n",
       "    <tr>\n",
       "      <th>2</th>\n",
       "      <td>Fremont</td>\n",
       "      <td>Iowa</td>\n",
       "      <td>8010</td>\n",
       "      <td>MULTIPOLYGON (((-95.3948932409456 40.908703148...</td>\n",
       "    </tr>\n",
       "    <tr>\n",
       "      <th>3</th>\n",
       "      <td>Fremont</td>\n",
       "      <td>Iowa</td>\n",
       "      <td>8010</td>\n",
       "      <td>MULTIPOLYGON (((-95.3948932409456 40.908703148...</td>\n",
       "    </tr>\n",
       "    <tr>\n",
       "      <th>4</th>\n",
       "      <td>Muscatine</td>\n",
       "      <td>Iowa</td>\n",
       "      <td>41722</td>\n",
       "      <td>MULTIPOLYGON (((-91.07342897262018 41.33492537...</td>\n",
       "    </tr>\n",
       "  </tbody>\n",
       "</table>\n",
       "</div>"
      ],
      "text/plain": [
       "        NAME STATE_NAME  POP2000  \\\n",
       "0    Johnson       Iowa   111006   \n",
       "1    Johnson       Iowa   111006   \n",
       "2    Fremont       Iowa     8010   \n",
       "3    Fremont       Iowa     8010   \n",
       "4  Muscatine       Iowa    41722   \n",
       "\n",
       "                                           shape_WKT  \n",
       "0  MULTIPOLYGON (((-91.37131301578644 41.42487775...  \n",
       "1  MULTIPOLYGON (((-91.37131301578644 41.42487775...  \n",
       "2  MULTIPOLYGON (((-95.3948932409456 40.908703148...  \n",
       "3  MULTIPOLYGON (((-95.3948932409456 40.908703148...  \n",
       "4  MULTIPOLYGON (((-91.07342897262018 41.33492537...  "
      ]
     },
     "execution_count": 8,
     "metadata": {},
     "output_type": "execute_result"
    }
   ],
   "source": [
    "df_counties = bigquery_client.query('''\n",
    "SELECT\n",
    "  NAME,\n",
    "  STATE_NAME,\n",
    "  POP2000,\n",
    "  shape_WKT\n",
    "FROM `flights-328723.hospitals.locations_all`\n",
    "''').result().to_dataframe(create_bqstorage_client=False)\n",
    "df_counties.head()"
   ]
  },
  {
   "cell_type": "code",
   "execution_count": 9,
   "id": "40175d1f",
   "metadata": {
    "execution": {
     "iopub.execute_input": "2022-05-25T13:59:16.726603Z",
     "iopub.status.busy": "2022-05-25T13:59:16.726320Z",
     "iopub.status.idle": "2022-05-25T13:59:16.731734Z",
     "shell.execute_reply": "2022-05-25T13:59:16.730860Z"
    },
    "papermill": {
     "duration": 0.02638,
     "end_time": "2022-05-25T13:59:16.733752",
     "exception": false,
     "start_time": "2022-05-25T13:59:16.707372",
     "status": "completed"
    },
    "tags": []
   },
   "outputs": [
    {
     "data": {
      "text/plain": [
       "(6282, 4)"
      ]
     },
     "execution_count": 9,
     "metadata": {},
     "output_type": "execute_result"
    }
   ],
   "source": [
    "df_counties.shape"
   ]
  },
  {
   "cell_type": "code",
   "execution_count": 10,
   "id": "e75499ae",
   "metadata": {
    "execution": {
     "iopub.execute_input": "2022-05-25T13:59:16.771665Z",
     "iopub.status.busy": "2022-05-25T13:59:16.771385Z",
     "iopub.status.idle": "2022-05-25T13:59:16.775913Z",
     "shell.execute_reply": "2022-05-25T13:59:16.775058Z"
    },
    "papermill": {
     "duration": 0.02558,
     "end_time": "2022-05-25T13:59:16.777869",
     "exception": false,
     "start_time": "2022-05-25T13:59:16.752289",
     "status": "completed"
    },
    "tags": []
   },
   "outputs": [],
   "source": [
    "def search_point(lat, lon):\n",
    "    \n",
    "    sql = bigquery_client.query(f'''\n",
    "    SELECT\n",
    "    NAME,\n",
    "    STATE_NAME,\n",
    "    POP2000,\n",
    "    shape_WKT\n",
    "    FROM `flights-328723.hospitals.locations_all`\n",
    "    WHERE ST_CONTAINS(SAFE.ST_GEOGFROMTEXT(shape_WKT), ST_GEOGPOINT({lat}, {lon}))\n",
    "    ''').result().to_dataframe(create_bqstorage_client=False)\n",
    "    return sql"
   ]
  },
  {
   "cell_type": "code",
   "execution_count": 11,
   "id": "89514150",
   "metadata": {
    "execution": {
     "iopub.execute_input": "2022-05-25T13:59:16.814478Z",
     "iopub.status.busy": "2022-05-25T13:59:16.814191Z",
     "iopub.status.idle": "2022-05-25T13:59:19.515661Z",
     "shell.execute_reply": "2022-05-25T13:59:19.514760Z"
    },
    "papermill": {
     "duration": 2.722241,
     "end_time": "2022-05-25T13:59:19.517809",
     "exception": false,
     "start_time": "2022-05-25T13:59:16.795568",
     "status": "completed"
    },
    "tags": []
   },
   "outputs": [
    {
     "data": {
      "text/html": [
       "<div>\n",
       "<style scoped>\n",
       "    .dataframe tbody tr th:only-of-type {\n",
       "        vertical-align: middle;\n",
       "    }\n",
       "\n",
       "    .dataframe tbody tr th {\n",
       "        vertical-align: top;\n",
       "    }\n",
       "\n",
       "    .dataframe thead th {\n",
       "        text-align: right;\n",
       "    }\n",
       "</style>\n",
       "<table border=\"1\" class=\"dataframe\">\n",
       "  <thead>\n",
       "    <tr style=\"text-align: right;\">\n",
       "      <th></th>\n",
       "      <th>NAME</th>\n",
       "      <th>STATE_NAME</th>\n",
       "      <th>POP2000</th>\n",
       "      <th>shape_WKT</th>\n",
       "    </tr>\n",
       "  </thead>\n",
       "  <tbody>\n",
       "    <tr>\n",
       "      <th>0</th>\n",
       "      <td>Ulster</td>\n",
       "      <td>New York</td>\n",
       "      <td>177749</td>\n",
       "      <td>MULTIPOLYGON (((-74.37041002098069 41.59433191...</td>\n",
       "    </tr>\n",
       "    <tr>\n",
       "      <th>1</th>\n",
       "      <td>Ulster</td>\n",
       "      <td>New York</td>\n",
       "      <td>177749</td>\n",
       "      <td>MULTIPOLYGON (((-74.37041002098069 41.59433191...</td>\n",
       "    </tr>\n",
       "  </tbody>\n",
       "</table>\n",
       "</div>"
      ],
      "text/plain": [
       "     NAME STATE_NAME  POP2000  \\\n",
       "0  Ulster   New York   177749   \n",
       "1  Ulster   New York   177749   \n",
       "\n",
       "                                           shape_WKT  \n",
       "0  MULTIPOLYGON (((-74.37041002098069 41.59433191...  \n",
       "1  MULTIPOLYGON (((-74.37041002098069 41.59433191...  "
      ]
     },
     "execution_count": 11,
     "metadata": {},
     "output_type": "execute_result"
    }
   ],
   "source": [
    "result = search_point(-74.237, 42.037)\n",
    "result"
   ]
  },
  {
   "cell_type": "code",
   "execution_count": 12,
   "id": "e38b7ffc",
   "metadata": {
    "execution": {
     "iopub.execute_input": "2022-05-25T13:59:19.556392Z",
     "iopub.status.busy": "2022-05-25T13:59:19.555551Z",
     "iopub.status.idle": "2022-05-25T13:59:19.559916Z",
     "shell.execute_reply": "2022-05-25T13:59:19.559358Z"
    },
    "papermill": {
     "duration": 0.025331,
     "end_time": "2022-05-25T13:59:19.561521",
     "exception": false,
     "start_time": "2022-05-25T13:59:19.536190",
     "status": "completed"
    },
    "tags": []
   },
   "outputs": [],
   "source": [
    "def search_hospitals(lat, lon, distance=50):\n",
    "  \n",
    "    sql = bigquery_client.query(f'''\n",
    "    SELECT\n",
    "    *,\n",
    "    ROUND(ST_DISTANCE(ST_GEOGPOINT(lon, lat), ST_GEOGPOINT({lat}, {lon})) / 1000, 2) as distance\n",
    "    FROM\n",
    "    `flights-328723.hospitals.hospitals_all`\n",
    "    WHERE\n",
    "    (ST_DISTANCE(ST_GEOGPOINT(lon, lat), ST_GEOGPOINT({lat}, {lon})) / 1000) < {distance}\n",
    "    ORDER BY 3\n",
    "    ''').result().to_dataframe(create_bqstorage_client=False)\n",
    "    return sql"
   ]
  },
  {
   "cell_type": "code",
   "execution_count": 13,
   "id": "4a74cb12",
   "metadata": {
    "execution": {
     "iopub.execute_input": "2022-05-25T13:59:19.599352Z",
     "iopub.status.busy": "2022-05-25T13:59:19.598655Z",
     "iopub.status.idle": "2022-05-25T13:59:20.969626Z",
     "shell.execute_reply": "2022-05-25T13:59:20.968838Z"
    },
    "papermill": {
     "duration": 1.392135,
     "end_time": "2022-05-25T13:59:20.971725",
     "exception": false,
     "start_time": "2022-05-25T13:59:19.579590",
     "status": "completed"
    },
    "tags": []
   },
   "outputs": [
    {
     "data": {
      "text/html": [
       "<div>\n",
       "<style scoped>\n",
       "    .dataframe tbody tr th:only-of-type {\n",
       "        vertical-align: middle;\n",
       "    }\n",
       "\n",
       "    .dataframe tbody tr th {\n",
       "        vertical-align: top;\n",
       "    }\n",
       "\n",
       "    .dataframe thead th {\n",
       "        text-align: right;\n",
       "    }\n",
       "</style>\n",
       "<table border=\"1\" class=\"dataframe\">\n",
       "  <thead>\n",
       "    <tr style=\"text-align: right;\">\n",
       "      <th></th>\n",
       "      <th>id</th>\n",
       "      <th>name</th>\n",
       "      <th>city</th>\n",
       "      <th>state</th>\n",
       "      <th>lon</th>\n",
       "      <th>lat</th>\n",
       "      <th>distance</th>\n",
       "    </tr>\n",
       "  </thead>\n",
       "  <tbody>\n",
       "    <tr>\n",
       "      <th>0</th>\n",
       "      <td>862</td>\n",
       "      <td>Park Avenue Hospital</td>\n",
       "      <td>BRIGHTON</td>\n",
       "      <td>NY</td>\n",
       "      <td>-77.574722</td>\n",
       "      <td>43.146732</td>\n",
       "      <td>0.00</td>\n",
       "    </tr>\n",
       "    <tr>\n",
       "      <th>1</th>\n",
       "      <td>5540</td>\n",
       "      <td>County Home and Infirmary</td>\n",
       "      <td>BRIGHTON</td>\n",
       "      <td>NY</td>\n",
       "      <td>-77.618614</td>\n",
       "      <td>43.113392</td>\n",
       "      <td>5.14</td>\n",
       "    </tr>\n",
       "    <tr>\n",
       "      <th>2</th>\n",
       "      <td>5561</td>\n",
       "      <td>Genesee Hospital</td>\n",
       "      <td>BRIGHTON</td>\n",
       "      <td>NY</td>\n",
       "      <td>-77.595009</td>\n",
       "      <td>43.150063</td>\n",
       "      <td>1.69</td>\n",
       "    </tr>\n",
       "    <tr>\n",
       "      <th>3</th>\n",
       "      <td>5573</td>\n",
       "      <td>Highland Hospital</td>\n",
       "      <td>BRIGHTON</td>\n",
       "      <td>NY</td>\n",
       "      <td>-77.605003</td>\n",
       "      <td>43.135620</td>\n",
       "      <td>2.75</td>\n",
       "    </tr>\n",
       "    <tr>\n",
       "      <th>4</th>\n",
       "      <td>5676</td>\n",
       "      <td>Saint Marys Hospital</td>\n",
       "      <td>BRIGHTON</td>\n",
       "      <td>NY</td>\n",
       "      <td>-77.636665</td>\n",
       "      <td>43.149231</td>\n",
       "      <td>5.03</td>\n",
       "    </tr>\n",
       "    <tr>\n",
       "      <th>5</th>\n",
       "      <td>5694</td>\n",
       "      <td>Strong Memorial Hospital</td>\n",
       "      <td>BRIGHTON</td>\n",
       "      <td>NY</td>\n",
       "      <td>-77.626396</td>\n",
       "      <td>43.122562</td>\n",
       "      <td>4.98</td>\n",
       "    </tr>\n",
       "    <tr>\n",
       "      <th>6</th>\n",
       "      <td>5587</td>\n",
       "      <td>Lakeside Memorial Hospital</td>\n",
       "      <td>BROCKPORT</td>\n",
       "      <td>NY</td>\n",
       "      <td>-77.944733</td>\n",
       "      <td>43.220890</td>\n",
       "      <td>31.11</td>\n",
       "    </tr>\n",
       "    <tr>\n",
       "      <th>7</th>\n",
       "      <td>5646</td>\n",
       "      <td>Rochester General Hospital</td>\n",
       "      <td>IRONDEQUOIT</td>\n",
       "      <td>NY</td>\n",
       "      <td>-77.586945</td>\n",
       "      <td>43.192001</td>\n",
       "      <td>5.13</td>\n",
       "    </tr>\n",
       "    <tr>\n",
       "      <th>8</th>\n",
       "      <td>846</td>\n",
       "      <td>Convalescent Hospital for Children</td>\n",
       "      <td>SCOTTSVILLE</td>\n",
       "      <td>NY</td>\n",
       "      <td>-77.702782</td>\n",
       "      <td>43.080063</td>\n",
       "      <td>12.77</td>\n",
       "    </tr>\n",
       "  </tbody>\n",
       "</table>\n",
       "</div>"
      ],
      "text/plain": [
       "     id                                name         city state        lon  \\\n",
       "0   862                Park Avenue Hospital     BRIGHTON    NY -77.574722   \n",
       "1  5540           County Home and Infirmary     BRIGHTON    NY -77.618614   \n",
       "2  5561                    Genesee Hospital     BRIGHTON    NY -77.595009   \n",
       "3  5573                   Highland Hospital     BRIGHTON    NY -77.605003   \n",
       "4  5676                Saint Marys Hospital     BRIGHTON    NY -77.636665   \n",
       "5  5694            Strong Memorial Hospital     BRIGHTON    NY -77.626396   \n",
       "6  5587          Lakeside Memorial Hospital    BROCKPORT    NY -77.944733   \n",
       "7  5646          Rochester General Hospital  IRONDEQUOIT    NY -77.586945   \n",
       "8   846  Convalescent Hospital for Children  SCOTTSVILLE    NY -77.702782   \n",
       "\n",
       "         lat  distance  \n",
       "0  43.146732      0.00  \n",
       "1  43.113392      5.14  \n",
       "2  43.150063      1.69  \n",
       "3  43.135620      2.75  \n",
       "4  43.149231      5.03  \n",
       "5  43.122562      4.98  \n",
       "6  43.220890     31.11  \n",
       "7  43.192001      5.13  \n",
       "8  43.080063     12.77  "
      ]
     },
     "execution_count": 13,
     "metadata": {},
     "output_type": "execute_result"
    }
   ],
   "source": [
    "point = (-77.574722, 43.146732)\n",
    "df = search_hospitals(*point)\n",
    "df"
   ]
  },
  {
   "cell_type": "code",
   "execution_count": 14,
   "id": "838788fd",
   "metadata": {
    "execution": {
     "iopub.execute_input": "2022-05-25T13:59:21.010390Z",
     "iopub.status.busy": "2022-05-25T13:59:21.010137Z",
     "iopub.status.idle": "2022-05-25T13:59:21.015679Z",
     "shell.execute_reply": "2022-05-25T13:59:21.014815Z"
    },
    "papermill": {
     "duration": 0.027089,
     "end_time": "2022-05-25T13:59:21.017576",
     "exception": false,
     "start_time": "2022-05-25T13:59:20.990487",
     "status": "completed"
    },
    "tags": []
   },
   "outputs": [],
   "source": [
    "gdf = geopandas.GeoDataFrame(\n",
    "    df, geometry=geopandas.points_from_xy(df.lon, df.lat))"
   ]
  },
  {
   "cell_type": "code",
   "execution_count": 15,
   "id": "9ec94d18",
   "metadata": {
    "execution": {
     "iopub.execute_input": "2022-05-25T13:59:21.056020Z",
     "iopub.status.busy": "2022-05-25T13:59:21.055550Z",
     "iopub.status.idle": "2022-05-25T13:59:21.103248Z",
     "shell.execute_reply": "2022-05-25T13:59:21.102322Z"
    },
    "papermill": {
     "duration": 0.069528,
     "end_time": "2022-05-25T13:59:21.105477",
     "exception": false,
     "start_time": "2022-05-25T13:59:21.035949",
     "status": "completed"
    },
    "tags": []
   },
   "outputs": [
    {
     "data": {
      "text/html": [
       "<div style=\"width:100%;\"><div style=\"position:relative;width:100%;height:0;padding-bottom:60%;\"><span style=\"color:#565656\">Make this Notebook Trusted to load map: File -> Trust Notebook</span><iframe srcdoc=\"&lt;!DOCTYPE html&gt;\n",
       "&lt;head&gt;    \n",
       "    &lt;meta http-equiv=&quot;content-type&quot; content=&quot;text/html; charset=UTF-8&quot; /&gt;\n",
       "    \n",
       "        &lt;script&gt;\n",
       "            L_NO_TOUCH = false;\n",
       "            L_DISABLE_3D = false;\n",
       "        &lt;/script&gt;\n",
       "    \n",
       "    &lt;style&gt;html, body {width: 100%;height: 100%;margin: 0;padding: 0;}&lt;/style&gt;\n",
       "    &lt;style&gt;#map {position:absolute;top:0;bottom:0;right:0;left:0;}&lt;/style&gt;\n",
       "    &lt;script src=&quot;https://cdn.jsdelivr.net/npm/leaflet@1.6.0/dist/leaflet.js&quot;&gt;&lt;/script&gt;\n",
       "    &lt;script src=&quot;https://code.jquery.com/jquery-1.12.4.min.js&quot;&gt;&lt;/script&gt;\n",
       "    &lt;script src=&quot;https://maxcdn.bootstrapcdn.com/bootstrap/3.2.0/js/bootstrap.min.js&quot;&gt;&lt;/script&gt;\n",
       "    &lt;script src=&quot;https://cdnjs.cloudflare.com/ajax/libs/Leaflet.awesome-markers/2.0.2/leaflet.awesome-markers.js&quot;&gt;&lt;/script&gt;\n",
       "    &lt;link rel=&quot;stylesheet&quot; href=&quot;https://cdn.jsdelivr.net/npm/leaflet@1.6.0/dist/leaflet.css&quot;/&gt;\n",
       "    &lt;link rel=&quot;stylesheet&quot; href=&quot;https://maxcdn.bootstrapcdn.com/bootstrap/3.2.0/css/bootstrap.min.css&quot;/&gt;\n",
       "    &lt;link rel=&quot;stylesheet&quot; href=&quot;https://maxcdn.bootstrapcdn.com/bootstrap/3.2.0/css/bootstrap-theme.min.css&quot;/&gt;\n",
       "    &lt;link rel=&quot;stylesheet&quot; href=&quot;https://maxcdn.bootstrapcdn.com/font-awesome/4.6.3/css/font-awesome.min.css&quot;/&gt;\n",
       "    &lt;link rel=&quot;stylesheet&quot; href=&quot;https://cdnjs.cloudflare.com/ajax/libs/Leaflet.awesome-markers/2.0.2/leaflet.awesome-markers.css&quot;/&gt;\n",
       "    &lt;link rel=&quot;stylesheet&quot; href=&quot;https://cdn.jsdelivr.net/gh/python-visualization/folium/folium/templates/leaflet.awesome.rotate.min.css&quot;/&gt;\n",
       "    \n",
       "            &lt;meta name=&quot;viewport&quot; content=&quot;width=device-width,\n",
       "                initial-scale=1.0, maximum-scale=1.0, user-scalable=no&quot; /&gt;\n",
       "            &lt;style&gt;\n",
       "                #map_89074ce452e2fc1d490dc6ffb6a30f16 {\n",
       "                    position: relative;\n",
       "                    width: 100.0%;\n",
       "                    height: 100.0%;\n",
       "                    left: 0.0%;\n",
       "                    top: 0.0%;\n",
       "                }\n",
       "            &lt;/style&gt;\n",
       "        \n",
       "&lt;/head&gt;\n",
       "&lt;body&gt;    \n",
       "    \n",
       "            &lt;div class=&quot;folium-map&quot; id=&quot;map_89074ce452e2fc1d490dc6ffb6a30f16&quot; &gt;&lt;/div&gt;\n",
       "        \n",
       "&lt;/body&gt;\n",
       "&lt;script&gt;    \n",
       "    \n",
       "            var map_89074ce452e2fc1d490dc6ffb6a30f16 = L.map(\n",
       "                &quot;map_89074ce452e2fc1d490dc6ffb6a30f16&quot;,\n",
       "                {\n",
       "                    center: [43.146732, -77.574722],\n",
       "                    crs: L.CRS.EPSG3857,\n",
       "                    zoom: 8,\n",
       "                    zoomControl: true,\n",
       "                    preferCanvas: false,\n",
       "                }\n",
       "            );\n",
       "\n",
       "            \n",
       "\n",
       "        \n",
       "    \n",
       "            var tile_layer_9e519553c87064c04dc0bd3a68cd9e49 = L.tileLayer(\n",
       "                &quot;https://cartodb-basemaps-{s}.global.ssl.fastly.net/light_all/{z}/{x}/{y}.png&quot;,\n",
       "                {&quot;attribution&quot;: &quot;\\u0026copy; \\u003ca href=\\&quot;http://www.openstreetmap.org/copyright\\&quot;\\u003eOpenStreetMap\\u003c/a\\u003e contributors \\u0026copy; \\u003ca href=\\&quot;http://cartodb.com/attributions\\&quot;\\u003eCartoDB\\u003c/a\\u003e, CartoDB \\u003ca href =\\&quot;http://cartodb.com/attributions\\&quot;\\u003eattributions\\u003c/a\\u003e&quot;, &quot;detectRetina&quot;: false, &quot;maxNativeZoom&quot;: 16, &quot;maxZoom&quot;: 16, &quot;minZoom&quot;: 5, &quot;noWrap&quot;: false, &quot;opacity&quot;: 1, &quot;subdomains&quot;: &quot;abc&quot;, &quot;tms&quot;: false}\n",
       "            ).addTo(map_89074ce452e2fc1d490dc6ffb6a30f16);\n",
       "        \n",
       "    \n",
       "            var marker_fb13a4a6e1642c1dd6e27cac3dd3e881 = L.marker(\n",
       "                [43.146732, -77.574722],\n",
       "                {}\n",
       "            ).addTo(map_89074ce452e2fc1d490dc6ffb6a30f16);\n",
       "        \n",
       "    \n",
       "            var icon_2bcb52a1633d264da6826fadbf646e25 = L.AwesomeMarkers.icon(\n",
       "                {&quot;extraClasses&quot;: &quot;fa-rotate-0&quot;, &quot;icon&quot;: &quot;info&quot;, &quot;iconColor&quot;: &quot;white&quot;, &quot;markerColor&quot;: &quot;blue&quot;, &quot;prefix&quot;: &quot;fa&quot;}\n",
       "            );\n",
       "            marker_fb13a4a6e1642c1dd6e27cac3dd3e881.setIcon(icon_2bcb52a1633d264da6826fadbf646e25);\n",
       "        \n",
       "    \n",
       "        var popup_7e610e9ecaeb224f126de177d3bf83c1 = L.popup({&quot;maxWidth&quot;: &quot;100%&quot;});\n",
       "\n",
       "        \n",
       "            var html_6c774029c7fa066d384846927b43439d = $(`&lt;div id=&quot;html_6c774029c7fa066d384846927b43439d&quot; style=&quot;width: 100.0%; height: 100.0%;&quot;&gt;Park Avenue Hospital&lt;/div&gt;`)[0];\n",
       "            popup_7e610e9ecaeb224f126de177d3bf83c1.setContent(html_6c774029c7fa066d384846927b43439d);\n",
       "        \n",
       "\n",
       "        marker_fb13a4a6e1642c1dd6e27cac3dd3e881.bindPopup(popup_7e610e9ecaeb224f126de177d3bf83c1)\n",
       "        ;\n",
       "\n",
       "        \n",
       "    \n",
       "    \n",
       "            var marker_43d67e032807e1136a0cbbf7c35be5e6 = L.marker(\n",
       "                [43.113392, -77.618614],\n",
       "                {}\n",
       "            ).addTo(map_89074ce452e2fc1d490dc6ffb6a30f16);\n",
       "        \n",
       "    \n",
       "            var icon_28783f509d0dc76b653abf6916b534a8 = L.AwesomeMarkers.icon(\n",
       "                {&quot;extraClasses&quot;: &quot;fa-rotate-0&quot;, &quot;icon&quot;: &quot;info&quot;, &quot;iconColor&quot;: &quot;white&quot;, &quot;markerColor&quot;: &quot;blue&quot;, &quot;prefix&quot;: &quot;fa&quot;}\n",
       "            );\n",
       "            marker_43d67e032807e1136a0cbbf7c35be5e6.setIcon(icon_28783f509d0dc76b653abf6916b534a8);\n",
       "        \n",
       "    \n",
       "        var popup_974fa3591032083eeeb9ab76bbfe8b1d = L.popup({&quot;maxWidth&quot;: &quot;100%&quot;});\n",
       "\n",
       "        \n",
       "            var html_d2ba2eb8a622b24f1663b3809e01fd8c = $(`&lt;div id=&quot;html_d2ba2eb8a622b24f1663b3809e01fd8c&quot; style=&quot;width: 100.0%; height: 100.0%;&quot;&gt;County Home and Infirmary&lt;/div&gt;`)[0];\n",
       "            popup_974fa3591032083eeeb9ab76bbfe8b1d.setContent(html_d2ba2eb8a622b24f1663b3809e01fd8c);\n",
       "        \n",
       "\n",
       "        marker_43d67e032807e1136a0cbbf7c35be5e6.bindPopup(popup_974fa3591032083eeeb9ab76bbfe8b1d)\n",
       "        ;\n",
       "\n",
       "        \n",
       "    \n",
       "    \n",
       "            var marker_912527b6efac8014d1012ad087725f51 = L.marker(\n",
       "                [43.150063, -77.595009],\n",
       "                {}\n",
       "            ).addTo(map_89074ce452e2fc1d490dc6ffb6a30f16);\n",
       "        \n",
       "    \n",
       "            var icon_a0bc3c8cb1f4462ae4833ab9832cf76a = L.AwesomeMarkers.icon(\n",
       "                {&quot;extraClasses&quot;: &quot;fa-rotate-0&quot;, &quot;icon&quot;: &quot;info&quot;, &quot;iconColor&quot;: &quot;white&quot;, &quot;markerColor&quot;: &quot;blue&quot;, &quot;prefix&quot;: &quot;fa&quot;}\n",
       "            );\n",
       "            marker_912527b6efac8014d1012ad087725f51.setIcon(icon_a0bc3c8cb1f4462ae4833ab9832cf76a);\n",
       "        \n",
       "    \n",
       "        var popup_387c0fc1855d94c09b8bcaf1b9484f99 = L.popup({&quot;maxWidth&quot;: &quot;100%&quot;});\n",
       "\n",
       "        \n",
       "            var html_c6fc50c4aa9c7bc7923218afe89fb0c2 = $(`&lt;div id=&quot;html_c6fc50c4aa9c7bc7923218afe89fb0c2&quot; style=&quot;width: 100.0%; height: 100.0%;&quot;&gt;Genesee Hospital&lt;/div&gt;`)[0];\n",
       "            popup_387c0fc1855d94c09b8bcaf1b9484f99.setContent(html_c6fc50c4aa9c7bc7923218afe89fb0c2);\n",
       "        \n",
       "\n",
       "        marker_912527b6efac8014d1012ad087725f51.bindPopup(popup_387c0fc1855d94c09b8bcaf1b9484f99)\n",
       "        ;\n",
       "\n",
       "        \n",
       "    \n",
       "    \n",
       "            var marker_5d33dfb76c58e1cb251734e9c8cd4187 = L.marker(\n",
       "                [43.13562, -77.605003],\n",
       "                {}\n",
       "            ).addTo(map_89074ce452e2fc1d490dc6ffb6a30f16);\n",
       "        \n",
       "    \n",
       "            var icon_8bca611c4c354bc715a2d0a59d438dbb = L.AwesomeMarkers.icon(\n",
       "                {&quot;extraClasses&quot;: &quot;fa-rotate-0&quot;, &quot;icon&quot;: &quot;info&quot;, &quot;iconColor&quot;: &quot;white&quot;, &quot;markerColor&quot;: &quot;blue&quot;, &quot;prefix&quot;: &quot;fa&quot;}\n",
       "            );\n",
       "            marker_5d33dfb76c58e1cb251734e9c8cd4187.setIcon(icon_8bca611c4c354bc715a2d0a59d438dbb);\n",
       "        \n",
       "    \n",
       "        var popup_190209105425a57208129cf274a12738 = L.popup({&quot;maxWidth&quot;: &quot;100%&quot;});\n",
       "\n",
       "        \n",
       "            var html_37df80c4d8ff5acad16b568f868077b3 = $(`&lt;div id=&quot;html_37df80c4d8ff5acad16b568f868077b3&quot; style=&quot;width: 100.0%; height: 100.0%;&quot;&gt;Highland Hospital&lt;/div&gt;`)[0];\n",
       "            popup_190209105425a57208129cf274a12738.setContent(html_37df80c4d8ff5acad16b568f868077b3);\n",
       "        \n",
       "\n",
       "        marker_5d33dfb76c58e1cb251734e9c8cd4187.bindPopup(popup_190209105425a57208129cf274a12738)\n",
       "        ;\n",
       "\n",
       "        \n",
       "    \n",
       "    \n",
       "            var marker_16dee0d212859cd0b147e06e12eb8e56 = L.marker(\n",
       "                [43.149231, -77.636665],\n",
       "                {}\n",
       "            ).addTo(map_89074ce452e2fc1d490dc6ffb6a30f16);\n",
       "        \n",
       "    \n",
       "            var icon_ffb8e5cc397fe3411d8602c5383fb658 = L.AwesomeMarkers.icon(\n",
       "                {&quot;extraClasses&quot;: &quot;fa-rotate-0&quot;, &quot;icon&quot;: &quot;info&quot;, &quot;iconColor&quot;: &quot;white&quot;, &quot;markerColor&quot;: &quot;blue&quot;, &quot;prefix&quot;: &quot;fa&quot;}\n",
       "            );\n",
       "            marker_16dee0d212859cd0b147e06e12eb8e56.setIcon(icon_ffb8e5cc397fe3411d8602c5383fb658);\n",
       "        \n",
       "    \n",
       "        var popup_8a94386876ee16aff8bdd2bc8df8780a = L.popup({&quot;maxWidth&quot;: &quot;100%&quot;});\n",
       "\n",
       "        \n",
       "            var html_83fef372bfe16cf82200f079596139db = $(`&lt;div id=&quot;html_83fef372bfe16cf82200f079596139db&quot; style=&quot;width: 100.0%; height: 100.0%;&quot;&gt;Saint Marys Hospital&lt;/div&gt;`)[0];\n",
       "            popup_8a94386876ee16aff8bdd2bc8df8780a.setContent(html_83fef372bfe16cf82200f079596139db);\n",
       "        \n",
       "\n",
       "        marker_16dee0d212859cd0b147e06e12eb8e56.bindPopup(popup_8a94386876ee16aff8bdd2bc8df8780a)\n",
       "        ;\n",
       "\n",
       "        \n",
       "    \n",
       "    \n",
       "            var marker_3499bfd8d09960e11bd3deff6da28852 = L.marker(\n",
       "                [43.122562, -77.626396],\n",
       "                {}\n",
       "            ).addTo(map_89074ce452e2fc1d490dc6ffb6a30f16);\n",
       "        \n",
       "    \n",
       "            var icon_343a81b65a93c5242437049d07a89b9d = L.AwesomeMarkers.icon(\n",
       "                {&quot;extraClasses&quot;: &quot;fa-rotate-0&quot;, &quot;icon&quot;: &quot;info&quot;, &quot;iconColor&quot;: &quot;white&quot;, &quot;markerColor&quot;: &quot;blue&quot;, &quot;prefix&quot;: &quot;fa&quot;}\n",
       "            );\n",
       "            marker_3499bfd8d09960e11bd3deff6da28852.setIcon(icon_343a81b65a93c5242437049d07a89b9d);\n",
       "        \n",
       "    \n",
       "        var popup_bc04187c4b6ebbdeea52e8a689a9c169 = L.popup({&quot;maxWidth&quot;: &quot;100%&quot;});\n",
       "\n",
       "        \n",
       "            var html_38f3794617316374c653cd3c19eb2b4f = $(`&lt;div id=&quot;html_38f3794617316374c653cd3c19eb2b4f&quot; style=&quot;width: 100.0%; height: 100.0%;&quot;&gt;Strong Memorial Hospital&lt;/div&gt;`)[0];\n",
       "            popup_bc04187c4b6ebbdeea52e8a689a9c169.setContent(html_38f3794617316374c653cd3c19eb2b4f);\n",
       "        \n",
       "\n",
       "        marker_3499bfd8d09960e11bd3deff6da28852.bindPopup(popup_bc04187c4b6ebbdeea52e8a689a9c169)\n",
       "        ;\n",
       "\n",
       "        \n",
       "    \n",
       "    \n",
       "            var marker_2d26d51c6b145a5efe6e5dd98f40ae12 = L.marker(\n",
       "                [43.22089, -77.944733],\n",
       "                {}\n",
       "            ).addTo(map_89074ce452e2fc1d490dc6ffb6a30f16);\n",
       "        \n",
       "    \n",
       "            var icon_747acfa7e18b97f6f4e4d9bf1398a6c8 = L.AwesomeMarkers.icon(\n",
       "                {&quot;extraClasses&quot;: &quot;fa-rotate-0&quot;, &quot;icon&quot;: &quot;info&quot;, &quot;iconColor&quot;: &quot;white&quot;, &quot;markerColor&quot;: &quot;blue&quot;, &quot;prefix&quot;: &quot;fa&quot;}\n",
       "            );\n",
       "            marker_2d26d51c6b145a5efe6e5dd98f40ae12.setIcon(icon_747acfa7e18b97f6f4e4d9bf1398a6c8);\n",
       "        \n",
       "    \n",
       "        var popup_1b43674a5abb629829834d40f1392be9 = L.popup({&quot;maxWidth&quot;: &quot;100%&quot;});\n",
       "\n",
       "        \n",
       "            var html_04caad03a9fb558157dabd7b3f0659ae = $(`&lt;div id=&quot;html_04caad03a9fb558157dabd7b3f0659ae&quot; style=&quot;width: 100.0%; height: 100.0%;&quot;&gt;Lakeside Memorial Hospital&lt;/div&gt;`)[0];\n",
       "            popup_1b43674a5abb629829834d40f1392be9.setContent(html_04caad03a9fb558157dabd7b3f0659ae);\n",
       "        \n",
       "\n",
       "        marker_2d26d51c6b145a5efe6e5dd98f40ae12.bindPopup(popup_1b43674a5abb629829834d40f1392be9)\n",
       "        ;\n",
       "\n",
       "        \n",
       "    \n",
       "    \n",
       "            var marker_b6cfbf292fde4c78b28e6410c3a674a6 = L.marker(\n",
       "                [43.192001, -77.586945],\n",
       "                {}\n",
       "            ).addTo(map_89074ce452e2fc1d490dc6ffb6a30f16);\n",
       "        \n",
       "    \n",
       "            var icon_806bb18d98b7d4039b0a84350cf3e00e = L.AwesomeMarkers.icon(\n",
       "                {&quot;extraClasses&quot;: &quot;fa-rotate-0&quot;, &quot;icon&quot;: &quot;info&quot;, &quot;iconColor&quot;: &quot;white&quot;, &quot;markerColor&quot;: &quot;blue&quot;, &quot;prefix&quot;: &quot;fa&quot;}\n",
       "            );\n",
       "            marker_b6cfbf292fde4c78b28e6410c3a674a6.setIcon(icon_806bb18d98b7d4039b0a84350cf3e00e);\n",
       "        \n",
       "    \n",
       "        var popup_a0f9a968728003f61860f74904de5e61 = L.popup({&quot;maxWidth&quot;: &quot;100%&quot;});\n",
       "\n",
       "        \n",
       "            var html_cfa49503601a253105f563a0641c600b = $(`&lt;div id=&quot;html_cfa49503601a253105f563a0641c600b&quot; style=&quot;width: 100.0%; height: 100.0%;&quot;&gt;Rochester General Hospital&lt;/div&gt;`)[0];\n",
       "            popup_a0f9a968728003f61860f74904de5e61.setContent(html_cfa49503601a253105f563a0641c600b);\n",
       "        \n",
       "\n",
       "        marker_b6cfbf292fde4c78b28e6410c3a674a6.bindPopup(popup_a0f9a968728003f61860f74904de5e61)\n",
       "        ;\n",
       "\n",
       "        \n",
       "    \n",
       "    \n",
       "            var marker_fb61569fb45ec9000fdefd1fb2fff2c4 = L.marker(\n",
       "                [43.080063, -77.702782],\n",
       "                {}\n",
       "            ).addTo(map_89074ce452e2fc1d490dc6ffb6a30f16);\n",
       "        \n",
       "    \n",
       "            var icon_27aaf049d32c702b88e2be82088a2ba9 = L.AwesomeMarkers.icon(\n",
       "                {&quot;extraClasses&quot;: &quot;fa-rotate-0&quot;, &quot;icon&quot;: &quot;info&quot;, &quot;iconColor&quot;: &quot;white&quot;, &quot;markerColor&quot;: &quot;blue&quot;, &quot;prefix&quot;: &quot;fa&quot;}\n",
       "            );\n",
       "            marker_fb61569fb45ec9000fdefd1fb2fff2c4.setIcon(icon_27aaf049d32c702b88e2be82088a2ba9);\n",
       "        \n",
       "    \n",
       "        var popup_a435b17f58a68964aff5f58444aaedfb = L.popup({&quot;maxWidth&quot;: &quot;100%&quot;});\n",
       "\n",
       "        \n",
       "            var html_d0fdecbed64ffb2b5d42057b7d60fbab = $(`&lt;div id=&quot;html_d0fdecbed64ffb2b5d42057b7d60fbab&quot; style=&quot;width: 100.0%; height: 100.0%;&quot;&gt;Convalescent Hospital for Children&lt;/div&gt;`)[0];\n",
       "            popup_a435b17f58a68964aff5f58444aaedfb.setContent(html_d0fdecbed64ffb2b5d42057b7d60fbab);\n",
       "        \n",
       "\n",
       "        marker_fb61569fb45ec9000fdefd1fb2fff2c4.bindPopup(popup_a435b17f58a68964aff5f58444aaedfb)\n",
       "        ;\n",
       "\n",
       "        \n",
       "    \n",
       "&lt;/script&gt;\" style=\"position:absolute;width:100%;height:100%;left:0;top:0;border:none !important;\" allowfullscreen webkitallowfullscreen mozallowfullscreen></iframe></div></div>"
      ],
      "text/plain": [
       "<folium.folium.Map at 0x7fd0add6f410>"
      ]
     },
     "execution_count": 15,
     "metadata": {},
     "output_type": "execute_result"
    }
   ],
   "source": [
    "x_loc = gdf.iloc[0][\"geometry\"].y\n",
    "y_loc = gdf.iloc[0][\"geometry\"].x\n",
    "\n",
    "m = folium.Map(location=[x_loc, y_loc], \n",
    "               zoom_start=8,\n",
    "               min_zoom=5, \n",
    "               max_zoom=16,\n",
    "               tiles='CartoDB positron')\n",
    "\n",
    "for i in range(len(gdf)):\n",
    "  lat = gdf.iloc[i][\"geometry\"].y\n",
    "  lon = gdf.iloc[i][\"geometry\"].x\n",
    "  folium.Marker([lat, lon], \n",
    "                popup=gdf.iloc[i][\"name\"],\n",
    "                icon=folium.Icon(icon_color='white', \n",
    "                                icon='info', \n",
    "                                angle=0, \n",
    "                                prefix='fa'),\n",
    "                ).add_to(m)\n",
    "\n",
    "m"
   ]
  },
  {
   "cell_type": "code",
   "execution_count": 16,
   "id": "5257e3ee",
   "metadata": {
    "execution": {
     "iopub.execute_input": "2022-05-25T13:59:21.147324Z",
     "iopub.status.busy": "2022-05-25T13:59:21.147032Z",
     "iopub.status.idle": "2022-05-25T13:59:21.150345Z",
     "shell.execute_reply": "2022-05-25T13:59:21.149796Z"
    },
    "papermill": {
     "duration": 0.025406,
     "end_time": "2022-05-25T13:59:21.151943",
     "exception": false,
     "start_time": "2022-05-25T13:59:21.126537",
     "status": "completed"
    },
    "tags": []
   },
   "outputs": [],
   "source": [
    "state_name = \"New York\""
   ]
  },
  {
   "cell_type": "code",
   "execution_count": 17,
   "id": "63258a8e",
   "metadata": {
    "execution": {
     "iopub.execute_input": "2022-05-25T13:59:21.191837Z",
     "iopub.status.busy": "2022-05-25T13:59:21.191581Z",
     "iopub.status.idle": "2022-05-25T13:59:22.607305Z",
     "shell.execute_reply": "2022-05-25T13:59:22.606578Z"
    },
    "papermill": {
     "duration": 1.438148,
     "end_time": "2022-05-25T13:59:22.609330",
     "exception": false,
     "start_time": "2022-05-25T13:59:21.171182",
     "status": "completed"
    },
    "tags": []
   },
   "outputs": [
    {
     "data": {
      "text/html": [
       "<div>\n",
       "<style scoped>\n",
       "    .dataframe tbody tr th:only-of-type {\n",
       "        vertical-align: middle;\n",
       "    }\n",
       "\n",
       "    .dataframe tbody tr th {\n",
       "        vertical-align: top;\n",
       "    }\n",
       "\n",
       "    .dataframe thead th {\n",
       "        text-align: right;\n",
       "    }\n",
       "</style>\n",
       "<table border=\"1\" class=\"dataframe\">\n",
       "  <thead>\n",
       "    <tr style=\"text-align: right;\">\n",
       "      <th></th>\n",
       "      <th>NAME</th>\n",
       "      <th>hospital_count</th>\n",
       "      <th>Population</th>\n",
       "      <th>people_per_hospital</th>\n",
       "    </tr>\n",
       "  </thead>\n",
       "  <tbody>\n",
       "    <tr>\n",
       "      <th>0</th>\n",
       "      <td>Kings</td>\n",
       "      <td>52</td>\n",
       "      <td>2465326</td>\n",
       "      <td>47410.0</td>\n",
       "    </tr>\n",
       "    <tr>\n",
       "      <th>1</th>\n",
       "      <td>Queens</td>\n",
       "      <td>38</td>\n",
       "      <td>2229379</td>\n",
       "      <td>58668.0</td>\n",
       "    </tr>\n",
       "    <tr>\n",
       "      <th>2</th>\n",
       "      <td>New York</td>\n",
       "      <td>44</td>\n",
       "      <td>1537195</td>\n",
       "      <td>34936.0</td>\n",
       "    </tr>\n",
       "    <tr>\n",
       "      <th>3</th>\n",
       "      <td>Suffolk</td>\n",
       "      <td>30</td>\n",
       "      <td>1419369</td>\n",
       "      <td>47312.0</td>\n",
       "    </tr>\n",
       "    <tr>\n",
       "      <th>4</th>\n",
       "      <td>Nassau</td>\n",
       "      <td>22</td>\n",
       "      <td>1334544</td>\n",
       "      <td>60661.0</td>\n",
       "    </tr>\n",
       "  </tbody>\n",
       "</table>\n",
       "</div>"
      ],
      "text/plain": [
       "       NAME  hospital_count  Population  people_per_hospital\n",
       "0     Kings              52     2465326              47410.0\n",
       "1    Queens              38     2229379              58668.0\n",
       "2  New York              44     1537195              34936.0\n",
       "3   Suffolk              30     1419369              47312.0\n",
       "4    Nassau              22     1334544              60661.0"
      ]
     },
     "execution_count": 17,
     "metadata": {},
     "output_type": "execute_result"
    }
   ],
   "source": [
    "df = bigquery_client.query(f'''\n",
    "SELECT\n",
    "  c.NAME,\n",
    "  COUNT(h.name) AS hospital_count,\n",
    "  c.POP2000 AS Population,\n",
    "  ROUND(c.POP2000/COUNT(h.name),0) AS people_per_hospital\n",
    "FROM\n",
    "  `hospitals.locations_all` AS c,\n",
    "  `hospitals.hospitals_all` AS h\n",
    "WHERE\n",
    "  c.STATE_NAME='{state_name}'\n",
    "  AND ST_CONTAINS(SAFE.ST_GEOGFROMTEXT(c.shape_WKT), \n",
    "  ST_GEOGPOINT(h.lon, h.lat))\n",
    "GROUP BY\n",
    "  c.NAME,\n",
    "  c.POP2000\n",
    "ORDER BY\n",
    "  Population DESC\n",
    " ''').result().to_dataframe(create_bqstorage_client=False)\n",
    "  \n",
    "df.head()"
   ]
  },
  {
   "cell_type": "code",
   "execution_count": null,
   "id": "d137a27a",
   "metadata": {
    "papermill": {
     "duration": 0.019804,
     "end_time": "2022-05-25T13:59:22.648924",
     "exception": false,
     "start_time": "2022-05-25T13:59:22.629120",
     "status": "completed"
    },
    "tags": []
   },
   "outputs": [],
   "source": []
  }
 ],
 "metadata": {
  "kernelspec": {
   "display_name": "Python 3",
   "language": "python",
   "name": "python3"
  },
  "language_info": {
   "codemirror_mode": {
    "name": "ipython",
    "version": 3
   },
   "file_extension": ".py",
   "mimetype": "text/x-python",
   "name": "python",
   "nbconvert_exporter": "python",
   "pygments_lexer": "ipython3",
   "version": "3.7.12"
  },
  "papermill": {
   "default_parameters": {},
   "duration": 27.761899,
   "end_time": "2022-05-25T13:59:23.289273",
   "environment_variables": {},
   "exception": null,
   "input_path": "__notebook__.ipynb",
   "output_path": "__notebook__.ipynb",
   "parameters": {},
   "start_time": "2022-05-25T13:58:55.527374",
   "version": "2.3.4"
  }
 },
 "nbformat": 4,
 "nbformat_minor": 5
}
